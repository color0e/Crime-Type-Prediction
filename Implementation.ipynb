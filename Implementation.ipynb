{
 "cells": [
  {
   "cell_type": "code",
   "execution_count": 163,
   "metadata": {},
   "outputs": [],
   "source": [
    "from time import time\n",
    "start_time = time()\n",
    "import pandas as pd\n",
    "import matplotlib.pyplot as plt\n",
    "import numpy as np\n",
    "import datetime\n",
    "import sys\n",
    "from prettytable import PrettyTable"
   ]
  },
  {
   "cell_type": "code",
   "execution_count": 119,
   "metadata": {},
   "outputs": [],
   "source": [
    "num_days = 7\n",
    "num_months = 12\n",
    "num_time_range = 6\n",
    "num_n_d = 78"
   ]
  },
  {
   "cell_type": "code",
   "execution_count": 120,
   "metadata": {},
   "outputs": [],
   "source": [
    "def show_details(df,f):\n",
    "    if(f==0):\n",
    "        print(df.index)\n",
    "        print(len(df.columns))\n",
    "        print(df.columns)\n",
    "        print(df.head(5))\n",
    "    else:\n",
    "        print(df)\n",
    "        print(len(df))\n",
    "    h = 0"
   ]
  },
  {
   "cell_type": "code",
   "execution_count": 121,
   "metadata": {},
   "outputs": [],
   "source": [
    "def graph_a(f):\n",
    "    if(f==1):\n",
    "        plt.ylabel('Percentage')\n",
    "    plt.grid(True)\n",
    "    plt.show()\n",
    "    \n",
    "def graph_b(array):\n",
    "    plt.stem(array)\n",
    "    graph_a(0)\n",
    "#     print(array)"
   ]
  },
  {
   "cell_type": "code",
   "execution_count": 122,
   "metadata": {},
   "outputs": [],
   "source": [
    "# Formatting date time string to segregate individual values\n",
    "def convert(x):\n",
    "    y = \"\"\n",
    "    f = 0\n",
    "    for j in range(len(x)):\n",
    "        if(x[j]==' ' or x[j]==':'):\n",
    "            if(x[j+1]=='A' or x[j+1]=='P'):\n",
    "                if(x[j+1]=='A'):\n",
    "                    f=1\n",
    "                break\n",
    "            else:\n",
    "                y= y + '/'      \n",
    "        else:\n",
    "            y = y + x[j]\n",
    "    month, day, year , hour , minutes , seconds = (int(t) for t in y.split('/')) \n",
    "    return month, day, year , hour , minutes , seconds , f"
   ]
  },
  {
   "cell_type": "code",
   "execution_count": 123,
   "metadata": {},
   "outputs": [],
   "source": [
    "# Mapping hour range to its corresponding type for Denver\n",
    "def conversion(hour,f):\n",
    "    if(f==1):\n",
    "        if(hour>=1 and hour<=4):\n",
    "            return 1\n",
    "        elif(hour>=5 and hour<=8):\n",
    "            return 2 \n",
    "        elif(hour>=9 and hour<=11):\n",
    "            return 3\n",
    "        else:\n",
    "            return 6\n",
    "    else:\n",
    "        if(hour==12):\n",
    "            return 3\n",
    "        elif(hour>=1 and hour<=4):\n",
    "            return 4\n",
    "        elif(hour>=5 and hour<=8):\n",
    "            return 5\n",
    "        else:\n",
    "            return 6"
   ]
  },
  {
   "cell_type": "code",
   "execution_count": 124,
   "metadata": {},
   "outputs": [],
   "source": [
    "# Mapping hour range to its corresponding type for Los Angeles\n",
    "def conv(x):\n",
    "    if(x>=1 and x<=4):\n",
    "        return 1\n",
    "    elif(x>=5 and x<=8):\n",
    "        return 2\n",
    "    elif(x>=9 and x<=12):\n",
    "        return 3\n",
    "    elif(x>=13 and x<=16):\n",
    "        return 4\n",
    "    elif(x>=17 and x<=20):\n",
    "        return 5\n",
    "    return 6"
   ]
  },
  {
   "cell_type": "code",
   "execution_count": 125,
   "metadata": {},
   "outputs": [],
   "source": [
    "# Finding percentage of what total value is existing\n",
    "def percentage(a):\n",
    "    total = 0\n",
    "    for i in range(len(a)):\n",
    "        total = total + a[i]\n",
    "    a = [round((x*100/total),2) for x in a]\n",
    "    return a"
   ]
  },
  {
   "cell_type": "code",
   "execution_count": 126,
   "metadata": {},
   "outputs": [],
   "source": [
    "# Finding top three values and bottom three values in an array\n",
    "def find_three(a,f):\n",
    "    b = a\n",
    "    ans = []\n",
    "    ind = []\n",
    "    for i in range(3):\n",
    "        maxi = b[0]\n",
    "        index =  0\n",
    "        for j in range(1,len(b)):\n",
    "            if(f==0):\n",
    "                if(b[j] > maxi):\n",
    "                    maxi = b[j]\n",
    "                    index = j\n",
    "            else:\n",
    "                if(b[j] < maxi and b[j]!=-1):\n",
    "                    maxi = b[j]\n",
    "                    index = j\n",
    "        b[index] = -1\n",
    "        ans.append(maxi)\n",
    "        ind.append(index)\n",
    "    for i in range(len(ind)):\n",
    "        b[ind[i]] = ans[i]\n",
    "    return ans,ind"
   ]
  },
  {
   "cell_type": "code",
   "execution_count": 127,
   "metadata": {},
   "outputs": [],
   "source": [
    "def type_graph(day_type,b,c):\n",
    "    day_type = np.transpose(find_type_prob(day_type,b) * 100)\n",
    "    bar_width = 0.75 \n",
    "    plt.bar((np.arange(len(day_type[0]))*7),day_type[0],bar_width,color='blue',label='Assault')\n",
    "    plt.bar(((np.arange(len(day_type[1]))*7)+1),day_type[1],bar_width,color='red',label='Drug Alcohol')\n",
    "    plt.bar(((np.arange(len(day_type[2]))*7)+2),day_type[2],bar_width,color='green',label='Other Crime')\n",
    "    plt.bar(((np.arange(len(day_type[3]))*7)+3),day_type[3],bar_width,color='black',label='Public Disorder')\n",
    "    plt.bar(((np.arange(len(day_type[4]))*7)+4),day_type[4],bar_width,color='yellow',label='Theft')\n",
    "    plt.bar(((np.arange(len(day_type[5]))*7)+5),day_type[5],bar_width,color='brown',label='White Collar Crime')\n",
    "    plt.xticks(np.arange(len(day_type[0]))*7,c, fontsize=10, rotation=30)\n",
    "    plt.legend(loc = 'lower right')\n",
    "    graph_a(1)"
   ]
  },
  {
   "cell_type": "code",
   "execution_count": 128,
   "metadata": {},
   "outputs": [],
   "source": [
    "def count(a,b):\n",
    "    t = np.zeros(b)\n",
    "    for i in range(len(a)):\n",
    "        t[a[i]-1] = t[a[i]-1] + 1\n",
    "    return t"
   ]
  },
  {
   "cell_type": "code",
   "execution_count": 129,
   "metadata": {},
   "outputs": [
    {
     "name": "stdout",
     "output_type": "stream",
     "text": [
      "RangeIndex(start=0, stop=490038, step=1)\n",
      "19\n",
      "Index(['INCIDENT_ID', 'OFFENSE_ID', 'OFFENSE_CODE', 'OFFENSE_CODE_EXTENSION',\n",
      "       'OFFENSE_TYPE_ID', 'OFFENSE_CATEGORY_ID', 'FIRST_OCCURRENCE_DATE',\n",
      "       'LAST_OCCURRENCE_DATE', 'REPORTED_DATE', 'INCIDENT_ADDRESS', 'GEO_X',\n",
      "       'GEO_Y', 'GEO_LON', 'GEO_LAT', 'DISTRICT_ID', 'PRECINCT_ID',\n",
      "       'NEIGHBORHOOD_ID', 'IS_CRIME', 'IS_TRAFFIC'],\n",
      "      dtype='object')\n",
      "   INCIDENT_ID         OFFENSE_ID  OFFENSE_CODE  OFFENSE_CODE_EXTENSION  \\\n",
      "0   2016376978   2016376978521300          5213                       0   \n",
      "1  20186000994  20186000994239900          2399                       0   \n",
      "2  20166003953  20166003953230500          2305                       0   \n",
      "3    201872333    201872333239900          2399                       0   \n",
      "4   2017411405   2017411405230300          2303                       0   \n",
      "\n",
      "                OFFENSE_TYPE_ID       OFFENSE_CATEGORY_ID  \\\n",
      "0  weapon-unlawful-discharge-of          all-other-crimes   \n",
      "1                   theft-other                   larceny   \n",
      "2      theft-items-from-vehicle  theft-from-motor-vehicle   \n",
      "3                   theft-other                   larceny   \n",
      "4                theft-shoplift                   larceny   \n",
      "\n",
      "    FIRST_OCCURRENCE_DATE   LAST_OCCURRENCE_DATE          REPORTED_DATE  \\\n",
      "0   6/15/2016 11:31:00 PM                    NaN  6/15/2016 11:31:00 PM   \n",
      "1  10/11/2017 12:30:00 PM  10/11/2017 4:55:00 PM   1/29/2018 5:53:00 PM   \n",
      "2     3/4/2016 8:00:00 PM   4/25/2016 8:00:00 AM   4/26/2016 9:02:00 PM   \n",
      "3    1/30/2018 7:20:00 PM                    NaN  1/30/2018 10:29:00 PM   \n",
      "4    6/22/2017 8:53:00 PM                    NaN   6/23/2017 4:09:00 PM   \n",
      "\n",
      "      INCIDENT_ADDRESS      GEO_X      GEO_Y     GEO_LON    GEO_LAT  \\\n",
      "0                  NaN  3193983.0  1707251.0 -104.809881  39.773188   \n",
      "1                  NaN  3201943.0  1711852.0 -104.781434  39.785649   \n",
      "2  2932 S JOSEPHINE ST  3152762.0  1667011.0 -104.957381  39.663490   \n",
      "3  705 S COLORADO BLVD  3157162.0  1681320.0 -104.941440  39.702698   \n",
      "4       2810 E 1ST AVE  3153211.0  1686545.0 -104.955370  39.717107   \n",
      "\n",
      "   DISTRICT_ID  PRECINCT_ID             NEIGHBORHOOD_ID  IS_CRIME  IS_TRAFFIC  \n",
      "0            5          521                   montbello         1           0  \n",
      "1            5          522  gateway-green-valley-ranch         1           0  \n",
      "2            3          314                   wellshire         1           0  \n",
      "3            3          312                     belcaro         1           0  \n",
      "4            3          311                cherry-creek         1           0  \n"
     ]
    }
   ],
   "source": [
    "# Loading Denver Dataset\n",
    "data = pd.read_csv('denver.csv')\n",
    "show_details(data,0)"
   ]
  },
  {
   "cell_type": "code",
   "execution_count": 130,
   "metadata": {},
   "outputs": [
    {
     "name": "stdout",
     "output_type": "stream",
     "text": [
      "{'traffic-accident', 'larceny', 'public-disorder', 'burglary', 'other-crimes-against-persons', 'robbery', 'sexual-assault', 'theft-from-motor-vehicle', 'white-collar-crime', 'all-other-crimes', 'auto-theft', 'arson', 'murder', 'drug-alcohol', 'aggravated-assault'}\n",
      "15\n"
     ]
    }
   ],
   "source": [
    "# To know what unique crime types are present in dataset\n",
    "crime_categories = pd.unique(data[data.columns[5]].values.ravel()).tolist()\n",
    "crime_categories = set(crime_categories)\n",
    "show_details(crime_categories,1)"
   ]
  },
  {
   "cell_type": "code",
   "execution_count": 131,
   "metadata": {},
   "outputs": [
    {
     "name": "stdout",
     "output_type": "stream",
     "text": [
      "Int64Index([     0,      1,      2,      3,      4,      5,      6,      7,\n",
      "                 9,     10,\n",
      "            ...\n",
      "            490020, 490023, 490024, 490027, 490031, 490032, 490033, 490034,\n",
      "            490035, 490037],\n",
      "           dtype='int64', length=362315)\n",
      "5\n",
      "Index(['INCIDENT_ID', 'OFFENSE_CATEGORY_ID', 'FIRST_OCCURRENCE_DATE',\n",
      "       'NEIGHBORHOOD_ID', 'IS_CRIME'],\n",
      "      dtype='object')\n",
      "   INCIDENT_ID       OFFENSE_CATEGORY_ID   FIRST_OCCURRENCE_DATE  \\\n",
      "0   2016376978          all-other-crimes   6/15/2016 11:31:00 PM   \n",
      "1  20186000994                   larceny  10/11/2017 12:30:00 PM   \n",
      "2  20166003953  theft-from-motor-vehicle     3/4/2016 8:00:00 PM   \n",
      "3    201872333                   larceny    1/30/2018 7:20:00 PM   \n",
      "4   2017411405                   larceny    6/22/2017 8:53:00 PM   \n",
      "\n",
      "              NEIGHBORHOOD_ID  IS_CRIME  \n",
      "0                   montbello         1  \n",
      "1  gateway-green-valley-ranch         1  \n",
      "2                   wellshire         1  \n",
      "3                     belcaro         1  \n",
      "4                cherry-creek         1  \n"
     ]
    }
   ],
   "source": [
    "data_d = data[[data.columns[0], data.columns[5], data.columns[6], data.columns[len(data.columns)-1-2], data.columns[len(data.columns)-1-1]] ]\n",
    "# Taking into consideration only those columns that have crime involved and not an accident\n",
    "data_d = data_d[(data_d[data_d.columns[4]] != 0)]\n",
    "# Showing details of dataframe created\n",
    "show_details(data_d,0)"
   ]
  },
  {
   "cell_type": "code",
   "execution_count": 132,
   "metadata": {},
   "outputs": [],
   "source": [
    "# Function to classify crimes into respective categories\n",
    "def func(s):\n",
    "    s = s.lower()\n",
    "    if(s=='assault' or s=='murder'):\n",
    "        return 1\n",
    "    if(s=='drug' or s=='alcohol' or s=='drugs' or s=='drunk' or s=='roll'):\n",
    "        return 2\n",
    "    if(s=='other'):\n",
    "        return 3\n",
    "    if(s=='pimping' or s=='initmate' or s=='public' or s=='disorder' or s=='sexual' or s=='indecent' or s=='bigamy' or s=='lewd' or s=='sex' or s=='pandering'):\n",
    "        return 4\n",
    "    if(s=='purse' or s=='prowlwer' or s=='pickpocket' or s=='till' or s=='theft' or s=='shoplifting' or s=='burglary' or s=='larceny' or s=='robbery' or s=='stolen'):\n",
    "        return 5\n",
    "    if(s=='counterfeit' or s=='identity' or s=='bunco' or s=='white' or s=='collar' or s=='embezzlement' or s=='credit' or s=='extortion' or s=='bribery' or s=='employee'):\n",
    "        return 6\n",
    "    return 3\n",
    "\n",
    "# Iterating through crime type name to find crime category\n",
    "def transform(s):\n",
    "    x = \"\"\n",
    "    s = str(s)\n",
    "    s = s.lower()\n",
    "    if(s==\"theft of identity\"):\n",
    "        return 6\n",
    "    elif(s==\"other assault\"):\n",
    "        return 1\n",
    "    for i in range(len(s)):\n",
    "        if(s[i]==' ' or s[i]=='(' or s[i]=='-' or s[i]=='/' or s[i]==','):\n",
    "            t = func(x)\n",
    "            if(t!=3):\n",
    "                return t\n",
    "            else:\n",
    "                x = \"\"\n",
    "        else:\n",
    "            x = x + s[i]\n",
    "    return func(x)"
   ]
  },
  {
   "cell_type": "code",
   "execution_count": 133,
   "metadata": {},
   "outputs": [
    {
     "data": {
      "image/png": "[encoded data removed]",
      "text/plain": [
       "<matplotlib.figure.Figure at 0x114b542b0>"
      ]
     },
     "metadata": {},
     "output_type": "display_data"
    },
    {
     "name": "stdout",
     "output_type": "stream",
     "text": [
      "Int64Index([     0,      1,      2,      3,      4,      5,      6,      7,\n",
      "                 9,     10,\n",
      "            ...\n",
      "            490020, 490023, 490024, 490027, 490031, 490032, 490033, 490034,\n",
      "            490035, 490037],\n",
      "           dtype='int64', length=362315)\n",
      "5\n",
      "Index(['INCIDENT_ID', 'FIRST_OCCURRENCE_DATE', 'NEIGHBORHOOD_ID', 'IS_CRIME',\n",
      "       'Crime_Type'],\n",
      "      dtype='object')\n",
      "   INCIDENT_ID   FIRST_OCCURRENCE_DATE             NEIGHBORHOOD_ID  IS_CRIME  \\\n",
      "0   2016376978   6/15/2016 11:31:00 PM                   montbello         1   \n",
      "1  20186000994  10/11/2017 12:30:00 PM  gateway-green-valley-ranch         1   \n",
      "2  20166003953     3/4/2016 8:00:00 PM                   wellshire         1   \n",
      "3    201872333    1/30/2018 7:20:00 PM                     belcaro         1   \n",
      "4   2017411405    6/22/2017 8:53:00 PM                cherry-creek         1   \n",
      "\n",
      "  Crime_Type  \n",
      "0          3  \n",
      "1          5  \n",
      "2          5  \n",
      "3          5  \n",
      "4          5  \n"
     ]
    }
   ],
   "source": [
    "all_crimes = data_d[data_d.columns[1]].values\n",
    "c_count_d = np.zeros(6)\n",
    "for i in range(len(all_crimes)):\n",
    "    # Mappping crime type to a numerical representation\n",
    "    all_crimes[i] = transform(all_crimes[i])\n",
    "    # Counting the total number of that crime_type present in data\n",
    "    c_count_d[all_crimes[i]-1] = c_count_d[all_crimes[i]-1] + 1\n",
    "graph_b(c_count_d)\n",
    "data_d['Crime_Type'] = all_crimes\n",
    "data_d = data_d.drop([data_d.columns[1]], axis=1)\n",
    "# Showing graph corresponding to teh count of every crime type in Denver dataset\n",
    "show_details(data_d,0)"
   ]
  },
  {
   "cell_type": "code",
   "execution_count": 134,
   "metadata": {},
   "outputs": [
    {
     "data": {
      "image/png": "[encoded data removed]",
      "text/plain": [
       "<matplotlib.figure.Figure at 0x1235f9e80>"
      ]
     },
     "metadata": {},
     "output_type": "display_data"
    },
    {
     "data": {
      "image/png": "[encoded data removed]",
      "text/plain": [
       "<matplotlib.figure.Figure at 0x1235f9438>"
      ]
     },
     "metadata": {},
     "output_type": "display_data"
    },
    {
     "data": {
      "image/png": "[encoded data removed]",
      "text/plain": [
       "<matplotlib.figure.Figure at 0x114b546a0>"
      ]
     },
     "metadata": {},
     "output_type": "display_data"
    },
    {
     "name": "stdout",
     "output_type": "stream",
     "text": [
      "Int64Index([     0,      1,      2,      3,      4,      5,      6,      7,\n",
      "                 9,     10,\n",
      "            ...\n",
      "            490020, 490023, 490024, 490027, 490031, 490032, 490033, 490034,\n",
      "            490035, 490037],\n",
      "           dtype='int64', length=362315)\n",
      "8\n",
      "Index(['INCIDENT_ID', 'NEIGHBORHOOD_ID', 'IS_CRIME', 'Crime_Type',\n",
      "       'Crime_Month', 'Crime_Day', 'Crime_Time', 'Crime_Year'],\n",
      "      dtype='object')\n",
      "   INCIDENT_ID             NEIGHBORHOOD_ID  IS_CRIME Crime_Type  Crime_Month  \\\n",
      "0   2016376978                   montbello         1          3            6   \n",
      "1  20186000994  gateway-green-valley-ranch         1          5           10   \n",
      "2  20166003953                   wellshire         1          5            3   \n",
      "3    201872333                     belcaro         1          5            1   \n",
      "4   2017411405                cherry-creek         1          5            6   \n",
      "\n",
      "   Crime_Day  Crime_Time  Crime_Year  \n",
      "0          3           6        2016  \n",
      "1          3           3        2017  \n",
      "2          5           5        2016  \n",
      "3          2           5        2018  \n",
      "4          4           5        2017  \n"
     ]
    },
    {
     "data": {
      "text/html": [
       "<div>\n",
       "<style>\n",
       "    .dataframe thead tr:only-child th {\n",
       "        text-align: right;\n",
       "    }\n",
       "\n",
       "    .dataframe thead th {\n",
       "        text-align: left;\n",
       "    }\n",
       "\n",
       "    .dataframe tbody tr th {\n",
       "        vertical-align: top;\n",
       "    }\n",
       "</style>\n",
       "<table border=\"1\" class=\"dataframe\">\n",
       "  <thead>\n",
       "    <tr style=\"text-align: right;\">\n",
       "      <th></th>\n",
       "      <th>INCIDENT_ID</th>\n",
       "      <th>NEIGHBORHOOD_ID</th>\n",
       "      <th>IS_CRIME</th>\n",
       "      <th>Crime_Type</th>\n",
       "      <th>Crime_Month</th>\n",
       "      <th>Crime_Day</th>\n",
       "      <th>Crime_Time</th>\n",
       "      <th>Crime_Year</th>\n",
       "    </tr>\n",
       "  </thead>\n",
       "  <tbody>\n",
       "    <tr>\n",
       "      <th>0</th>\n",
       "      <td>2016376978</td>\n",
       "      <td>montbello</td>\n",
       "      <td>1</td>\n",
       "      <td>3</td>\n",
       "      <td>6</td>\n",
       "      <td>3</td>\n",
       "      <td>6</td>\n",
       "      <td>2016</td>\n",
       "    </tr>\n",
       "    <tr>\n",
       "      <th>1</th>\n",
       "      <td>20186000994</td>\n",
       "      <td>gateway-green-valley-ranch</td>\n",
       "      <td>1</td>\n",
       "      <td>5</td>\n",
       "      <td>10</td>\n",
       "      <td>3</td>\n",
       "      <td>3</td>\n",
       "      <td>2017</td>\n",
       "    </tr>\n",
       "    <tr>\n",
       "      <th>2</th>\n",
       "      <td>20166003953</td>\n",
       "      <td>wellshire</td>\n",
       "      <td>1</td>\n",
       "      <td>5</td>\n",
       "      <td>3</td>\n",
       "      <td>5</td>\n",
       "      <td>5</td>\n",
       "      <td>2016</td>\n",
       "    </tr>\n",
       "    <tr>\n",
       "      <th>3</th>\n",
       "      <td>201872333</td>\n",
       "      <td>belcaro</td>\n",
       "      <td>1</td>\n",
       "      <td>5</td>\n",
       "      <td>1</td>\n",
       "      <td>2</td>\n",
       "      <td>5</td>\n",
       "      <td>2018</td>\n",
       "    </tr>\n",
       "    <tr>\n",
       "      <th>4</th>\n",
       "      <td>2017411405</td>\n",
       "      <td>cherry-creek</td>\n",
       "      <td>1</td>\n",
       "      <td>5</td>\n",
       "      <td>6</td>\n",
       "      <td>4</td>\n",
       "      <td>5</td>\n",
       "      <td>2017</td>\n",
       "    </tr>\n",
       "  </tbody>\n",
       "</table>\n",
       "</div>"
      ],
      "text/plain": [
       "   INCIDENT_ID             NEIGHBORHOOD_ID  IS_CRIME Crime_Type  Crime_Month  \\\n",
       "0   2016376978                   montbello         1          3            6   \n",
       "1  20186000994  gateway-green-valley-ranch         1          5           10   \n",
       "2  20166003953                   wellshire         1          5            3   \n",
       "3    201872333                     belcaro         1          5            1   \n",
       "4   2017411405                cherry-creek         1          5            6   \n",
       "\n",
       "   Crime_Day  Crime_Time  Crime_Year  \n",
       "0          3           6        2016  \n",
       "1          3           3        2017  \n",
       "2          5           5        2016  \n",
       "3          2           5        2018  \n",
       "4          4           5        2017  "
      ]
     },
     "execution_count": 134,
     "metadata": {},
     "output_type": "execute_result"
    }
   ],
   "source": [
    "# Finding month, hour, day count in dataset for dataset to analyze what is unsafe time period for staying out\n",
    "months = []\n",
    "days = []\n",
    "hours = []\n",
    "years_d = []\n",
    "d_count_d = np.zeros(num_days)\n",
    "m_count_d = np.zeros(num_months)\n",
    "h_count_d = np.zeros(num_time_range)\n",
    "date = data_d[data_d.columns[1]].values\n",
    "for i in range(len(date)):\n",
    "    x = date[i]\n",
    "    x = str(x)\n",
    "    month, day, year , hour , minutes , seconds , f = convert(x)  \n",
    "    years_d.append(year)\n",
    "    ans = datetime.date(year, month, day)\n",
    "    months.append(month)\n",
    "    t = ans.weekday()\n",
    "    days.append(t+1)\n",
    "    j = conversion(hour,f)\n",
    "    hours.append(j)\n",
    "    if(year==2014):\n",
    "        m_count_d[month-1] = m_count_d[month-1]+1\n",
    "        d_count_d[t] = d_count_d[t]+1\n",
    "        h_count_d[j-1] = h_count_d[j-1] + 1\n",
    "graph_b(m_count_d)\n",
    "graph_b(d_count_d)\n",
    "graph_b(h_count_d)\n",
    "data_d['Crime_Month'] = months\n",
    "data_d['Crime_Day'] = days\n",
    "data_d['Crime_Time'] = hours\n",
    "data_d['Crime_Year'] = years_d\n",
    "data_d = data_d.drop([data_d.columns[1]], axis=1)\n",
    "show_details(data_d,0)\n",
    "data_d.head()"
   ]
  },
  {
   "cell_type": "code",
   "execution_count": 135,
   "metadata": {},
   "outputs": [
    {
     "name": "stdout",
     "output_type": "stream",
     "text": [
      "RangeIndex(start=0, stop=78, step=1)\n",
      "127\n",
      "Index(['NBHD_ID', 'NBRHD_NAME', 'POPULATION_2010', 'HISPANIC_2010',\n",
      "       'WHITE_2010', 'BLACK_2010', 'NATIVEAM_2010', 'ASIAN_2010',\n",
      "       'HAWPACIS_2010', 'OTHER_2010',\n",
      "       ...\n",
      "       'RENTED_AGE_25_TO_34', 'RENTED_AGE_35_TO_44', 'RENTED_AGE_45_TO_54',\n",
      "       'RENTED_AGE_55_TO_59', 'RENTED_AGE_60_TO_64', 'RENTED_AGE_65_TO_74',\n",
      "       'RENTED_AGE_75_TO_84', 'RENTED_AGE_85_PLUS', 'SHAPE_Length',\n",
      "       'SHAPE_Area'],\n",
      "      dtype='object', length=127)\n",
      "   NBHD_ID       NBRHD_NAME  POPULATION_2010  HISPANIC_2010  WHITE_2010  \\\n",
      "0       32          Hampden          17547.0         2505.0     11750.0   \n",
      "1        3            Baker           4879.0         1664.0      2854.0   \n",
      "2       70  Washington Park           6905.0          295.0      6356.0   \n",
      "3       13     Cherry Creek           5589.0          332.0      4896.0   \n",
      "4       22     Country Club           3001.0           94.0      2740.0   \n",
      "\n",
      "   BLACK_2010  NATIVEAM_2010  ASIAN_2010  HAWPACIS_2010  OTHER_2010  \\\n",
      "0      1963.0           64.0       726.0           20.0        38.0   \n",
      "1       144.0           43.0        52.0           10.0         7.0   \n",
      "2        28.0            9.0       119.0            3.0        13.0   \n",
      "3        79.0           17.0       168.0            4.0         3.0   \n",
      "4        20.0            8.0        77.0            1.0         5.0   \n",
      "\n",
      "      ...      RENTED_AGE_25_TO_34  RENTED_AGE_35_TO_44  RENTED_AGE_45_TO_54  \\\n",
      "0     ...                   1363.0                791.0                700.0   \n",
      "1     ...                    486.0                235.0                231.0   \n",
      "2     ...                    329.0                132.0                 70.0   \n",
      "3     ...                    521.0                261.0                211.0   \n",
      "4     ...                     90.0                 55.0                 34.0   \n",
      "\n",
      "   RENTED_AGE_55_TO_59  RENTED_AGE_60_TO_64  RENTED_AGE_65_TO_74  \\\n",
      "0                304.0                253.0                285.0   \n",
      "1                113.0                 64.0                 82.0   \n",
      "2                 31.0                 36.0                 27.0   \n",
      "3                 79.0                 92.0                161.0   \n",
      "4                 14.0                 17.0                  9.0   \n",
      "\n",
      "   RENTED_AGE_75_TO_84  RENTED_AGE_85_PLUS  SHAPE_Length  SHAPE_Area  \n",
      "0                200.0               229.0      0.200466    0.000768  \n",
      "1                 23.0                 7.0      0.101767    0.000406  \n",
      "2                  6.0                21.0      0.090445    0.000411  \n",
      "3                224.0               207.0      0.063923    0.000228  \n",
      "4                  4.0                 2.0      0.052865    0.000177  \n",
      "\n",
      "[5 rows x 127 columns]\n"
     ]
    }
   ],
   "source": [
    "# Loading Demographics Dataset which includes information about neighbourhood areas of denver\n",
    "demographics = pd.read_csv('demographic.csv')\n",
    "show_details(demographics,0)"
   ]
  },
  {
   "cell_type": "code",
   "execution_count": 136,
   "metadata": {},
   "outputs": [
    {
     "name": "stdout",
     "output_type": "stream",
     "text": [
      "Int64Index([69, 59,  1, 72, 40, 77, 60, 63,  8, 11, 70, 56,  3, 36,  7, 10,  5,\n",
      "            22, 51, 21, 18,  4, 28, 34, 54, 13, 76, 39, 16, 26, 47,  0, 52, 71,\n",
      "            38, 15, 57, 33, 67, 50, 58, 37, 43, 75, 74, 41,  9, 48, 53, 55, 42,\n",
      "            64, 35, 24,  6, 62, 49, 32, 20, 14, 65, 23, 12, 25, 29, 17, 68, 46,\n",
      "            27,  2, 19, 45, 66, 30, 31, 44, 73, 61],\n",
      "           dtype='int64')\n",
      "2\n",
      "Index(['NBHD_ID', 'NBRHD_NAME'], dtype='object')\n",
      "    NBHD_ID   NBRHD_NAME\n",
      "69        1  athmar-park\n",
      "59        2      auraria\n",
      "1         3        baker\n",
      "72        4       barnum\n",
      "40        5  barnum-west\n"
     ]
    }
   ],
   "source": [
    "current = demographics[[demographics.columns[0], demographics.columns[1]]]\n",
    "current = current.sort_values(by=[current.columns[0]])\n",
    "n_ref = current[current.columns[1]].values\n",
    "for i in range(len(n_ref)):\n",
    "    x = n_ref[i]\n",
    "    x = str(x)\n",
    "    x = x.lower()\n",
    "    y = \"\"\n",
    "    f = 1\n",
    "    for j in range(len(x)):\n",
    "        if(x[j]=='/' and x[j+1]==' '):\n",
    "            f=0  \n",
    "        elif(x[j]==' ' and f==1):\n",
    "            y = y + '-'\n",
    "            f = 0\n",
    "        elif(x[j]==' ' and f==0):\n",
    "            continue\n",
    "        elif(x[j]=='-'):\n",
    "            continue\n",
    "        else:\n",
    "            y = y + x[j]\n",
    "            f = 1\n",
    "    n_ref[i] = y\n",
    "show_details(current,0)"
   ]
  },
  {
   "cell_type": "code",
   "execution_count": 137,
   "metadata": {},
   "outputs": [
    {
     "data": {
      "image/png": "[encoded data removed]",
      "text/plain": [
       "<matplotlib.figure.Figure at 0x1145adf28>"
      ]
     },
     "metadata": {},
     "output_type": "display_data"
    },
    {
     "name": "stdout",
     "output_type": "stream",
     "text": [
      "Int64Index([     0,      1,      2,      3,      4,      5,      6,      7,\n",
      "                 9,     10,\n",
      "            ...\n",
      "            490020, 490023, 490024, 490027, 490031, 490032, 490033, 490034,\n",
      "            490035, 490037],\n",
      "           dtype='int64', length=362315)\n",
      "8\n",
      "Index(['INCIDENT_ID', 'IS_CRIME', 'Crime_Type', 'Crime_Month', 'Crime_Day',\n",
      "       'Crime_Time', 'Crime_Year', 'Crime_Location'],\n",
      "      dtype='object')\n",
      "   INCIDENT_ID  IS_CRIME Crime_Type  Crime_Month  Crime_Day  Crime_Time  \\\n",
      "0   2016376978         1          3            6          3           6   \n",
      "1  20186000994         1          5           10          3           3   \n",
      "2  20166003953         1          5            3          5           5   \n",
      "3    201872333         1          5            1          2           5   \n",
      "4   2017411405         1          5            6          4           5   \n",
      "\n",
      "   Crime_Year  Crime_Location  \n",
      "0        2016              45  \n",
      "1        2017              28  \n",
      "2        2016              73  \n",
      "3        2018               7  \n",
      "4        2017              13  \n"
     ]
    }
   ],
   "source": [
    "ans = []\n",
    "n_count_d = np.zeros(78)\n",
    "neighbours = data_d[data_d.columns[1]].values\n",
    "for i in range(len(neighbours)):\n",
    "    x = neighbours[i]\n",
    "    x = str(x)\n",
    "    for j in range(len(n_ref)):\n",
    "        if(x==n_ref[j]):\n",
    "            ans.append(j+1)\n",
    "            if(years_d[i]==2014):\n",
    "                n_count_d[j] = n_count_d[j] + 1\n",
    "            break\n",
    "data_d['Crime_Location'] = ans\n",
    "data_d = data_d.drop(data_d.columns[1],axis=1)\n",
    "graph_b(n_count_d)\n",
    "show_details(data_d,0)"
   ]
  },
  {
   "cell_type": "code",
   "execution_count": 138,
   "metadata": {},
   "outputs": [
    {
     "name": "stdout",
     "output_type": "stream",
     "text": [
      "RangeIndex(start=0, stop=1584316, step=1)\n",
      "26\n",
      "Index(['DR Number', 'Date Reported', 'Date Occurred', 'Time Occurred',\n",
      "       'Area ID', 'Area Name', 'Reporting District', 'Crime Code',\n",
      "       'Crime Code Description', 'MO Codes', 'Victim Age', 'Victim Sex',\n",
      "       'Victim Descent', 'Premise Code', 'Premise Description',\n",
      "       'Weapon Used Code', 'Weapon Description', 'Status Code',\n",
      "       'Status Description', 'Crime Code 1', 'Crime Code 2', 'Crime Code 3',\n",
      "       'Crime Code 4', 'Address', 'Cross Street', 'Location '],\n",
      "      dtype='object')\n",
      "   DR Number Date Reported Date Occurred  Time Occurred  Area ID    Area Name  \\\n",
      "0    1208575    03/14/2013    03/11/2013           1800       12  77th Street   \n",
      "1  102005556    01/25/2010    01/22/2010           2300       20      Olympic   \n",
      "2        418    03/19/2013    03/18/2013           2030       18    Southeast   \n",
      "3  101822289    11/11/2010    11/10/2010           1800       18    Southeast   \n",
      "4   42104479    01/11/2014    01/04/2014           2300       21      Topanga   \n",
      "\n",
      "   Reporting District  Crime Code                    Crime Code Description  \\\n",
      "0                1241         626         INTIMATE PARTNER - SIMPLE ASSAULT   \n",
      "1                2071         510                          VEHICLE - STOLEN   \n",
      "2                1823         510                          VEHICLE - STOLEN   \n",
      "3                1803         510                          VEHICLE - STOLEN   \n",
      "4                2133         745  VANDALISM - MISDEAMEANOR ($399 OR UNDER)   \n",
      "\n",
      "              MO Codes          ...           \\\n",
      "0  0416 0446 1243 2000          ...            \n",
      "1                  NaN          ...            \n",
      "2                  NaN          ...            \n",
      "3                  NaN          ...            \n",
      "4                 0329          ...            \n",
      "\n",
      "                               Weapon Description Status Code  \\\n",
      "0  STRONG-ARM (HANDS, FIST, FEET OR BODILY FORCE)          AO   \n",
      "1                                             NaN          IC   \n",
      "2                                             NaN          IC   \n",
      "3                                             NaN          IC   \n",
      "4                                             NaN          IC   \n",
      "\n",
      "  Status Description  Crime Code 1 Crime Code 2  Crime Code 3 Crime Code 4  \\\n",
      "0        Adult Other         626.0          NaN           NaN          NaN   \n",
      "1        Invest Cont         510.0          NaN           NaN          NaN   \n",
      "2        Invest Cont         510.0          NaN           NaN          NaN   \n",
      "3        Invest Cont         510.0          NaN           NaN          NaN   \n",
      "4        Invest Cont         745.0          NaN           NaN          NaN   \n",
      "\n",
      "                                   Address Cross Street             Location   \n",
      "0  6300    BRYNHURST                    AV          NaN  (33.9829, -118.3338)  \n",
      "1                                 VAN NESS         15TH  (34.0454, -118.3157)  \n",
      "2   200 E  104TH                        ST          NaN   (33.942, -118.2717)  \n",
      "3                                     88TH         WALL  (33.9572, -118.2717)  \n",
      "4  7200    CIRRUS                       WY          NaN  (34.2009, -118.6369)  \n",
      "\n",
      "[5 rows x 26 columns]\n"
     ]
    }
   ],
   "source": [
    "data = pd.read_csv('los_angeles.csv')\n",
    "show_details(data,0)"
   ]
  },
  {
   "cell_type": "code",
   "execution_count": 139,
   "metadata": {},
   "outputs": [
    {
     "name": "stdout",
     "output_type": "stream",
     "text": [
      "RangeIndex(start=0, stop=1584316, step=1)\n",
      "5\n",
      "Index(['DR Number', 'Date Occurred', 'Time Occurred', 'Area ID',\n",
      "       'Crime Code Description'],\n",
      "      dtype='object')\n",
      "   DR Number Date Occurred  Time Occurred  Area ID  \\\n",
      "0    1208575    03/11/2013           1800       12   \n",
      "1  102005556    01/22/2010           2300       20   \n",
      "2        418    03/18/2013           2030       18   \n",
      "3  101822289    11/10/2010           1800       18   \n",
      "4   42104479    01/04/2014           2300       21   \n",
      "\n",
      "                     Crime Code Description  \n",
      "0         INTIMATE PARTNER - SIMPLE ASSAULT  \n",
      "1                          VEHICLE - STOLEN  \n",
      "2                          VEHICLE - STOLEN  \n",
      "3                          VEHICLE - STOLEN  \n",
      "4  VANDALISM - MISDEAMEANOR ($399 OR UNDER)  \n"
     ]
    }
   ],
   "source": [
    "data_la = data[[data.columns[0], data.columns[2], data.columns[3], data.columns[4], data.columns[8]]]\n",
    "show_details(data_la,0)"
   ]
  },
  {
   "cell_type": "code",
   "execution_count": 140,
   "metadata": {},
   "outputs": [
    {
     "data": {
      "image/png": "[encoded data removed]",
      "text/plain": [
       "<matplotlib.figure.Figure at 0x12e7db550>"
      ]
     },
     "metadata": {},
     "output_type": "display_data"
    },
    {
     "data": {
      "image/png": "[encoded data removed]",
      "text/plain": [
       "<matplotlib.figure.Figure at 0x12e7db5f8>"
      ]
     },
     "metadata": {},
     "output_type": "display_data"
    },
    {
     "name": "stderr",
     "output_type": "stream",
     "text": [
      "/Library/Frameworks/Python.framework/Versions/3.6/lib/python3.6/site-packages/ipykernel_launcher.py:21: SettingWithCopyWarning: \n",
      "A value is trying to be set on a copy of a slice from a DataFrame.\n",
      "Try using .loc[row_indexer,col_indexer] = value instead\n",
      "\n",
      "See the caveats in the documentation: http://pandas.pydata.org/pandas-docs/stable/indexing.html#indexing-view-versus-copy\n",
      "/Library/Frameworks/Python.framework/Versions/3.6/lib/python3.6/site-packages/ipykernel_launcher.py:22: SettingWithCopyWarning: \n",
      "A value is trying to be set on a copy of a slice from a DataFrame.\n",
      "Try using .loc[row_indexer,col_indexer] = value instead\n",
      "\n",
      "See the caveats in the documentation: http://pandas.pydata.org/pandas-docs/stable/indexing.html#indexing-view-versus-copy\n"
     ]
    },
    {
     "name": "stdout",
     "output_type": "stream",
     "text": [
      "RangeIndex(start=0, stop=1584316, step=1)\n",
      "7\n",
      "Index(['DR Number', 'Time Occurred', 'Area ID', 'Crime Code Description',\n",
      "       'Crime_Month', 'Crime_Day', 'Crime_Year'],\n",
      "      dtype='object')\n",
      "   DR Number  Time Occurred  Area ID  \\\n",
      "0    1208575           1800       12   \n",
      "1  102005556           2300       20   \n",
      "2        418           2030       18   \n",
      "3  101822289           1800       18   \n",
      "4   42104479           2300       21   \n",
      "\n",
      "                     Crime Code Description  Crime_Month  Crime_Day  \\\n",
      "0         INTIMATE PARTNER - SIMPLE ASSAULT            3          1   \n",
      "1                          VEHICLE - STOLEN            1          5   \n",
      "2                          VEHICLE - STOLEN            3          1   \n",
      "3                          VEHICLE - STOLEN           11          3   \n",
      "4  VANDALISM - MISDEAMEANOR ($399 OR UNDER)            1          6   \n",
      "\n",
      "   Crime_Year  \n",
      "0        2013  \n",
      "1        2010  \n",
      "2        2013  \n",
      "3        2010  \n",
      "4        2014  \n"
     ]
    },
    {
     "name": "stderr",
     "output_type": "stream",
     "text": [
      "/Library/Frameworks/Python.framework/Versions/3.6/lib/python3.6/site-packages/ipykernel_launcher.py:23: SettingWithCopyWarning: \n",
      "A value is trying to be set on a copy of a slice from a DataFrame.\n",
      "Try using .loc[row_indexer,col_indexer] = value instead\n",
      "\n",
      "See the caveats in the documentation: http://pandas.pydata.org/pandas-docs/stable/indexing.html#indexing-view-versus-copy\n"
     ]
    }
   ],
   "source": [
    "months = []\n",
    "days = []\n",
    "years = []\n",
    "d_count_la = np.zeros(num_days)\n",
    "m_count_la = np.zeros(num_months)\n",
    "date = data_la[data_la.columns[1]].values\n",
    "for i in range(len(date)):\n",
    "    x = date[i]\n",
    "    x = str(x)\n",
    "    month, day, year = (int(t) for t in x.split('/'))  \n",
    "    years.append(year)\n",
    "    ans = datetime.date(year, month, day)\n",
    "    months.append(month)\n",
    "    t = ans.weekday()\n",
    "    days.append(t+1)\n",
    "    if(year==2014):\n",
    "        m_count_la[month-1] = m_count_la[month-1]+1\n",
    "        d_count_la[t] = d_count_la[t]+1\n",
    "graph_b(m_count_la)\n",
    "graph_b(d_count_la)\n",
    "data_la['Crime_Month'] = months\n",
    "data_la['Crime_Day'] = days\n",
    "data_la['Crime_Year'] = years\n",
    "data_la = data_la.drop([data_la.columns[1]], axis=1)\n",
    "show_details(data_la,0)"
   ]
  },
  {
   "cell_type": "code",
   "execution_count": 141,
   "metadata": {},
   "outputs": [
    {
     "data": {
      "image/png": "[encoded data removed]",
      "text/plain": [
       "<matplotlib.figure.Figure at 0x115a70358>"
      ]
     },
     "metadata": {},
     "output_type": "display_data"
    },
    {
     "name": "stdout",
     "output_type": "stream",
     "text": [
      "RangeIndex(start=0, stop=1584316, step=1)\n",
      "7\n",
      "Index(['DR Number', 'Area ID', 'Crime Code Description', 'Crime_Month',\n",
      "       'Crime_Day', 'Crime_Year', 'Crime_Time'],\n",
      "      dtype='object')\n",
      "   DR Number  Area ID                    Crime Code Description  Crime_Month  \\\n",
      "0    1208575       12         INTIMATE PARTNER - SIMPLE ASSAULT            3   \n",
      "1  102005556       20                          VEHICLE - STOLEN            1   \n",
      "2        418       18                          VEHICLE - STOLEN            3   \n",
      "3  101822289       18                          VEHICLE - STOLEN           11   \n",
      "4   42104479       21  VANDALISM - MISDEAMEANOR ($399 OR UNDER)            1   \n",
      "\n",
      "   Crime_Day  Crime_Year  Crime_Time  \n",
      "0          1        2013           5  \n",
      "1          5        2010           6  \n",
      "2          1        2013           5  \n",
      "3          3        2010           5  \n",
      "4          6        2014           6  \n"
     ]
    }
   ],
   "source": [
    "hours = []\n",
    "h_count_la = np.zeros(num_time_range)\n",
    "times = data_la[data_la.columns[1]].values\n",
    "for i in range(len(times)):\n",
    "    x = times[i]\n",
    "    x = int(x)\n",
    "    x = int(x/100)\n",
    "    t = conv(x)\n",
    "    hours.append(t)\n",
    "    if(years[i]==2014):\n",
    "        h_count_la[t-1] = h_count_la[t-1] + 1\n",
    "graph_b(h_count_la)\n",
    "data_la['Crime_Time'] = hours\n",
    "data_la = data_la.drop([data_la.columns[1]],axis=1)\n",
    "show_details(data_la,0)"
   ]
  },
  {
   "cell_type": "code",
   "execution_count": 142,
   "metadata": {},
   "outputs": [
    {
     "name": "stdout",
     "output_type": "stream",
     "text": [
      "['criminal homicide', 'violation of restraining order', 'cruelty to animals', 'till tap   grand theft  $950.01 & over', 'till tap   attempt', 'credit cards  fraud use  $950 & under', 'intimate partner   simple assault', 'other miscellaneous crime', 'robbery', 'grand theft   auto repair', 'burglary', 'failure to yield', 'theft from person   attempt', 'pandering', 'peeping tom', 'theft from motor vehicle   grand  $400 and over', 'child abuse  physical    simple assault', 'dishonest employee   petty theft', 'pickpocket', 'bunco  grand theft', 'violation of temporary restraining order', 'extortion', 'intimate partner   aggravated assault', 'defrauding innkeeper theft of services  $400 & under', 'assault with deadly weapon  aggravated assault', 'credit cards  fraud use  $950.01 & over', 'theft  coin machine   petty  $950 & under', 'shoplifting   attempt', 'burglary from vehicle  attempted', 'discharge firearms shots fired', 'purse snatching', 'vandalism   felony  $400 & over  all church vandalisms  0114', 'oral copulation', 'purse snatching   attempt', 'shots fired at moving vehicle  train or aircraft', 'driving without owner consent  dwoc', 'theft of identity', 'document worthless  $200.01 & over', 'vandalism   misdeameanor  $399 or under', 'shoplifting   petty theft  $950 & under', 'battery police  simple', 'stalking', 'arson', 'illegal dumping', 'child neglect  see 300 w.i.c.', 'telephone property   damage', 'bunco  attempt', 'vehicle   stolen', 'bomb scare', 'abortion illegal', 'pimping', 'bribery', 'child annoying  17yrs & under', 'battery   simple assault', 'rape  attempted', 'grand theft   insurance fraud', 'theft  coin machine   attempt', 'counterfeit', 'manslaughter  negligent', 'embezzlement  petty theft  $950 & under', 'reckless driving', 'violation of court order', 'letters  lewd', 'theft grand  $950.01 & over excpt guns fowl livestk prod0036', 'lynching   attempted', 'train wrecking', 'inciting a riot', 'false police report', 'kidnapping', 'kidnapping   grand attempt', 'disrupt school', 'drunk roll   attempt', 'indecent exposure', 'theft plain   attempt', 'sodomy sexual contact b w penis of one pers to anus oth 0007=02', 'replica firearms sale display manufacture or distribute 0132', 'child abandonment', 'bunco  petty theft', 'incest  sexual acts between blood relatives', 'threatening phone calls letters', 'bike   attempted stolen', 'resisting arrest', 'burglary from vehicle', 'dishonest employee attempted theft', 'theft from motor vehicle   attempt', 'failure to disperse', 'pickpocket  attempt', 'bigamy', 'assault with deadly weapon on police officer', 'lewd conduct', 'bike   stolen', 'contributing', 'boat   stolen', 'rape  forcible', 'child stealing', 'defrauding innkeeper theft of services  over $400', 'till tap   petty  $950 & under', 'shoplifting grand theft  $950.01 & over', 'prowler', 'document forgery   stolen felony', 'blocking door induction center', 'beastiality  crime against nature sexual asslt with anim0065', 'false imprisonment', 'burglary  attempted', 'shots fired at inhabited dwelling', 'drugs  to a minor', 'crm agnst chld  13 or under   14 15 & susp 10 yrs older 0060', 'theft  coin machine   grand  $950.01 & over', 'conspiracy', 'drunk roll', 'battery with sexual contact', 'theft  person', 'criminal threats   no weapon displayed', 'sex  unlawful', 'theft from motor vehicle   petty  $950 & under', 'other assault', 'disturbing the peace', 'unauthorized computer access', 'child abuse  physical    aggravated assault', 'attempted robbery', 'petty theft   auto repair', 'battery on a firefighter', 'contempt of court', 'throwing object at moving vehicle', 'document worthless  $200 & under', 'trespassing', 'sexual pentration with a foreign object', 'embezzlement  grand theft  $950.01 & over', 'lynching', 'theft plain   petty  $950 & under', 'weapons possession bombing', 'nan', 'brandish weapon', 'vehicle   attempt stolen', 'dishonest employee   grand theft']\n",
      "135\n"
     ]
    }
   ],
   "source": [
    "crime_categories = pd.unique(data[data.columns[8]].values.ravel())\n",
    "crime_categories\n",
    "final_cc = []\n",
    "for i in range(len(crime_categories)):\n",
    "    x = str(crime_categories[i])\n",
    "    y = \"\"\n",
    "    for j in range(len(x)):\n",
    "        if(x[j]=='-' or x[j]=='/' or x[j]=='(' or x[j]==',' or x[j]==')'):\n",
    "            y = y + ' ' \n",
    "        else:\n",
    "            y = y + x[j]\n",
    "    if(y[len(y)-1]==' '):\n",
    "        y =y[:-1]\n",
    "    final_cc.append(y)\n",
    "final_cc = set(final_cc)\n",
    "final_cc = [x.lower() for x in final_cc]\n",
    "show_details(final_cc,1)"
   ]
  },
  {
   "cell_type": "code",
   "execution_count": 143,
   "metadata": {},
   "outputs": [
    {
     "data": {
      "image/png": "[encoded data removed]",
      "text/plain": [
       "<matplotlib.figure.Figure at 0x137fe0cc0>"
      ]
     },
     "metadata": {},
     "output_type": "display_data"
    },
    {
     "name": "stdout",
     "output_type": "stream",
     "text": [
      "RangeIndex(start=0, stop=1584316, step=1)\n",
      "7\n",
      "Index(['DR Number', 'Area ID', 'Crime_Month', 'Crime_Day', 'Crime_Year',\n",
      "       'Crime_Time', 'Crime_Type'],\n",
      "      dtype='object')\n",
      "   DR Number  Area ID  Crime_Month  Crime_Day  Crime_Year  Crime_Time  \\\n",
      "0    1208575       12            3          1        2013           5   \n",
      "1  102005556       20            1          5        2010           6   \n",
      "2        418       18            3          1        2013           5   \n",
      "3  101822289       18           11          3        2010           5   \n",
      "4   42104479       21            1          6        2014           6   \n",
      "\n",
      "   Crime_Type  \n",
      "0           1  \n",
      "1           5  \n",
      "2           5  \n",
      "3           5  \n",
      "4           3  \n"
     ]
    }
   ],
   "source": [
    "all_crimes = data_la[data_la.columns[2]].values\n",
    "ans = []\n",
    "c_count_la = np.zeros(6)\n",
    "for i in range(len(all_crimes)):\n",
    "    y = transform(all_crimes[i])\n",
    "    ans.append(y)\n",
    "    c_count_la[y-1] = c_count_la[y-1] + 1\n",
    "data_la['Crime_Type'] = ans\n",
    "data_la = data_la.drop(data_la.columns[2],axis=1)\n",
    "plt.title('Crime occurence in Los Angeles category wise in 2014')\n",
    "graph_b(c_count_la)\n",
    "show_details(data_la,0)"
   ]
  },
  {
   "cell_type": "code",
   "execution_count": 144,
   "metadata": {},
   "outputs": [
    {
     "data": {
      "image/png": "[encoded data removed]",
      "text/plain": [
       "<matplotlib.figure.Figure at 0x11ad41470>"
      ]
     },
     "metadata": {},
     "output_type": "display_data"
    }
   ],
   "source": [
    "neigh = data_la[data_la.columns[1]].values\n",
    "n_count_la = np.zeros(21)\n",
    "for i in range(len(neigh)):\n",
    "    n_count_la[neigh[i]-1] = n_count_la[neigh[i]-1] + 1\n",
    "plt.title('Crime occurence in Los Angeles area wise in 2014')\n",
    "graph_b(n_count_la)"
   ]
  },
  {
   "cell_type": "code",
   "execution_count": 145,
   "metadata": {},
   "outputs": [],
   "source": [
    "n_count_d = percentage(n_count_d)\n",
    "n_count_la = percentage(n_count_la)\n",
    "h_count_d = percentage(h_count_d)\n",
    "h_count_la = percentage(h_count_la)\n",
    "d_count_d = percentage(d_count_d)\n",
    "d_count_la = percentage(d_count_la)\n",
    "m_count_d = percentage(m_count_d)\n",
    "m_count_la = percentage(m_count_la)"
   ]
  },
  {
   "cell_type": "code",
   "execution_count": 146,
   "metadata": {},
   "outputs": [
    {
     "data": {
      "image/png": "[encoded data removed]",
      "text/plain": [
       "<matplotlib.figure.Figure at 0x142027e10>"
      ]
     },
     "metadata": {},
     "output_type": "display_data"
    }
   ],
   "source": [
    "bar_width = 4\n",
    "months = ['January','February','March','April','May','June','July','August','September','October','November','December']\n",
    "plt.bar((np.arange(len(m_count_d))*10),m_count_d,bar_width,color='blue',label='Denver')\n",
    "plt.xticks(np.arange(len(m_count_d))*10, months, fontsize=10, rotation=30)\n",
    "plt.bar((np.arange(len(m_count_la))*10)+bar_width,m_count_la,bar_width,color='red',label='Los Angeles')\n",
    "plt.legend(loc = 'lower right')\n",
    "plt.title('Comparison of Crime occurance in Denver and Los Angeles over months')\n",
    "graph_a(1)"
   ]
  },
  {
   "cell_type": "code",
   "execution_count": 147,
   "metadata": {},
   "outputs": [
    {
     "data": {
      "image/png": "[encoded data removed]",
      "text/plain": [
       "<matplotlib.figure.Figure at 0x1143fe240>"
      ]
     },
     "metadata": {},
     "output_type": "display_data"
    }
   ],
   "source": [
    "bar_width = 4\n",
    "days = ['Monday','Tuesday','Wednesday','Thursday','Friday','Saturday','Sunday']\n",
    "plt.bar((np.arange(len(d_count_d))*10),d_count_d,bar_width,color='blue',label='Denver')\n",
    "plt.xticks(np.arange(len(d_count_d))*10,days, fontsize=10, rotation=30)\n",
    "plt.bar((np.arange(len(d_count_la))*10)+bar_width,d_count_la,bar_width,color='red',label='Los Angeles')\n",
    "plt.legend(loc = 'lower right')\n",
    "plt.title('Comparison of Crime occurance in Denver and Los Angeles over days')\n",
    "graph_a(1)"
   ]
  },
  {
   "cell_type": "code",
   "execution_count": 148,
   "metadata": {},
   "outputs": [
    {
     "data": {
      "image/png": "[encoded data removed]",
      "text/plain": [
       "<matplotlib.figure.Figure at 0x115a70198>"
      ]
     },
     "metadata": {},
     "output_type": "display_data"
    }
   ],
   "source": [
    "bar_width = 4\n",
    "days = ['1:00AM - 4:59AM','5:00AM - 8:59AM','9:00AM - 12:59PM','1:00PM - 4:59PM','5:00PM - 8:59PM','9:00PM - 00:59AM']\n",
    "plt.bar((np.arange(len(h_count_d))*10),h_count_d,bar_width,color='blue',label='Denver')\n",
    "plt.bar(np.arange(len(h_count_la))*10+bar_width, h_count_la, bar_width, color='red' ,label='Los Angeles')\n",
    "plt.xticks(np.arange(len(h_count_d))*10,days, fontsize=10, rotation=30)\n",
    "plt.legend(loc = 'lower right')\n",
    "graph_a(1)"
   ]
  },
  {
   "cell_type": "code",
   "execution_count": 149,
   "metadata": {},
   "outputs": [
    {
     "data": {
      "image/png": "[encoded data removed]",
      "text/plain": [
       "<matplotlib.figure.Figure at 0x1143f6668>"
      ]
     },
     "metadata": {},
     "output_type": "display_data"
    }
   ],
   "source": [
    "n_count_t , index_t = find_three(n_count_d,0)\n",
    "n_count_l , index_l = find_three(n_count_d,1)\n",
    "n_count_l.reverse()\n",
    "index_l.reverse()\n",
    "n_count_t = n_count_t + n_count_l\n",
    "index_t = index_t + index_l\n",
    "bar_width = 0.5\n",
    "current = demographics[[demographics.columns[0], demographics.columns[1]]]\n",
    "current = current.sort_values(by=[current.columns[0]])\n",
    "cities = []\n",
    "for i in range(len(index_t)):\n",
    "    cities.append(current[current.columns[1]][index_t[i]])\n",
    "plt.bar((np.arange(len(n_count_t))*1),n_count_t,bar_width,color='blue')\n",
    "plt.xticks(np.arange(len(n_count_t))*1, cities, fontsize=10, rotation=30)\n",
    "plt.title('Percentage of crime in Denver: City Wise')\n",
    "graph_a(1)"
   ]
  },
  {
   "cell_type": "code",
   "execution_count": 150,
   "metadata": {},
   "outputs": [
    {
     "data": {
      "image/png": "[encoded data removed]",
      "text/plain": [
       "<matplotlib.figure.Figure at 0x115a83358>"
      ]
     },
     "metadata": {},
     "output_type": "display_data"
    }
   ],
   "source": [
    "n_count_t , index_t = find_three(n_count_la,0)\n",
    "n_count_l , index_l = find_three(n_count_la,1)\n",
    "n_count_l.reverse()\n",
    "index_l.reverse()\n",
    "n_count_t = n_count_t + n_count_l\n",
    "index_t = index_t + index_l\n",
    "bar_width = 0.5\n",
    "plt.bar((np.arange(len(n_count_t))*1),n_count_t,bar_width,color='blue')\n",
    "plt.title('Percentage of crime in Los Angeles: City Wise')\n",
    "graph_a(1)"
   ]
  },
  {
   "cell_type": "code",
   "execution_count": 151,
   "metadata": {},
   "outputs": [
    {
     "data": {
      "image/png": "[encoded data removed]",
      "text/plain": [
       "<matplotlib.figure.Figure at 0x11c514668>"
      ]
     },
     "metadata": {},
     "output_type": "display_data"
    }
   ],
   "source": [
    "def find_type_prob(a,b):\n",
    "    for i in range(b):\n",
    "        s = 0\n",
    "        for j in range(6):\n",
    "            s = s + a[i][j]\n",
    "        for j in range(6):\n",
    "            a[i][j] = a[i][j] / s\n",
    "    return a\n",
    "\n",
    "day_d = data_d[data_d.columns[4]].values\n",
    "type_d = data_d[data_d.columns[2]].values\n",
    "day_type_d = np.zeros((7,6))\n",
    "for i in range(len(day_d)):\n",
    "    b = day_d[i] - 1\n",
    "    a = type_d[i] - 1\n",
    "    day_type_d[b][a] = day_type_d[b][a] + 1\n",
    "days = ['Monday','Tuesday','Wednesday','Thursday','Friday','Saturday','Sunday']\n",
    "plt.title('Crime type distribution in Denver on every day')\n",
    "type_graph(day_type_d,7,days)"
   ]
  },
  {
   "cell_type": "code",
   "execution_count": 152,
   "metadata": {},
   "outputs": [
    {
     "data": {
      "image/png": "[encoded data removed]",
      "text/plain": [
       "<matplotlib.figure.Figure at 0x118c8b5c0>"
      ]
     },
     "metadata": {},
     "output_type": "display_data"
    }
   ],
   "source": [
    "day_la = data_la[data_la.columns[3]].values\n",
    "type_la = data_la[data_la.columns[5]].values\n",
    "day_type_la = np.zeros((7,6))\n",
    "for i in range(len(day_la)):\n",
    "    b = day_la[i] - 1\n",
    "    a = type_la[i] - 1\n",
    "    day_type_la[b][a] = day_type_la[b][a] + 1\n",
    "days = ['Monday','Tuesday','Wednesday','Thursday','Friday','Saturday','Sunday']\n",
    "plt.title('Crime type distribution in Los Angeles on every day')\n",
    "type_graph(day_type_la,7,days)"
   ]
  },
  {
   "cell_type": "code",
   "execution_count": 153,
   "metadata": {},
   "outputs": [
    {
     "data": {
      "image/png": "[encoded data removed]",
      "text/plain": [
       "<matplotlib.figure.Figure at 0x11c5145c0>"
      ]
     },
     "metadata": {},
     "output_type": "display_data"
    }
   ],
   "source": [
    "time_d = data_d[data_d.columns[5]].values\n",
    "time_type_d = np.zeros((6,6))\n",
    "for i in range(len(time_d)):\n",
    "    b = time_d[i] - 1\n",
    "    a = type_d[i] - 1\n",
    "    time_type_d[b][a] = time_type_d[b][a] + 1    \n",
    "a = ['1:00AM - 4:59AM','5:00AM - 8:59AM','9:00AM - 12:59PM','1:00PM - 4:59PM','5:00PM - 8:59PM','9:00PM - 00:59AM']\n",
    "plt.title('Crime type distribution in Denver based on time')\n",
    "type_graph(time_type_d,6,a)"
   ]
  },
  {
   "cell_type": "code",
   "execution_count": 154,
   "metadata": {},
   "outputs": [
    {
     "data": {
      "image/png": "[encoded data removed]",
      "text/plain": [
       "<matplotlib.figure.Figure at 0x111311240>"
      ]
     },
     "metadata": {},
     "output_type": "display_data"
    }
   ],
   "source": [
    "time_la = data_la[data_la.columns[5]].values\n",
    "time_type_la = np.zeros((6,6))\n",
    "for i in range(len(time_la)):\n",
    "    b = time_la[i] - 1\n",
    "    a = type_la[i] - 1\n",
    "    time_type_la[b][a] = time_type_la[b][a] + 1    \n",
    "a = ['1:00AM - 4:59AM','5:00AM - 8:59AM','9:00AM - 12:59PM','1:00PM - 4:59PM','5:00PM - 8:59PM','9:00PM - 00:59AM']\n",
    "plt.title('Crime type distribution in Los Angeles based on time')\n",
    "type_graph(time_type_la,6,a)"
   ]
  },
  {
   "cell_type": "code",
   "execution_count": 155,
   "metadata": {},
   "outputs": [],
   "source": [
    "train_d = data_d.iloc[0:343100]\n",
    "test_d = data_d.iloc[343101:]"
   ]
  },
  {
   "cell_type": "code",
   "execution_count": 158,
   "metadata": {},
   "outputs": [],
   "source": [
    "train_m_d = train_d[train_d.columns[3]].values\n",
    "train_n_d = train_d[train_d.columns[7]].values\n",
    "train_c_d = train_d[train_d.columns[2]].values\n",
    "train_d_d = train_d[train_d.columns[4]].values\n",
    "train_t_d = train_d[train_d.columns[5]].values\n",
    "train_y_d = train_d[train_d.columns[6]].values\n",
    "test_m_d = test_d[test_d.columns[3]].values\n",
    "test_n_d = test_d[test_d.columns[7]].values\n",
    "test_c_d = test_d[test_d.columns[2]].values\n",
    "test_d_d = test_d[test_d.columns[4]].values\n",
    "test_t_d = test_d[test_d.columns[5]].values\n",
    "test_y_d = test_d[test_d.columns[6]].values\n",
    "\n",
    "for i in range(len(train_y_d)):\n",
    "    t = train_y_d[i] - 2013\n",
    "    train_y_d[i] = t\n",
    "\n",
    "for i in range(len(test_y_d)):\n",
    "    t = test_y_d[i] - 2013\n",
    "    test_y_d[i] = t"
   ]
  },
  {
   "cell_type": "code",
   "execution_count": 159,
   "metadata": {},
   "outputs": [],
   "source": [
    "def prob(a):\n",
    "    s = 0\n",
    "    for i in range(len(a)):\n",
    "        s = s+a[i]\n",
    "    for i in range(len(a)):\n",
    "        a[i] = a[i]/s\n",
    "    return a\n",
    "\n",
    "prob_m_d = prob(count(train_m_d,num_months))\n",
    "prob_n_d = prob(count(train_n_d,num_n_d))\n",
    "prob_c_d = prob(count(train_c_d,6))\n",
    "prob_d_d = prob(count(train_d_d,num_days))\n",
    "prob_t_d = prob(count(train_t_d,num_time_range))\n",
    "prob_y_d = prob(count(train_y_d,6))"
   ]
  },
  {
   "cell_type": "code",
   "execution_count": 160,
   "metadata": {},
   "outputs": [],
   "source": [
    "def bayesian_formula(a,b,c):\n",
    "    for i in range(6):\n",
    "        for j in range(c):\n",
    "            a[i][j] = a[i][j] * b[i]\n",
    "    return a\n",
    "\n",
    "def check_valid(a):\n",
    "    if round(np.sum(a),1)==1.0:\n",
    "        return True\n",
    "    return False\n",
    "\n",
    "def type_prob(a,b):\n",
    "    for i in range(6):\n",
    "        s = 0\n",
    "        for j in range(b):\n",
    "            s = s + a[i][j]\n",
    "        for j in range(b):\n",
    "            a[i][j] = a[i][j] / s\n",
    "    return a\n",
    "\n",
    "def find_matrix(a,b,c,d):\n",
    "    t = np.zeros((d,6))\n",
    "    for i in range(len(a)):\n",
    "        t[a[i]-1][b[i]-1] = t[a[i]-1][b[i]-1] + 1\n",
    "    t = np.transpose(t)\n",
    "    t = type_prob(t,d)\n",
    "    t = bayesian_formula(t,c,d)\n",
    "    return t\n",
    "\n",
    "month_type_d = find_matrix(train_m_d,train_c_d,prob_c_d,num_months)\n",
    "day_type_d = find_matrix(train_d_d,train_c_d,prob_c_d,num_days)\n",
    "time_type_d = find_matrix(train_t_d,train_c_d,prob_c_d,num_time_range)\n",
    "n_type_d = find_matrix(train_n_d,train_c_d,prob_c_d,num_n_d)\n",
    "y_type_d = find_matrix(train_y_d,train_c_d,prob_y_d,6)"
   ]
  },
  {
   "cell_type": "code",
   "execution_count": 161,
   "metadata": {},
   "outputs": [],
   "source": [
    "def find_final_catogory_prob(a,b,d):\n",
    "    c = []\n",
    "    for i in range(len(a)):\n",
    "        t = a[i]\n",
    "        ans = -1\n",
    "        maxi = 0\n",
    "        for j in range(b):\n",
    "            if(d[j][t-1]>maxi):\n",
    "                maxi=d[j][t-1]\n",
    "                ans = j+1\n",
    "        c.append(ans)\n",
    "    return c\n",
    "\n",
    "test_m_c_d = find_final_catogory_prob(test_m_d,6,month_type_d)\n",
    "test_m_d_d = find_final_catogory_prob(test_d_d,6,day_type_d)\n",
    "test_m_n_d = find_final_catogory_prob(test_n_d,6,n_type_d)\n",
    "test_m_t_d = find_final_catogory_prob(test_t_d,6,time_type_d)\n",
    "test_m_t_d = find_final_catogory_prob(test_t_d,6,time_type_d)"
   ]
  },
  {
   "cell_type": "code",
   "execution_count": 166,
   "metadata": {},
   "outputs": [
    {
     "name": "stdout",
     "output_type": "stream",
     "text": [
      "[    0.     0.  4164.     0. 15050.     0.]\n",
      "8767\n",
      "19214\n",
      "0.4562818777974394\n"
     ]
    }
   ],
   "source": [
    "count = np.zeros(6)\n",
    "test_results = []\n",
    "for i in range(len(test_m_d)):\n",
    "    maxi = 0\n",
    "    for j in range(6):\n",
    "        k = month_type_d[j][test_m_d[i]-1]*time_type_d[j][test_t_d[i]-1]*day_type_d[j][test_d_d[i]-1]*n_type_d[j][test_n_d[i]-1]*y_type_d[j][test_y_d[i]-1]\n",
    "        if(maxi<k):\n",
    "            maxi = k\n",
    "            ans = j+1\n",
    "    test_results.append(ans)\n",
    "    count[ans-1] = count[ans-1] + 1\n",
    "print(count)\n",
    "\n",
    "correct=0\n",
    "for i in range(len(test_results)):\n",
    "    if(test_c_d[i]==test_results[i]):\n",
    "        correct = correct + 1\n",
    "print(correct)\n",
    "print(len(test_results))\n",
    "print(correct/len(test_results))\n",
    "#     one = month_type_d[test_m_d[i]-1][0]*time_type_d[test_t_d[i]-1][0]*day_type_d[test_d_d[i]-1][0]"
   ]
  },
  {
   "cell_type": "code",
   "execution_count": 167,
   "metadata": {},
   "outputs": [
    {
     "name": "stdout",
     "output_type": "stream",
     "text": [
      "[[   0.    0.  220.    0.  450.    0.]\n",
      " [   0.    0.  440.    0. 1127.    0.]\n",
      " [   0.    0. 1823.    0. 4088.    0.]\n",
      " [   0.    0.  591.    0. 2138.    0.]\n",
      " [   0.    0. 1052.    0. 6944.    0.]\n",
      " [   0.    0.   38.    0.  303.    0.]]\n"
     ]
    }
   ],
   "source": [
    "y = np.zeros((6,6))\n",
    "for i in range(len(test_c_d)):\n",
    "    y[test_c_d[i]-1][test_results[i]-1] = y[test_c_d[i]-1][test_results[i]-1] + 1\n",
    "print(y)"
   ]
  },
  {
   "cell_type": "code",
   "execution_count": null,
   "metadata": {},
   "outputs": [],
   "source": [
    "def calculate(true_positive,false_positive,false_negative,true_negative):\n",
    "    result = {}\n",
    "    result['precision'] = true_positive / (true_positive + false_positive)\n",
    "    result['recall'] = true_positive / (true_positive + false_negative)\n",
    "    return result\n",
    "\n",
    "def confusion_matrix(true_positive,false_positive,false_negative,true_negative):\n",
    "    matrix = PrettyTable([' ', 'Ham' , 'Spam'])\n",
    "    matrix.add_row(['Ham', true_positive , false_positive])\n",
    "    matrix.add_row(['Spam', false_negative , true_negative])\n",
    "    return matrix , calculate(true_positive,false_positive,false_negative,true_negative)\n",
    "\n",
    "for i in range()"
   ]
  },
  {
   "cell_type": "code",
   "execution_count": null,
   "metadata": {},
   "outputs": [],
   "source": [
    "end_time = time()\n",
    "print(round(end_time - start_time,2))"
   ]
  },
  {
   "cell_type": "code",
   "execution_count": null,
   "metadata": {},
   "outputs": [],
   "source": [
    "# month_type_d = np.zeros((num_months,6))\n",
    "# for i in range(len(train_m_d)):\n",
    "#      month_type_d[train_m_d[i]-1][train_c_d[i]-1] = month_type_d[train_m_d[i]-1][train_c_d[i]-1] + 1\n",
    "# month_type_d = np.transpose(month_type_d)\n",
    "# month_type_d = type_prob(month_type_d,num_months)\n",
    "# month_type_d = bayesian_formula(month_type_d,prob_c_d,num_months)\n",
    "# print(month_type_d)\n",
    "\n",
    "# day_type_d = np.zeros((num_days,6))\n",
    "# for i in range(len(train_d_d)):\n",
    "#      day_type_d[train_d_d[i]-1][train_c_d[i]-1] = day_type_d[train_d_d[i]-1][train_c_d[i]-1] + 1\n",
    "# day_type_d = np.transpose(day_type_d)\n",
    "# day_type_d = type_prob(day_type_d,num_days)\n",
    "# day_type_d = bayesian_formula(day_type_d,prob_c_d,num_days)\n",
    "# print(day_type_d)\n",
    "\n",
    "# day_type_d = np.zeros((num_days,6))\n",
    "# for i in range(len(train_d_d)):\n",
    "#      day_type_d[train_d_d[i]-1][train_c_d[i]-1] = day_type_d[train_d_d[i]-1][train_c_d[i]-1] + 1\n",
    "# day_type_d = np.transpose(day_type_d)\n",
    "# day_type_d = type_prob(day_type_d,num_days)\n",
    "# day_type_d = bayesian_formula(day_type_d,prob_c_d,num_days)\n",
    "# print(day_type_d)"
   ]
  },
  {
   "cell_type": "code",
   "execution_count": null,
   "metadata": {},
   "outputs": [],
   "source": [
    "# # Given a month what is the probability that crime committed belongs to a particular category\n",
    "# month_type_d = np.zeros((12,6))\n",
    "# for i in range(len(train_m_d)):\n",
    "#      month_type_d[train_m_d[i]-1][train_c_d[i]-1] = month_type_d[train_m_d[i]-1][train_c_d[i]-1] + 1\n",
    "# month_type_d = find_type_prob(month_type_d,12)"
   ]
  },
  {
   "cell_type": "code",
   "execution_count": 101,
   "metadata": {},
   "outputs": [],
   "source": [
    "# # Given a day what is the probability that crime committed belongs to a particular category\n",
    "# day_type_d = np.zeros((7,6))\n",
    "# for i in range(len(train_d_d)):\n",
    "#      day_type_d[train_d_d[i]-1][train_c_d[i]-1] = day_type_d[train_d_d[i]-1][train_c_d[i]-1] + 1\n",
    "# day_type_d = find_type_prob(day_type_d,7)"
   ]
  },
  {
   "cell_type": "code",
   "execution_count": 102,
   "metadata": {},
   "outputs": [],
   "source": [
    "# # Given a time range what is the probability that crime committed belongs to a particular category\n",
    "# time_type_d = np.zeros((6,6))\n",
    "# for i in range(len(train_t_d)):\n",
    "#      time_type_d[train_t_d[i]-1][train_c_d[i]-1] = time_type_d[train_t_d[i]-1][train_c_d[i]-1] + 1\n",
    "# time_type_d = find_type_prob(time_type_d,num_time_range)"
   ]
  },
  {
   "cell_type": "code",
   "execution_count": 168,
   "metadata": {
    "scrolled": true
   },
   "outputs": [],
   "source": [
    "# # Given an area what is the probability that crime committed belongs to a particular category\n",
    "# n_type_d = np.zeros((78,6))\n",
    "# for i in range(len(train_n_d)):\n",
    "#      n_type_d[train_n_d[i]-1][train_c_d[i]-1] = n_type_d[train_n_d[i]-1][train_c_d[i]-1] + 1\n",
    "# n_type_d = find_type_prob(n_type_d,num_n_d)"
   ]
  },
  {
   "cell_type": "code",
   "execution_count": 104,
   "metadata": {},
   "outputs": [],
   "source": [
    "# # Finding probablity that of month intersection with category\n",
    "# month_type_d = bayesian_formula(month_type_d,prob_m_d,num_months)\n",
    "\n",
    "# # Finding probablity that of day intersection with category\n",
    "# day_type_d = bayesian_formula(day_type_d,prob_d_d,num_days)\n",
    "\n",
    "# # Finding probablity that of time intersection with category\n",
    "# time_type_d = bayesian_formula(time_type_d,prob_t_d,num_time_range)\n",
    "\n",
    "# # Finding probablity that of neighbourhood area intersection with category\n",
    "# n_type_d = bayesian_formula(n_type_d,prob_n_d,num_n_d)"
   ]
  },
  {
   "cell_type": "code",
   "execution_count": 105,
   "metadata": {},
   "outputs": [],
   "source": [
    "# print(check_valid(month_type_d))\n",
    "# print(check_valid(day_type_d))\n",
    "# print(check_valid(time_type_d))\n",
    "# print(check_valid(n_type_d))"
   ]
  }
 ],
 "metadata": {
  "kernelspec": {
   "display_name": "Python 3",
   "language": "python",
   "name": "python3"
  },
  "language_info": {
   "codemirror_mode": {
    "name": "ipython",
    "version": 3
   },
   "file_extension": ".py",
   "mimetype": "text/x-python",
   "name": "python",
   "nbconvert_exporter": "python",
   "pygments_lexer": "ipython3",
   "version": "3.6.0"
  }
 },
 "nbformat": 4,
 "nbformat_minor": 2
}
