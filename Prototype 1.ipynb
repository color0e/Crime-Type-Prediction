{
 "cells": [
  {
   "cell_type": "markdown",
   "metadata": {},
   "source": [
    "# Crime Type Prediction and Crime Occurence Prediction"
   ]
  },
  {
   "cell_type": "markdown",
   "metadata": {},
   "source": [
    "#### Importing various libraries"
   ]
  },
  {
   "cell_type": "code",
   "execution_count": 218,
   "metadata": {},
   "outputs": [],
   "source": [
    "import sys\n",
    "import math\n",
    "import holidays\n",
    "import calendar \n",
    "import datetime\n",
    "import numpy as np\n",
    "import pandas as pd\n",
    "from time import time\n",
    "import matplotlib.pyplot as plt\n",
    "from IPython.display import Latex\n",
    "from sklearn.naive_bayes import GaussianNB\n",
    "from sklearn.naive_bayes import BernoulliNB\n",
    "from statsmodels.tsa.arima_model import ARIMA\n",
    "from sklearn.naive_bayes import MultinomialNB\n",
    "from pandas.tools.plotting import autocorrelation_plot"
   ]
  },
  {
   "cell_type": "markdown",
   "metadata": {},
   "source": [
    "#### Declaring constants used throughout the code"
   ]
  },
  {
   "cell_type": "code",
   "execution_count": 219,
   "metadata": {},
   "outputs": [],
   "source": [
    "num_days = 7\n",
    "num_months = 12\n",
    "num_time_range = 6\n",
    "num_n_d = 78\n",
    "num_years = 6\n",
    "num_type = 15\n",
    "num_districts = 7"
   ]
  },
  {
   "cell_type": "markdown",
   "metadata": {},
   "source": [
    "# Section 1 : Visualizing the dataset\n",
    "Includes following tasks :\n",
    "1. Loading the dataset\n",
    "2. Filtering the dataset\n",
    "3. Pre processing to obtain necessary columns\n",
    "4. Mapping year , day , time , area , category and month to a mapping integer"
   ]
  },
  {
   "cell_type": "markdown",
   "metadata": {},
   "source": [
    "### Loading Denver Dataset"
   ]
  },
  {
   "cell_type": "code",
   "execution_count": 220,
   "metadata": {},
   "outputs": [
    {
     "data": {
      "text/html": [
       "<div>\n",
       "<style>\n",
       "    .dataframe thead tr:only-child th {\n",
       "        text-align: right;\n",
       "    }\n",
       "\n",
       "    .dataframe thead th {\n",
       "        text-align: left;\n",
       "    }\n",
       "\n",
       "    .dataframe tbody tr th {\n",
       "        vertical-align: top;\n",
       "    }\n",
       "</style>\n",
       "<table border=\"1\" class=\"dataframe\">\n",
       "  <thead>\n",
       "    <tr style=\"text-align: right;\">\n",
       "      <th></th>\n",
       "      <th>INCIDENT_ID</th>\n",
       "      <th>OFFENSE_ID</th>\n",
       "      <th>OFFENSE_CODE</th>\n",
       "      <th>OFFENSE_CODE_EXTENSION</th>\n",
       "      <th>OFFENSE_TYPE_ID</th>\n",
       "      <th>OFFENSE_CATEGORY_ID</th>\n",
       "      <th>FIRST_OCCURRENCE_DATE</th>\n",
       "      <th>LAST_OCCURRENCE_DATE</th>\n",
       "      <th>REPORTED_DATE</th>\n",
       "      <th>INCIDENT_ADDRESS</th>\n",
       "      <th>GEO_X</th>\n",
       "      <th>GEO_Y</th>\n",
       "      <th>GEO_LON</th>\n",
       "      <th>GEO_LAT</th>\n",
       "      <th>DISTRICT_ID</th>\n",
       "      <th>PRECINCT_ID</th>\n",
       "      <th>NEIGHBORHOOD_ID</th>\n",
       "      <th>IS_CRIME</th>\n",
       "      <th>IS_TRAFFIC</th>\n",
       "    </tr>\n",
       "  </thead>\n",
       "  <tbody>\n",
       "    <tr>\n",
       "      <th>0</th>\n",
       "      <td>2016376978</td>\n",
       "      <td>2016376978521300</td>\n",
       "      <td>5213</td>\n",
       "      <td>0</td>\n",
       "      <td>weapon-unlawful-discharge-of</td>\n",
       "      <td>all-other-crimes</td>\n",
       "      <td>6/15/2016 11:31:00 PM</td>\n",
       "      <td>NaN</td>\n",
       "      <td>6/15/2016 11:31:00 PM</td>\n",
       "      <td>NaN</td>\n",
       "      <td>3193983.0</td>\n",
       "      <td>1707251.0</td>\n",
       "      <td>-104.809881</td>\n",
       "      <td>39.773188</td>\n",
       "      <td>5</td>\n",
       "      <td>521</td>\n",
       "      <td>montbello</td>\n",
       "      <td>1</td>\n",
       "      <td>0</td>\n",
       "    </tr>\n",
       "    <tr>\n",
       "      <th>1</th>\n",
       "      <td>20186000994</td>\n",
       "      <td>20186000994239900</td>\n",
       "      <td>2399</td>\n",
       "      <td>0</td>\n",
       "      <td>theft-other</td>\n",
       "      <td>larceny</td>\n",
       "      <td>10/11/2017 12:30:00 PM</td>\n",
       "      <td>10/11/2017 4:55:00 PM</td>\n",
       "      <td>1/29/2018 5:53:00 PM</td>\n",
       "      <td>NaN</td>\n",
       "      <td>3201943.0</td>\n",
       "      <td>1711852.0</td>\n",
       "      <td>-104.781434</td>\n",
       "      <td>39.785649</td>\n",
       "      <td>5</td>\n",
       "      <td>522</td>\n",
       "      <td>gateway-green-valley-ranch</td>\n",
       "      <td>1</td>\n",
       "      <td>0</td>\n",
       "    </tr>\n",
       "    <tr>\n",
       "      <th>2</th>\n",
       "      <td>20166003953</td>\n",
       "      <td>20166003953230500</td>\n",
       "      <td>2305</td>\n",
       "      <td>0</td>\n",
       "      <td>theft-items-from-vehicle</td>\n",
       "      <td>theft-from-motor-vehicle</td>\n",
       "      <td>3/4/2016 8:00:00 PM</td>\n",
       "      <td>4/25/2016 8:00:00 AM</td>\n",
       "      <td>4/26/2016 9:02:00 PM</td>\n",
       "      <td>2932 S JOSEPHINE ST</td>\n",
       "      <td>3152762.0</td>\n",
       "      <td>1667011.0</td>\n",
       "      <td>-104.957381</td>\n",
       "      <td>39.663490</td>\n",
       "      <td>3</td>\n",
       "      <td>314</td>\n",
       "      <td>wellshire</td>\n",
       "      <td>1</td>\n",
       "      <td>0</td>\n",
       "    </tr>\n",
       "    <tr>\n",
       "      <th>3</th>\n",
       "      <td>201872333</td>\n",
       "      <td>201872333239900</td>\n",
       "      <td>2399</td>\n",
       "      <td>0</td>\n",
       "      <td>theft-other</td>\n",
       "      <td>larceny</td>\n",
       "      <td>1/30/2018 7:20:00 PM</td>\n",
       "      <td>NaN</td>\n",
       "      <td>1/30/2018 10:29:00 PM</td>\n",
       "      <td>705 S COLORADO BLVD</td>\n",
       "      <td>3157162.0</td>\n",
       "      <td>1681320.0</td>\n",
       "      <td>-104.941440</td>\n",
       "      <td>39.702698</td>\n",
       "      <td>3</td>\n",
       "      <td>312</td>\n",
       "      <td>belcaro</td>\n",
       "      <td>1</td>\n",
       "      <td>0</td>\n",
       "    </tr>\n",
       "    <tr>\n",
       "      <th>4</th>\n",
       "      <td>2017411405</td>\n",
       "      <td>2017411405230300</td>\n",
       "      <td>2303</td>\n",
       "      <td>0</td>\n",
       "      <td>theft-shoplift</td>\n",
       "      <td>larceny</td>\n",
       "      <td>6/22/2017 8:53:00 PM</td>\n",
       "      <td>NaN</td>\n",
       "      <td>6/23/2017 4:09:00 PM</td>\n",
       "      <td>2810 E 1ST AVE</td>\n",
       "      <td>3153211.0</td>\n",
       "      <td>1686545.0</td>\n",
       "      <td>-104.955370</td>\n",
       "      <td>39.717107</td>\n",
       "      <td>3</td>\n",
       "      <td>311</td>\n",
       "      <td>cherry-creek</td>\n",
       "      <td>1</td>\n",
       "      <td>0</td>\n",
       "    </tr>\n",
       "  </tbody>\n",
       "</table>\n",
       "</div>"
      ],
      "text/plain": [
       "   INCIDENT_ID         OFFENSE_ID  OFFENSE_CODE  OFFENSE_CODE_EXTENSION  \\\n",
       "0   2016376978   2016376978521300          5213                       0   \n",
       "1  20186000994  20186000994239900          2399                       0   \n",
       "2  20166003953  20166003953230500          2305                       0   \n",
       "3    201872333    201872333239900          2399                       0   \n",
       "4   2017411405   2017411405230300          2303                       0   \n",
       "\n",
       "                OFFENSE_TYPE_ID       OFFENSE_CATEGORY_ID  \\\n",
       "0  weapon-unlawful-discharge-of          all-other-crimes   \n",
       "1                   theft-other                   larceny   \n",
       "2      theft-items-from-vehicle  theft-from-motor-vehicle   \n",
       "3                   theft-other                   larceny   \n",
       "4                theft-shoplift                   larceny   \n",
       "\n",
       "    FIRST_OCCURRENCE_DATE   LAST_OCCURRENCE_DATE          REPORTED_DATE  \\\n",
       "0   6/15/2016 11:31:00 PM                    NaN  6/15/2016 11:31:00 PM   \n",
       "1  10/11/2017 12:30:00 PM  10/11/2017 4:55:00 PM   1/29/2018 5:53:00 PM   \n",
       "2     3/4/2016 8:00:00 PM   4/25/2016 8:00:00 AM   4/26/2016 9:02:00 PM   \n",
       "3    1/30/2018 7:20:00 PM                    NaN  1/30/2018 10:29:00 PM   \n",
       "4    6/22/2017 8:53:00 PM                    NaN   6/23/2017 4:09:00 PM   \n",
       "\n",
       "      INCIDENT_ADDRESS      GEO_X      GEO_Y     GEO_LON    GEO_LAT  \\\n",
       "0                  NaN  3193983.0  1707251.0 -104.809881  39.773188   \n",
       "1                  NaN  3201943.0  1711852.0 -104.781434  39.785649   \n",
       "2  2932 S JOSEPHINE ST  3152762.0  1667011.0 -104.957381  39.663490   \n",
       "3  705 S COLORADO BLVD  3157162.0  1681320.0 -104.941440  39.702698   \n",
       "4       2810 E 1ST AVE  3153211.0  1686545.0 -104.955370  39.717107   \n",
       "\n",
       "   DISTRICT_ID  PRECINCT_ID             NEIGHBORHOOD_ID  IS_CRIME  IS_TRAFFIC  \n",
       "0            5          521                   montbello         1           0  \n",
       "1            5          522  gateway-green-valley-ranch         1           0  \n",
       "2            3          314                   wellshire         1           0  \n",
       "3            3          312                     belcaro         1           0  \n",
       "4            3          311                cherry-creek         1           0  "
      ]
     },
     "execution_count": 220,
     "metadata": {},
     "output_type": "execute_result"
    }
   ],
   "source": [
    "data = pd.read_csv('denver.csv')\n",
    "data.head(5)"
   ]
  },
  {
   "cell_type": "markdown",
   "metadata": {},
   "source": [
    "### Pre-processing the data to get required number of columns"
   ]
  },
  {
   "cell_type": "code",
   "execution_count": 221,
   "metadata": {},
   "outputs": [
    {
     "data": {
      "text/html": [
       "<div>\n",
       "<style>\n",
       "    .dataframe thead tr:only-child th {\n",
       "        text-align: right;\n",
       "    }\n",
       "\n",
       "    .dataframe thead th {\n",
       "        text-align: left;\n",
       "    }\n",
       "\n",
       "    .dataframe tbody tr th {\n",
       "        vertical-align: top;\n",
       "    }\n",
       "</style>\n",
       "<table border=\"1\" class=\"dataframe\">\n",
       "  <thead>\n",
       "    <tr style=\"text-align: right;\">\n",
       "      <th></th>\n",
       "      <th>OFFENSE_CODE</th>\n",
       "      <th>OFFENSE_CODE_EXTENSION</th>\n",
       "      <th>OFFENSE_TYPE_ID</th>\n",
       "      <th>OFFENSE_CATEGORY_ID</th>\n",
       "      <th>FIRST_OCCURRENCE_DATE</th>\n",
       "      <th>REPORTED_DATE</th>\n",
       "      <th>GEO_X</th>\n",
       "      <th>GEO_Y</th>\n",
       "      <th>GEO_LON</th>\n",
       "      <th>GEO_LAT</th>\n",
       "      <th>DISTRICT_ID</th>\n",
       "      <th>PRECINCT_ID</th>\n",
       "      <th>NEIGHBORHOOD_ID</th>\n",
       "    </tr>\n",
       "  </thead>\n",
       "  <tbody>\n",
       "    <tr>\n",
       "      <th>0</th>\n",
       "      <td>5213</td>\n",
       "      <td>0</td>\n",
       "      <td>weapon-unlawful-discharge-of</td>\n",
       "      <td>all-other-crimes</td>\n",
       "      <td>6/15/2016 11:31:00 PM</td>\n",
       "      <td>6/15/2016 11:31:00 PM</td>\n",
       "      <td>3193983.0</td>\n",
       "      <td>1707251.0</td>\n",
       "      <td>-104.809881</td>\n",
       "      <td>39.773188</td>\n",
       "      <td>5</td>\n",
       "      <td>521</td>\n",
       "      <td>montbello</td>\n",
       "    </tr>\n",
       "    <tr>\n",
       "      <th>1</th>\n",
       "      <td>2399</td>\n",
       "      <td>0</td>\n",
       "      <td>theft-other</td>\n",
       "      <td>larceny</td>\n",
       "      <td>10/11/2017 12:30:00 PM</td>\n",
       "      <td>1/29/2018 5:53:00 PM</td>\n",
       "      <td>3201943.0</td>\n",
       "      <td>1711852.0</td>\n",
       "      <td>-104.781434</td>\n",
       "      <td>39.785649</td>\n",
       "      <td>5</td>\n",
       "      <td>522</td>\n",
       "      <td>gateway-green-valley-ranch</td>\n",
       "    </tr>\n",
       "    <tr>\n",
       "      <th>2</th>\n",
       "      <td>2305</td>\n",
       "      <td>0</td>\n",
       "      <td>theft-items-from-vehicle</td>\n",
       "      <td>theft-from-motor-vehicle</td>\n",
       "      <td>3/4/2016 8:00:00 PM</td>\n",
       "      <td>4/26/2016 9:02:00 PM</td>\n",
       "      <td>3152762.0</td>\n",
       "      <td>1667011.0</td>\n",
       "      <td>-104.957381</td>\n",
       "      <td>39.663490</td>\n",
       "      <td>3</td>\n",
       "      <td>314</td>\n",
       "      <td>wellshire</td>\n",
       "    </tr>\n",
       "    <tr>\n",
       "      <th>3</th>\n",
       "      <td>2399</td>\n",
       "      <td>0</td>\n",
       "      <td>theft-other</td>\n",
       "      <td>larceny</td>\n",
       "      <td>1/30/2018 7:20:00 PM</td>\n",
       "      <td>1/30/2018 10:29:00 PM</td>\n",
       "      <td>3157162.0</td>\n",
       "      <td>1681320.0</td>\n",
       "      <td>-104.941440</td>\n",
       "      <td>39.702698</td>\n",
       "      <td>3</td>\n",
       "      <td>312</td>\n",
       "      <td>belcaro</td>\n",
       "    </tr>\n",
       "    <tr>\n",
       "      <th>4</th>\n",
       "      <td>2303</td>\n",
       "      <td>0</td>\n",
       "      <td>theft-shoplift</td>\n",
       "      <td>larceny</td>\n",
       "      <td>6/22/2017 8:53:00 PM</td>\n",
       "      <td>6/23/2017 4:09:00 PM</td>\n",
       "      <td>3153211.0</td>\n",
       "      <td>1686545.0</td>\n",
       "      <td>-104.955370</td>\n",
       "      <td>39.717107</td>\n",
       "      <td>3</td>\n",
       "      <td>311</td>\n",
       "      <td>cherry-creek</td>\n",
       "    </tr>\n",
       "  </tbody>\n",
       "</table>\n",
       "</div>"
      ],
      "text/plain": [
       "   OFFENSE_CODE  OFFENSE_CODE_EXTENSION               OFFENSE_TYPE_ID  \\\n",
       "0          5213                       0  weapon-unlawful-discharge-of   \n",
       "1          2399                       0                   theft-other   \n",
       "2          2305                       0      theft-items-from-vehicle   \n",
       "3          2399                       0                   theft-other   \n",
       "4          2303                       0                theft-shoplift   \n",
       "\n",
       "        OFFENSE_CATEGORY_ID   FIRST_OCCURRENCE_DATE          REPORTED_DATE  \\\n",
       "0          all-other-crimes   6/15/2016 11:31:00 PM  6/15/2016 11:31:00 PM   \n",
       "1                   larceny  10/11/2017 12:30:00 PM   1/29/2018 5:53:00 PM   \n",
       "2  theft-from-motor-vehicle     3/4/2016 8:00:00 PM   4/26/2016 9:02:00 PM   \n",
       "3                   larceny    1/30/2018 7:20:00 PM  1/30/2018 10:29:00 PM   \n",
       "4                   larceny    6/22/2017 8:53:00 PM   6/23/2017 4:09:00 PM   \n",
       "\n",
       "       GEO_X      GEO_Y     GEO_LON    GEO_LAT  DISTRICT_ID  PRECINCT_ID  \\\n",
       "0  3193983.0  1707251.0 -104.809881  39.773188            5          521   \n",
       "1  3201943.0  1711852.0 -104.781434  39.785649            5          522   \n",
       "2  3152762.0  1667011.0 -104.957381  39.663490            3          314   \n",
       "3  3157162.0  1681320.0 -104.941440  39.702698            3          312   \n",
       "4  3153211.0  1686545.0 -104.955370  39.717107            3          311   \n",
       "\n",
       "              NEIGHBORHOOD_ID  \n",
       "0                   montbello  \n",
       "1  gateway-green-valley-ranch  \n",
       "2                   wellshire  \n",
       "3                     belcaro  \n",
       "4                cherry-creek  "
      ]
     },
     "execution_count": 221,
     "metadata": {},
     "output_type": "execute_result"
    }
   ],
   "source": [
    "data_d = data.drop([data.columns[0],data.columns[1],data.columns[7],data.columns[9],data.columns[17],data.columns[18]],axis=1)\n",
    "data_d.head(5)"
   ]
  },
  {
   "cell_type": "markdown",
   "metadata": {},
   "source": [
    "### Finding number of unique values in every column"
   ]
  },
  {
   "cell_type": "code",
   "execution_count": 222,
   "metadata": {},
   "outputs": [
    {
     "data": {
      "text/plain": [
       "94405"
      ]
     },
     "execution_count": 222,
     "metadata": {},
     "output_type": "execute_result"
    }
   ],
   "source": [
    "district_ids = pd.unique(data_d[data_d.columns[9]].values.ravel()).tolist()\n",
    "len(district_ids)"
   ]
  },
  {
   "cell_type": "code",
   "execution_count": 223,
   "metadata": {},
   "outputs": [
    {
     "data": {
      "text/plain": [
       "7"
      ]
     },
     "execution_count": 223,
     "metadata": {},
     "output_type": "execute_result"
    }
   ],
   "source": [
    "precinct_ids = pd.unique(data_d[data_d.columns[10]].values.ravel()).tolist()\n",
    "len(precinct_ids)"
   ]
  },
  {
   "cell_type": "code",
   "execution_count": 224,
   "metadata": {},
   "outputs": [
    {
     "data": {
      "text/plain": [
       "154"
      ]
     },
     "execution_count": 224,
     "metadata": {},
     "output_type": "execute_result"
    }
   ],
   "source": [
    "offence_ids = pd.unique(data_d[data_d.columns[0]].values.ravel()).tolist()\n",
    "len(offence_ids)"
   ]
  },
  {
   "cell_type": "code",
   "execution_count": 225,
   "metadata": {},
   "outputs": [
    {
     "data": {
      "text/plain": [
       "6"
      ]
     },
     "execution_count": 225,
     "metadata": {},
     "output_type": "execute_result"
    }
   ],
   "source": [
    "code_extensions = pd.unique(data_d[data_d.columns[1]].values.ravel()).tolist()\n",
    "len(code_extensions)"
   ]
  },
  {
   "cell_type": "code",
   "execution_count": 226,
   "metadata": {},
   "outputs": [
    {
     "data": {
      "text/plain": [
       "15"
      ]
     },
     "execution_count": 226,
     "metadata": {},
     "output_type": "execute_result"
    }
   ],
   "source": [
    "crime_categories = pd.unique(data_d[data_d.columns[3]].values.ravel()).tolist()\n",
    "len(crime_categories)"
   ]
  },
  {
   "cell_type": "markdown",
   "metadata": {},
   "source": [
    "### Mapping crime type to an integer"
   ]
  },
  {
   "cell_type": "code",
   "execution_count": 227,
   "metadata": {},
   "outputs": [
    {
     "data": {
      "text/html": [
       "<div>\n",
       "<style>\n",
       "    .dataframe thead tr:only-child th {\n",
       "        text-align: right;\n",
       "    }\n",
       "\n",
       "    .dataframe thead th {\n",
       "        text-align: left;\n",
       "    }\n",
       "\n",
       "    .dataframe tbody tr th {\n",
       "        vertical-align: top;\n",
       "    }\n",
       "</style>\n",
       "<table border=\"1\" class=\"dataframe\">\n",
       "  <thead>\n",
       "    <tr style=\"text-align: right;\">\n",
       "      <th></th>\n",
       "      <th>OFFENSE_CODE</th>\n",
       "      <th>OFFENSE_CODE_EXTENSION</th>\n",
       "      <th>OFFENSE_TYPE_ID</th>\n",
       "      <th>FIRST_OCCURRENCE_DATE</th>\n",
       "      <th>REPORTED_DATE</th>\n",
       "      <th>GEO_X</th>\n",
       "      <th>GEO_Y</th>\n",
       "      <th>GEO_LON</th>\n",
       "      <th>GEO_LAT</th>\n",
       "      <th>DISTRICT_ID</th>\n",
       "      <th>PRECINCT_ID</th>\n",
       "      <th>NEIGHBORHOOD_ID</th>\n",
       "      <th>Crime_Type</th>\n",
       "    </tr>\n",
       "  </thead>\n",
       "  <tbody>\n",
       "    <tr>\n",
       "      <th>0</th>\n",
       "      <td>5213</td>\n",
       "      <td>0</td>\n",
       "      <td>weapon-unlawful-discharge-of</td>\n",
       "      <td>6/15/2016 11:31:00 PM</td>\n",
       "      <td>6/15/2016 11:31:00 PM</td>\n",
       "      <td>3193983.0</td>\n",
       "      <td>1707251.0</td>\n",
       "      <td>-104.809881</td>\n",
       "      <td>39.773188</td>\n",
       "      <td>5</td>\n",
       "      <td>521</td>\n",
       "      <td>montbello</td>\n",
       "      <td>1</td>\n",
       "    </tr>\n",
       "    <tr>\n",
       "      <th>1</th>\n",
       "      <td>2399</td>\n",
       "      <td>0</td>\n",
       "      <td>theft-other</td>\n",
       "      <td>10/11/2017 12:30:00 PM</td>\n",
       "      <td>1/29/2018 5:53:00 PM</td>\n",
       "      <td>3201943.0</td>\n",
       "      <td>1711852.0</td>\n",
       "      <td>-104.781434</td>\n",
       "      <td>39.785649</td>\n",
       "      <td>5</td>\n",
       "      <td>522</td>\n",
       "      <td>gateway-green-valley-ranch</td>\n",
       "      <td>2</td>\n",
       "    </tr>\n",
       "    <tr>\n",
       "      <th>2</th>\n",
       "      <td>2305</td>\n",
       "      <td>0</td>\n",
       "      <td>theft-items-from-vehicle</td>\n",
       "      <td>3/4/2016 8:00:00 PM</td>\n",
       "      <td>4/26/2016 9:02:00 PM</td>\n",
       "      <td>3152762.0</td>\n",
       "      <td>1667011.0</td>\n",
       "      <td>-104.957381</td>\n",
       "      <td>39.663490</td>\n",
       "      <td>3</td>\n",
       "      <td>314</td>\n",
       "      <td>wellshire</td>\n",
       "      <td>3</td>\n",
       "    </tr>\n",
       "    <tr>\n",
       "      <th>3</th>\n",
       "      <td>2399</td>\n",
       "      <td>0</td>\n",
       "      <td>theft-other</td>\n",
       "      <td>1/30/2018 7:20:00 PM</td>\n",
       "      <td>1/30/2018 10:29:00 PM</td>\n",
       "      <td>3157162.0</td>\n",
       "      <td>1681320.0</td>\n",
       "      <td>-104.941440</td>\n",
       "      <td>39.702698</td>\n",
       "      <td>3</td>\n",
       "      <td>312</td>\n",
       "      <td>belcaro</td>\n",
       "      <td>2</td>\n",
       "    </tr>\n",
       "    <tr>\n",
       "      <th>4</th>\n",
       "      <td>2303</td>\n",
       "      <td>0</td>\n",
       "      <td>theft-shoplift</td>\n",
       "      <td>6/22/2017 8:53:00 PM</td>\n",
       "      <td>6/23/2017 4:09:00 PM</td>\n",
       "      <td>3153211.0</td>\n",
       "      <td>1686545.0</td>\n",
       "      <td>-104.955370</td>\n",
       "      <td>39.717107</td>\n",
       "      <td>3</td>\n",
       "      <td>311</td>\n",
       "      <td>cherry-creek</td>\n",
       "      <td>2</td>\n",
       "    </tr>\n",
       "  </tbody>\n",
       "</table>\n",
       "</div>"
      ],
      "text/plain": [
       "   OFFENSE_CODE  OFFENSE_CODE_EXTENSION               OFFENSE_TYPE_ID  \\\n",
       "0          5213                       0  weapon-unlawful-discharge-of   \n",
       "1          2399                       0                   theft-other   \n",
       "2          2305                       0      theft-items-from-vehicle   \n",
       "3          2399                       0                   theft-other   \n",
       "4          2303                       0                theft-shoplift   \n",
       "\n",
       "    FIRST_OCCURRENCE_DATE          REPORTED_DATE      GEO_X      GEO_Y  \\\n",
       "0   6/15/2016 11:31:00 PM  6/15/2016 11:31:00 PM  3193983.0  1707251.0   \n",
       "1  10/11/2017 12:30:00 PM   1/29/2018 5:53:00 PM  3201943.0  1711852.0   \n",
       "2     3/4/2016 8:00:00 PM   4/26/2016 9:02:00 PM  3152762.0  1667011.0   \n",
       "3    1/30/2018 7:20:00 PM  1/30/2018 10:29:00 PM  3157162.0  1681320.0   \n",
       "4    6/22/2017 8:53:00 PM   6/23/2017 4:09:00 PM  3153211.0  1686545.0   \n",
       "\n",
       "      GEO_LON    GEO_LAT  DISTRICT_ID  PRECINCT_ID  \\\n",
       "0 -104.809881  39.773188            5          521   \n",
       "1 -104.781434  39.785649            5          522   \n",
       "2 -104.957381  39.663490            3          314   \n",
       "3 -104.941440  39.702698            3          312   \n",
       "4 -104.955370  39.717107            3          311   \n",
       "\n",
       "              NEIGHBORHOOD_ID Crime_Type  \n",
       "0                   montbello          1  \n",
       "1  gateway-green-valley-ranch          2  \n",
       "2                   wellshire          3  \n",
       "3                     belcaro          2  \n",
       "4                cherry-creek          2  "
      ]
     },
     "execution_count": 227,
     "metadata": {},
     "output_type": "execute_result"
    }
   ],
   "source": [
    "all_crimes = data_d[data_d.columns[3]].values\n",
    "\n",
    "for i in range(len(all_crimes)):\n",
    "\n",
    "    # Mappping crime type to a numerical representation\n",
    "    for j in range(len(crime_categories)):\n",
    "        if(all_crimes[i]==crime_categories[j]):\n",
    "            all_crimes[i] = j+1\n",
    "            break\n",
    "    \n",
    "data_d['Crime_Type'] = all_crimes\n",
    "data_d = data_d.drop([data_d.columns[3]], axis=1)\n",
    "data_d.head(5)"
   ]
  },
  {
   "cell_type": "markdown",
   "metadata": {},
   "source": [
    "### Mapping time day month and year of occurence of crime to an integer"
   ]
  },
  {
   "cell_type": "code",
   "execution_count": 228,
   "metadata": {},
   "outputs": [],
   "source": [
    "# Mapping hour range to its corresponding type for Denver\n",
    "def conversion(hour,f):\n",
    "    if(f==1):\n",
    "        if(hour>=1 and hour<=4):\n",
    "            return 1\n",
    "        elif(hour>=5 and hour<=8):\n",
    "            return 2 \n",
    "        elif(hour>=9 and hour<=11):\n",
    "            return 3\n",
    "        else:\n",
    "            return 6\n",
    "    else:\n",
    "        if(hour==12):\n",
    "            return 3\n",
    "        elif(hour>=1 and hour<=4):\n",
    "            return 4\n",
    "        elif(hour>=5 and hour<=8):\n",
    "            return 5\n",
    "        else:\n",
    "            return 6"
   ]
  },
  {
   "cell_type": "code",
   "execution_count": 229,
   "metadata": {},
   "outputs": [],
   "source": [
    "# Formatting date time string to segregate individual values\n",
    "def convert(x):\n",
    "    y = \"\"\n",
    "    f = 0\n",
    "    for j in range(len(x)):\n",
    "        if(x[j]==' ' or x[j]==':'):\n",
    "            if(x[j+1]=='A' or x[j+1]=='P'):\n",
    "                if(x[j+1]=='A'):\n",
    "                    f=1\n",
    "                break\n",
    "            else:\n",
    "                y= y + '/'      \n",
    "        else:\n",
    "            y = y + x[j]\n",
    "    month, day, year , hour , minutes , seconds = (int(t) for t in y.split('/')) \n",
    "    return month, day, year , hour , minutes , seconds , f"
   ]
  },
  {
   "cell_type": "code",
   "execution_count": 230,
   "metadata": {},
   "outputs": [],
   "source": [
    "colorado_holidays = holidays.UnitedStates(state=\"CO\")"
   ]
  },
  {
   "cell_type": "code",
   "execution_count": 231,
   "metadata": {},
   "outputs": [
    {
     "data": {
      "text/html": [
       "<div>\n",
       "<style>\n",
       "    .dataframe thead tr:only-child th {\n",
       "        text-align: right;\n",
       "    }\n",
       "\n",
       "    .dataframe thead th {\n",
       "        text-align: left;\n",
       "    }\n",
       "\n",
       "    .dataframe tbody tr th {\n",
       "        vertical-align: top;\n",
       "    }\n",
       "</style>\n",
       "<table border=\"1\" class=\"dataframe\">\n",
       "  <thead>\n",
       "    <tr style=\"text-align: right;\">\n",
       "      <th></th>\n",
       "      <th>OFFENSE_CODE</th>\n",
       "      <th>OFFENSE_CODE_EXTENSION</th>\n",
       "      <th>OFFENSE_TYPE_ID</th>\n",
       "      <th>REPORTED_DATE</th>\n",
       "      <th>GEO_X</th>\n",
       "      <th>GEO_Y</th>\n",
       "      <th>GEO_LON</th>\n",
       "      <th>GEO_LAT</th>\n",
       "      <th>DISTRICT_ID</th>\n",
       "      <th>PRECINCT_ID</th>\n",
       "      <th>NEIGHBORHOOD_ID</th>\n",
       "      <th>Crime_Type</th>\n",
       "      <th>Crime_Occurence_Month</th>\n",
       "      <th>Crime_Occurence_Day</th>\n",
       "      <th>Crime_Ocuurence_Time</th>\n",
       "      <th>Crime_Occurence_Year</th>\n",
       "      <th>Ocuurence_Holiday</th>\n",
       "    </tr>\n",
       "  </thead>\n",
       "  <tbody>\n",
       "    <tr>\n",
       "      <th>0</th>\n",
       "      <td>5213</td>\n",
       "      <td>0</td>\n",
       "      <td>weapon-unlawful-discharge-of</td>\n",
       "      <td>6/15/2016 11:31:00 PM</td>\n",
       "      <td>3193983.0</td>\n",
       "      <td>1707251.0</td>\n",
       "      <td>-104.809881</td>\n",
       "      <td>39.773188</td>\n",
       "      <td>5</td>\n",
       "      <td>521</td>\n",
       "      <td>montbello</td>\n",
       "      <td>1</td>\n",
       "      <td>6</td>\n",
       "      <td>3</td>\n",
       "      <td>6</td>\n",
       "      <td>3</td>\n",
       "      <td>0</td>\n",
       "    </tr>\n",
       "    <tr>\n",
       "      <th>1</th>\n",
       "      <td>2399</td>\n",
       "      <td>0</td>\n",
       "      <td>theft-other</td>\n",
       "      <td>1/29/2018 5:53:00 PM</td>\n",
       "      <td>3201943.0</td>\n",
       "      <td>1711852.0</td>\n",
       "      <td>-104.781434</td>\n",
       "      <td>39.785649</td>\n",
       "      <td>5</td>\n",
       "      <td>522</td>\n",
       "      <td>gateway-green-valley-ranch</td>\n",
       "      <td>2</td>\n",
       "      <td>10</td>\n",
       "      <td>3</td>\n",
       "      <td>3</td>\n",
       "      <td>4</td>\n",
       "      <td>0</td>\n",
       "    </tr>\n",
       "    <tr>\n",
       "      <th>2</th>\n",
       "      <td>2305</td>\n",
       "      <td>0</td>\n",
       "      <td>theft-items-from-vehicle</td>\n",
       "      <td>4/26/2016 9:02:00 PM</td>\n",
       "      <td>3152762.0</td>\n",
       "      <td>1667011.0</td>\n",
       "      <td>-104.957381</td>\n",
       "      <td>39.663490</td>\n",
       "      <td>3</td>\n",
       "      <td>314</td>\n",
       "      <td>wellshire</td>\n",
       "      <td>3</td>\n",
       "      <td>3</td>\n",
       "      <td>5</td>\n",
       "      <td>5</td>\n",
       "      <td>3</td>\n",
       "      <td>0</td>\n",
       "    </tr>\n",
       "    <tr>\n",
       "      <th>3</th>\n",
       "      <td>2399</td>\n",
       "      <td>0</td>\n",
       "      <td>theft-other</td>\n",
       "      <td>1/30/2018 10:29:00 PM</td>\n",
       "      <td>3157162.0</td>\n",
       "      <td>1681320.0</td>\n",
       "      <td>-104.941440</td>\n",
       "      <td>39.702698</td>\n",
       "      <td>3</td>\n",
       "      <td>312</td>\n",
       "      <td>belcaro</td>\n",
       "      <td>2</td>\n",
       "      <td>1</td>\n",
       "      <td>2</td>\n",
       "      <td>5</td>\n",
       "      <td>5</td>\n",
       "      <td>0</td>\n",
       "    </tr>\n",
       "    <tr>\n",
       "      <th>4</th>\n",
       "      <td>2303</td>\n",
       "      <td>0</td>\n",
       "      <td>theft-shoplift</td>\n",
       "      <td>6/23/2017 4:09:00 PM</td>\n",
       "      <td>3153211.0</td>\n",
       "      <td>1686545.0</td>\n",
       "      <td>-104.955370</td>\n",
       "      <td>39.717107</td>\n",
       "      <td>3</td>\n",
       "      <td>311</td>\n",
       "      <td>cherry-creek</td>\n",
       "      <td>2</td>\n",
       "      <td>6</td>\n",
       "      <td>4</td>\n",
       "      <td>5</td>\n",
       "      <td>4</td>\n",
       "      <td>0</td>\n",
       "    </tr>\n",
       "  </tbody>\n",
       "</table>\n",
       "</div>"
      ],
      "text/plain": [
       "   OFFENSE_CODE  OFFENSE_CODE_EXTENSION               OFFENSE_TYPE_ID  \\\n",
       "0          5213                       0  weapon-unlawful-discharge-of   \n",
       "1          2399                       0                   theft-other   \n",
       "2          2305                       0      theft-items-from-vehicle   \n",
       "3          2399                       0                   theft-other   \n",
       "4          2303                       0                theft-shoplift   \n",
       "\n",
       "           REPORTED_DATE      GEO_X      GEO_Y     GEO_LON    GEO_LAT  \\\n",
       "0  6/15/2016 11:31:00 PM  3193983.0  1707251.0 -104.809881  39.773188   \n",
       "1   1/29/2018 5:53:00 PM  3201943.0  1711852.0 -104.781434  39.785649   \n",
       "2   4/26/2016 9:02:00 PM  3152762.0  1667011.0 -104.957381  39.663490   \n",
       "3  1/30/2018 10:29:00 PM  3157162.0  1681320.0 -104.941440  39.702698   \n",
       "4   6/23/2017 4:09:00 PM  3153211.0  1686545.0 -104.955370  39.717107   \n",
       "\n",
       "   DISTRICT_ID  PRECINCT_ID             NEIGHBORHOOD_ID Crime_Type  \\\n",
       "0            5          521                   montbello          1   \n",
       "1            5          522  gateway-green-valley-ranch          2   \n",
       "2            3          314                   wellshire          3   \n",
       "3            3          312                     belcaro          2   \n",
       "4            3          311                cherry-creek          2   \n",
       "\n",
       "   Crime_Occurence_Month  Crime_Occurence_Day  Crime_Ocuurence_Time  \\\n",
       "0                      6                    3                     6   \n",
       "1                     10                    3                     3   \n",
       "2                      3                    5                     5   \n",
       "3                      1                    2                     5   \n",
       "4                      6                    4                     5   \n",
       "\n",
       "   Crime_Occurence_Year  Ocuurence_Holiday  \n",
       "0                     3                  0  \n",
       "1                     4                  0  \n",
       "2                     3                  0  \n",
       "3                     5                  0  \n",
       "4                     4                  0  "
      ]
     },
     "execution_count": 231,
     "metadata": {},
     "output_type": "execute_result"
    }
   ],
   "source": [
    "# Finding month, hour, day count in dataset for dataset to analyze what is unsafe time period for staying out\n",
    "months = []\n",
    "days = []\n",
    "hours = []\n",
    "years = []\n",
    "holidays = []\n",
    "\n",
    "date = data_d[data_d.columns[3]].values\n",
    "\n",
    "for i in range(len(date)):\n",
    "    x = date[i]\n",
    "    x = str(x)\n",
    "    \n",
    "    month, day, year , hour , minutes , seconds , f = convert(x) \n",
    "    years.append(year-2013)\n",
    "    months.append(month)\n",
    "    ans = datetime.date(year, month, day)\n",
    "    if(ans in colorado_holidays):\n",
    "        holidays.append(1)\n",
    "    else:\n",
    "        holidays.append(0)\n",
    "    t = ans.weekday()\n",
    "    days.append(t+1)\n",
    "    j = conversion(hour,f)\n",
    "    hours.append(j)\n",
    "    \n",
    "data_d['Crime_Occurence_Month'] = months\n",
    "data_d['Crime_Occurence_Day'] = days\n",
    "data_d['Crime_Ocuurence_Time'] = hours\n",
    "data_d['Crime_Occurence_Year'] = years\n",
    "data_d['Ocuurence_Holiday'] = holidays\n",
    "\n",
    "data_d = data_d.drop([data_d.columns[3]], axis=1)\n",
    "data_d.head()"
   ]
  },
  {
   "cell_type": "code",
   "execution_count": 232,
   "metadata": {},
   "outputs": [
    {
     "data": {
      "text/html": [
       "<div>\n",
       "<style>\n",
       "    .dataframe thead tr:only-child th {\n",
       "        text-align: right;\n",
       "    }\n",
       "\n",
       "    .dataframe thead th {\n",
       "        text-align: left;\n",
       "    }\n",
       "\n",
       "    .dataframe tbody tr th {\n",
       "        vertical-align: top;\n",
       "    }\n",
       "</style>\n",
       "<table border=\"1\" class=\"dataframe\">\n",
       "  <thead>\n",
       "    <tr style=\"text-align: right;\">\n",
       "      <th></th>\n",
       "      <th>OFFENSE_CODE</th>\n",
       "      <th>OFFENSE_CODE_EXTENSION</th>\n",
       "      <th>OFFENSE_TYPE_ID</th>\n",
       "      <th>GEO_X</th>\n",
       "      <th>GEO_Y</th>\n",
       "      <th>GEO_LON</th>\n",
       "      <th>GEO_LAT</th>\n",
       "      <th>DISTRICT_ID</th>\n",
       "      <th>PRECINCT_ID</th>\n",
       "      <th>NEIGHBORHOOD_ID</th>\n",
       "      <th>...</th>\n",
       "      <th>Crime_Occurence_Month</th>\n",
       "      <th>Crime_Occurence_Day</th>\n",
       "      <th>Crime_Ocuurence_Time</th>\n",
       "      <th>Crime_Occurence_Year</th>\n",
       "      <th>Ocuurence_Holiday</th>\n",
       "      <th>Crime_Reported_Month</th>\n",
       "      <th>Crime_Reported_Day</th>\n",
       "      <th>Crime_Reported_Time</th>\n",
       "      <th>Crime_Reported_Year</th>\n",
       "      <th>Reported_Holiday</th>\n",
       "    </tr>\n",
       "  </thead>\n",
       "  <tbody>\n",
       "    <tr>\n",
       "      <th>0</th>\n",
       "      <td>5213</td>\n",
       "      <td>0</td>\n",
       "      <td>weapon-unlawful-discharge-of</td>\n",
       "      <td>3193983.0</td>\n",
       "      <td>1707251.0</td>\n",
       "      <td>-104.809881</td>\n",
       "      <td>39.773188</td>\n",
       "      <td>5</td>\n",
       "      <td>521</td>\n",
       "      <td>montbello</td>\n",
       "      <td>...</td>\n",
       "      <td>6</td>\n",
       "      <td>3</td>\n",
       "      <td>6</td>\n",
       "      <td>3</td>\n",
       "      <td>0</td>\n",
       "      <td>6</td>\n",
       "      <td>3</td>\n",
       "      <td>6</td>\n",
       "      <td>3</td>\n",
       "      <td>0</td>\n",
       "    </tr>\n",
       "    <tr>\n",
       "      <th>1</th>\n",
       "      <td>2399</td>\n",
       "      <td>0</td>\n",
       "      <td>theft-other</td>\n",
       "      <td>3201943.0</td>\n",
       "      <td>1711852.0</td>\n",
       "      <td>-104.781434</td>\n",
       "      <td>39.785649</td>\n",
       "      <td>5</td>\n",
       "      <td>522</td>\n",
       "      <td>gateway-green-valley-ranch</td>\n",
       "      <td>...</td>\n",
       "      <td>10</td>\n",
       "      <td>3</td>\n",
       "      <td>3</td>\n",
       "      <td>4</td>\n",
       "      <td>0</td>\n",
       "      <td>1</td>\n",
       "      <td>1</td>\n",
       "      <td>5</td>\n",
       "      <td>5</td>\n",
       "      <td>0</td>\n",
       "    </tr>\n",
       "    <tr>\n",
       "      <th>2</th>\n",
       "      <td>2305</td>\n",
       "      <td>0</td>\n",
       "      <td>theft-items-from-vehicle</td>\n",
       "      <td>3152762.0</td>\n",
       "      <td>1667011.0</td>\n",
       "      <td>-104.957381</td>\n",
       "      <td>39.663490</td>\n",
       "      <td>3</td>\n",
       "      <td>314</td>\n",
       "      <td>wellshire</td>\n",
       "      <td>...</td>\n",
       "      <td>3</td>\n",
       "      <td>5</td>\n",
       "      <td>5</td>\n",
       "      <td>3</td>\n",
       "      <td>0</td>\n",
       "      <td>4</td>\n",
       "      <td>2</td>\n",
       "      <td>6</td>\n",
       "      <td>3</td>\n",
       "      <td>0</td>\n",
       "    </tr>\n",
       "    <tr>\n",
       "      <th>3</th>\n",
       "      <td>2399</td>\n",
       "      <td>0</td>\n",
       "      <td>theft-other</td>\n",
       "      <td>3157162.0</td>\n",
       "      <td>1681320.0</td>\n",
       "      <td>-104.941440</td>\n",
       "      <td>39.702698</td>\n",
       "      <td>3</td>\n",
       "      <td>312</td>\n",
       "      <td>belcaro</td>\n",
       "      <td>...</td>\n",
       "      <td>1</td>\n",
       "      <td>2</td>\n",
       "      <td>5</td>\n",
       "      <td>5</td>\n",
       "      <td>0</td>\n",
       "      <td>1</td>\n",
       "      <td>2</td>\n",
       "      <td>6</td>\n",
       "      <td>5</td>\n",
       "      <td>0</td>\n",
       "    </tr>\n",
       "    <tr>\n",
       "      <th>4</th>\n",
       "      <td>2303</td>\n",
       "      <td>0</td>\n",
       "      <td>theft-shoplift</td>\n",
       "      <td>3153211.0</td>\n",
       "      <td>1686545.0</td>\n",
       "      <td>-104.955370</td>\n",
       "      <td>39.717107</td>\n",
       "      <td>3</td>\n",
       "      <td>311</td>\n",
       "      <td>cherry-creek</td>\n",
       "      <td>...</td>\n",
       "      <td>6</td>\n",
       "      <td>4</td>\n",
       "      <td>5</td>\n",
       "      <td>4</td>\n",
       "      <td>0</td>\n",
       "      <td>6</td>\n",
       "      <td>5</td>\n",
       "      <td>4</td>\n",
       "      <td>4</td>\n",
       "      <td>0</td>\n",
       "    </tr>\n",
       "  </tbody>\n",
       "</table>\n",
       "<p>5 rows × 21 columns</p>\n",
       "</div>"
      ],
      "text/plain": [
       "   OFFENSE_CODE  OFFENSE_CODE_EXTENSION               OFFENSE_TYPE_ID  \\\n",
       "0          5213                       0  weapon-unlawful-discharge-of   \n",
       "1          2399                       0                   theft-other   \n",
       "2          2305                       0      theft-items-from-vehicle   \n",
       "3          2399                       0                   theft-other   \n",
       "4          2303                       0                theft-shoplift   \n",
       "\n",
       "       GEO_X      GEO_Y     GEO_LON    GEO_LAT  DISTRICT_ID  PRECINCT_ID  \\\n",
       "0  3193983.0  1707251.0 -104.809881  39.773188            5          521   \n",
       "1  3201943.0  1711852.0 -104.781434  39.785649            5          522   \n",
       "2  3152762.0  1667011.0 -104.957381  39.663490            3          314   \n",
       "3  3157162.0  1681320.0 -104.941440  39.702698            3          312   \n",
       "4  3153211.0  1686545.0 -104.955370  39.717107            3          311   \n",
       "\n",
       "              NEIGHBORHOOD_ID        ...        Crime_Occurence_Month  \\\n",
       "0                   montbello        ...                            6   \n",
       "1  gateway-green-valley-ranch        ...                           10   \n",
       "2                   wellshire        ...                            3   \n",
       "3                     belcaro        ...                            1   \n",
       "4                cherry-creek        ...                            6   \n",
       "\n",
       "   Crime_Occurence_Day  Crime_Ocuurence_Time  Crime_Occurence_Year  \\\n",
       "0                    3                     6                     3   \n",
       "1                    3                     3                     4   \n",
       "2                    5                     5                     3   \n",
       "3                    2                     5                     5   \n",
       "4                    4                     5                     4   \n",
       "\n",
       "   Ocuurence_Holiday  Crime_Reported_Month  Crime_Reported_Day  \\\n",
       "0                  0                     6                   3   \n",
       "1                  0                     1                   1   \n",
       "2                  0                     4                   2   \n",
       "3                  0                     1                   2   \n",
       "4                  0                     6                   5   \n",
       "\n",
       "   Crime_Reported_Time  Crime_Reported_Year  Reported_Holiday  \n",
       "0                    6                    3                 0  \n",
       "1                    5                    5                 0  \n",
       "2                    6                    3                 0  \n",
       "3                    6                    5                 0  \n",
       "4                    4                    4                 0  \n",
       "\n",
       "[5 rows x 21 columns]"
      ]
     },
     "execution_count": 232,
     "metadata": {},
     "output_type": "execute_result"
    }
   ],
   "source": [
    "# Finding month, hour, day count in dataset for dataset to analyze what is unsafe time period for staying out\n",
    "months = []\n",
    "days = []\n",
    "hours = []\n",
    "years = []\n",
    "holidays = []\n",
    "\n",
    "date = data_d[data_d.columns[3]].values\n",
    "\n",
    "for i in range(len(date)):\n",
    "    x = date[i]\n",
    "    x = str(x)\n",
    "    \n",
    "    month, day, year , hour , minutes , seconds , f = convert(x)  \n",
    "    years.append(year-2013)\n",
    "    months.append(month)\n",
    "    ans = datetime.date(year, month, day)\n",
    "    if(ans in colorado_holidays):\n",
    "        holidays.append(1)\n",
    "    else:\n",
    "        holidays.append(0)\n",
    "    t = ans.weekday()\n",
    "    days.append(t+1)\n",
    "    j = conversion(hour,f)\n",
    "    hours.append(j)\n",
    "    \n",
    "data_d['Crime_Reported_Month'] = months\n",
    "data_d['Crime_Reported_Day'] = days\n",
    "data_d['Crime_Reported_Time'] = hours\n",
    "data_d['Crime_Reported_Year'] = years\n",
    "data_d['Reported_Holiday'] = holidays\n",
    "\n",
    "data_d = data_d.drop([data_d.columns[3]], axis=1)\n",
    "\n",
    "data_d.head()"
   ]
  },
  {
   "cell_type": "markdown",
   "metadata": {},
   "source": [
    "### Mapping neighbourhood areas to an integer"
   ]
  },
  {
   "cell_type": "code",
   "execution_count": 233,
   "metadata": {},
   "outputs": [
    {
     "data": {
      "text/html": [
       "<div>\n",
       "<style>\n",
       "    .dataframe thead tr:only-child th {\n",
       "        text-align: right;\n",
       "    }\n",
       "\n",
       "    .dataframe thead th {\n",
       "        text-align: left;\n",
       "    }\n",
       "\n",
       "    .dataframe tbody tr th {\n",
       "        vertical-align: top;\n",
       "    }\n",
       "</style>\n",
       "<table border=\"1\" class=\"dataframe\">\n",
       "  <thead>\n",
       "    <tr style=\"text-align: right;\">\n",
       "      <th></th>\n",
       "      <th>NBHD_ID</th>\n",
       "      <th>NBRHD_NAME</th>\n",
       "      <th>POPULATION_2010</th>\n",
       "      <th>HISPANIC_2010</th>\n",
       "      <th>WHITE_2010</th>\n",
       "      <th>BLACK_2010</th>\n",
       "      <th>NATIVEAM_2010</th>\n",
       "      <th>ASIAN_2010</th>\n",
       "      <th>HAWPACIS_2010</th>\n",
       "      <th>OTHER_2010</th>\n",
       "      <th>...</th>\n",
       "      <th>RENTED_AGE_25_TO_34</th>\n",
       "      <th>RENTED_AGE_35_TO_44</th>\n",
       "      <th>RENTED_AGE_45_TO_54</th>\n",
       "      <th>RENTED_AGE_55_TO_59</th>\n",
       "      <th>RENTED_AGE_60_TO_64</th>\n",
       "      <th>RENTED_AGE_65_TO_74</th>\n",
       "      <th>RENTED_AGE_75_TO_84</th>\n",
       "      <th>RENTED_AGE_85_PLUS</th>\n",
       "      <th>SHAPE_Length</th>\n",
       "      <th>SHAPE_Area</th>\n",
       "    </tr>\n",
       "  </thead>\n",
       "  <tbody>\n",
       "    <tr>\n",
       "      <th>0</th>\n",
       "      <td>32</td>\n",
       "      <td>Hampden</td>\n",
       "      <td>17547.0</td>\n",
       "      <td>2505.0</td>\n",
       "      <td>11750.0</td>\n",
       "      <td>1963.0</td>\n",
       "      <td>64.0</td>\n",
       "      <td>726.0</td>\n",
       "      <td>20.0</td>\n",
       "      <td>38.0</td>\n",
       "      <td>...</td>\n",
       "      <td>1363.0</td>\n",
       "      <td>791.0</td>\n",
       "      <td>700.0</td>\n",
       "      <td>304.0</td>\n",
       "      <td>253.0</td>\n",
       "      <td>285.0</td>\n",
       "      <td>200.0</td>\n",
       "      <td>229.0</td>\n",
       "      <td>0.200466</td>\n",
       "      <td>0.000768</td>\n",
       "    </tr>\n",
       "    <tr>\n",
       "      <th>1</th>\n",
       "      <td>3</td>\n",
       "      <td>Baker</td>\n",
       "      <td>4879.0</td>\n",
       "      <td>1664.0</td>\n",
       "      <td>2854.0</td>\n",
       "      <td>144.0</td>\n",
       "      <td>43.0</td>\n",
       "      <td>52.0</td>\n",
       "      <td>10.0</td>\n",
       "      <td>7.0</td>\n",
       "      <td>...</td>\n",
       "      <td>486.0</td>\n",
       "      <td>235.0</td>\n",
       "      <td>231.0</td>\n",
       "      <td>113.0</td>\n",
       "      <td>64.0</td>\n",
       "      <td>82.0</td>\n",
       "      <td>23.0</td>\n",
       "      <td>7.0</td>\n",
       "      <td>0.101767</td>\n",
       "      <td>0.000406</td>\n",
       "    </tr>\n",
       "    <tr>\n",
       "      <th>2</th>\n",
       "      <td>70</td>\n",
       "      <td>Washington Park</td>\n",
       "      <td>6905.0</td>\n",
       "      <td>295.0</td>\n",
       "      <td>6356.0</td>\n",
       "      <td>28.0</td>\n",
       "      <td>9.0</td>\n",
       "      <td>119.0</td>\n",
       "      <td>3.0</td>\n",
       "      <td>13.0</td>\n",
       "      <td>...</td>\n",
       "      <td>329.0</td>\n",
       "      <td>132.0</td>\n",
       "      <td>70.0</td>\n",
       "      <td>31.0</td>\n",
       "      <td>36.0</td>\n",
       "      <td>27.0</td>\n",
       "      <td>6.0</td>\n",
       "      <td>21.0</td>\n",
       "      <td>0.090445</td>\n",
       "      <td>0.000411</td>\n",
       "    </tr>\n",
       "    <tr>\n",
       "      <th>3</th>\n",
       "      <td>13</td>\n",
       "      <td>Cherry Creek</td>\n",
       "      <td>5589.0</td>\n",
       "      <td>332.0</td>\n",
       "      <td>4896.0</td>\n",
       "      <td>79.0</td>\n",
       "      <td>17.0</td>\n",
       "      <td>168.0</td>\n",
       "      <td>4.0</td>\n",
       "      <td>3.0</td>\n",
       "      <td>...</td>\n",
       "      <td>521.0</td>\n",
       "      <td>261.0</td>\n",
       "      <td>211.0</td>\n",
       "      <td>79.0</td>\n",
       "      <td>92.0</td>\n",
       "      <td>161.0</td>\n",
       "      <td>224.0</td>\n",
       "      <td>207.0</td>\n",
       "      <td>0.063923</td>\n",
       "      <td>0.000228</td>\n",
       "    </tr>\n",
       "    <tr>\n",
       "      <th>4</th>\n",
       "      <td>22</td>\n",
       "      <td>Country Club</td>\n",
       "      <td>3001.0</td>\n",
       "      <td>94.0</td>\n",
       "      <td>2740.0</td>\n",
       "      <td>20.0</td>\n",
       "      <td>8.0</td>\n",
       "      <td>77.0</td>\n",
       "      <td>1.0</td>\n",
       "      <td>5.0</td>\n",
       "      <td>...</td>\n",
       "      <td>90.0</td>\n",
       "      <td>55.0</td>\n",
       "      <td>34.0</td>\n",
       "      <td>14.0</td>\n",
       "      <td>17.0</td>\n",
       "      <td>9.0</td>\n",
       "      <td>4.0</td>\n",
       "      <td>2.0</td>\n",
       "      <td>0.052865</td>\n",
       "      <td>0.000177</td>\n",
       "    </tr>\n",
       "  </tbody>\n",
       "</table>\n",
       "<p>5 rows × 127 columns</p>\n",
       "</div>"
      ],
      "text/plain": [
       "   NBHD_ID       NBRHD_NAME  POPULATION_2010  HISPANIC_2010  WHITE_2010  \\\n",
       "0       32          Hampden          17547.0         2505.0     11750.0   \n",
       "1        3            Baker           4879.0         1664.0      2854.0   \n",
       "2       70  Washington Park           6905.0          295.0      6356.0   \n",
       "3       13     Cherry Creek           5589.0          332.0      4896.0   \n",
       "4       22     Country Club           3001.0           94.0      2740.0   \n",
       "\n",
       "   BLACK_2010  NATIVEAM_2010  ASIAN_2010  HAWPACIS_2010  OTHER_2010  \\\n",
       "0      1963.0           64.0       726.0           20.0        38.0   \n",
       "1       144.0           43.0        52.0           10.0         7.0   \n",
       "2        28.0            9.0       119.0            3.0        13.0   \n",
       "3        79.0           17.0       168.0            4.0         3.0   \n",
       "4        20.0            8.0        77.0            1.0         5.0   \n",
       "\n",
       "      ...      RENTED_AGE_25_TO_34  RENTED_AGE_35_TO_44  RENTED_AGE_45_TO_54  \\\n",
       "0     ...                   1363.0                791.0                700.0   \n",
       "1     ...                    486.0                235.0                231.0   \n",
       "2     ...                    329.0                132.0                 70.0   \n",
       "3     ...                    521.0                261.0                211.0   \n",
       "4     ...                     90.0                 55.0                 34.0   \n",
       "\n",
       "   RENTED_AGE_55_TO_59  RENTED_AGE_60_TO_64  RENTED_AGE_65_TO_74  \\\n",
       "0                304.0                253.0                285.0   \n",
       "1                113.0                 64.0                 82.0   \n",
       "2                 31.0                 36.0                 27.0   \n",
       "3                 79.0                 92.0                161.0   \n",
       "4                 14.0                 17.0                  9.0   \n",
       "\n",
       "   RENTED_AGE_75_TO_84  RENTED_AGE_85_PLUS  SHAPE_Length  SHAPE_Area  \n",
       "0                200.0               229.0      0.200466    0.000768  \n",
       "1                 23.0                 7.0      0.101767    0.000406  \n",
       "2                  6.0                21.0      0.090445    0.000411  \n",
       "3                224.0               207.0      0.063923    0.000228  \n",
       "4                  4.0                 2.0      0.052865    0.000177  \n",
       "\n",
       "[5 rows x 127 columns]"
      ]
     },
     "execution_count": 233,
     "metadata": {},
     "output_type": "execute_result"
    }
   ],
   "source": [
    "# Loading Demographics Dataset which includes information about neighbourhood areas of denver\n",
    "demographics = pd.read_csv('demographic.csv')\n",
    "demographics.head()"
   ]
  },
  {
   "cell_type": "code",
   "execution_count": 234,
   "metadata": {},
   "outputs": [
    {
     "data": {
      "text/html": [
       "<div>\n",
       "<style>\n",
       "    .dataframe thead tr:only-child th {\n",
       "        text-align: right;\n",
       "    }\n",
       "\n",
       "    .dataframe thead th {\n",
       "        text-align: left;\n",
       "    }\n",
       "\n",
       "    .dataframe tbody tr th {\n",
       "        vertical-align: top;\n",
       "    }\n",
       "</style>\n",
       "<table border=\"1\" class=\"dataframe\">\n",
       "  <thead>\n",
       "    <tr style=\"text-align: right;\">\n",
       "      <th></th>\n",
       "      <th>NBHD_ID</th>\n",
       "      <th>NBRHD_NAME</th>\n",
       "    </tr>\n",
       "  </thead>\n",
       "  <tbody>\n",
       "    <tr>\n",
       "      <th>69</th>\n",
       "      <td>1</td>\n",
       "      <td>athmar-park</td>\n",
       "    </tr>\n",
       "    <tr>\n",
       "      <th>59</th>\n",
       "      <td>2</td>\n",
       "      <td>auraria</td>\n",
       "    </tr>\n",
       "    <tr>\n",
       "      <th>1</th>\n",
       "      <td>3</td>\n",
       "      <td>baker</td>\n",
       "    </tr>\n",
       "    <tr>\n",
       "      <th>72</th>\n",
       "      <td>4</td>\n",
       "      <td>barnum</td>\n",
       "    </tr>\n",
       "    <tr>\n",
       "      <th>40</th>\n",
       "      <td>5</td>\n",
       "      <td>barnum-west</td>\n",
       "    </tr>\n",
       "  </tbody>\n",
       "</table>\n",
       "</div>"
      ],
      "text/plain": [
       "    NBHD_ID   NBRHD_NAME\n",
       "69        1  athmar-park\n",
       "59        2      auraria\n",
       "1         3        baker\n",
       "72        4       barnum\n",
       "40        5  barnum-west"
      ]
     },
     "execution_count": 234,
     "metadata": {},
     "output_type": "execute_result"
    }
   ],
   "source": [
    "current = demographics[[demographics.columns[0], demographics.columns[1]]]\n",
    "current = current.sort_values(by=[current.columns[0]])\n",
    "n_ref = current[current.columns[1]].values\n",
    "for i in range(len(n_ref)):\n",
    "    x = n_ref[i]\n",
    "    x = str(x)\n",
    "    x = x.lower()\n",
    "    y = \"\"\n",
    "    f = 1\n",
    "    for j in range(len(x)):\n",
    "        if(x[j]=='/' and x[j+1]==' '):\n",
    "            f=0  \n",
    "        elif(x[j]==' ' and f==1):\n",
    "            y = y + '-'\n",
    "            f = 0\n",
    "        elif(x[j]==' ' and f==0):\n",
    "            continue\n",
    "        elif(x[j]=='-'):\n",
    "            continue\n",
    "        else:\n",
    "            y = y + x[j]\n",
    "            f = 1\n",
    "    n_ref[i] = y\n",
    "current.head(5)"
   ]
  },
  {
   "cell_type": "code",
   "execution_count": 235,
   "metadata": {},
   "outputs": [
    {
     "data": {
      "text/html": [
       "<div>\n",
       "<style>\n",
       "    .dataframe thead tr:only-child th {\n",
       "        text-align: right;\n",
       "    }\n",
       "\n",
       "    .dataframe thead th {\n",
       "        text-align: left;\n",
       "    }\n",
       "\n",
       "    .dataframe tbody tr th {\n",
       "        vertical-align: top;\n",
       "    }\n",
       "</style>\n",
       "<table border=\"1\" class=\"dataframe\">\n",
       "  <thead>\n",
       "    <tr style=\"text-align: right;\">\n",
       "      <th></th>\n",
       "      <th>OFFENSE_CODE</th>\n",
       "      <th>OFFENSE_CODE_EXTENSION</th>\n",
       "      <th>OFFENSE_TYPE_ID</th>\n",
       "      <th>GEO_X</th>\n",
       "      <th>GEO_Y</th>\n",
       "      <th>GEO_LON</th>\n",
       "      <th>GEO_LAT</th>\n",
       "      <th>DISTRICT_ID</th>\n",
       "      <th>PRECINCT_ID</th>\n",
       "      <th>NEIGHBORHOOD_ID</th>\n",
       "      <th>...</th>\n",
       "      <th>Crime_Occurence_Day</th>\n",
       "      <th>Crime_Ocuurence_Time</th>\n",
       "      <th>Crime_Occurence_Year</th>\n",
       "      <th>Ocuurence_Holiday</th>\n",
       "      <th>Crime_Reported_Month</th>\n",
       "      <th>Crime_Reported_Day</th>\n",
       "      <th>Crime_Reported_Time</th>\n",
       "      <th>Crime_Reported_Year</th>\n",
       "      <th>Reported_Holiday</th>\n",
       "      <th>Neighbourhood_Id</th>\n",
       "    </tr>\n",
       "  </thead>\n",
       "  <tbody>\n",
       "    <tr>\n",
       "      <th>0</th>\n",
       "      <td>5213</td>\n",
       "      <td>0</td>\n",
       "      <td>weapon-unlawful-discharge-of</td>\n",
       "      <td>3193983.0</td>\n",
       "      <td>1707251.0</td>\n",
       "      <td>-104.809881</td>\n",
       "      <td>39.773188</td>\n",
       "      <td>5</td>\n",
       "      <td>521</td>\n",
       "      <td>montbello</td>\n",
       "      <td>...</td>\n",
       "      <td>3</td>\n",
       "      <td>6</td>\n",
       "      <td>3</td>\n",
       "      <td>0</td>\n",
       "      <td>6</td>\n",
       "      <td>3</td>\n",
       "      <td>6</td>\n",
       "      <td>3</td>\n",
       "      <td>0</td>\n",
       "      <td>45</td>\n",
       "    </tr>\n",
       "    <tr>\n",
       "      <th>1</th>\n",
       "      <td>2399</td>\n",
       "      <td>0</td>\n",
       "      <td>theft-other</td>\n",
       "      <td>3201943.0</td>\n",
       "      <td>1711852.0</td>\n",
       "      <td>-104.781434</td>\n",
       "      <td>39.785649</td>\n",
       "      <td>5</td>\n",
       "      <td>522</td>\n",
       "      <td>gateway-green-valley-ranch</td>\n",
       "      <td>...</td>\n",
       "      <td>3</td>\n",
       "      <td>3</td>\n",
       "      <td>4</td>\n",
       "      <td>0</td>\n",
       "      <td>1</td>\n",
       "      <td>1</td>\n",
       "      <td>5</td>\n",
       "      <td>5</td>\n",
       "      <td>0</td>\n",
       "      <td>28</td>\n",
       "    </tr>\n",
       "    <tr>\n",
       "      <th>2</th>\n",
       "      <td>2305</td>\n",
       "      <td>0</td>\n",
       "      <td>theft-items-from-vehicle</td>\n",
       "      <td>3152762.0</td>\n",
       "      <td>1667011.0</td>\n",
       "      <td>-104.957381</td>\n",
       "      <td>39.663490</td>\n",
       "      <td>3</td>\n",
       "      <td>314</td>\n",
       "      <td>wellshire</td>\n",
       "      <td>...</td>\n",
       "      <td>5</td>\n",
       "      <td>5</td>\n",
       "      <td>3</td>\n",
       "      <td>0</td>\n",
       "      <td>4</td>\n",
       "      <td>2</td>\n",
       "      <td>6</td>\n",
       "      <td>3</td>\n",
       "      <td>0</td>\n",
       "      <td>73</td>\n",
       "    </tr>\n",
       "    <tr>\n",
       "      <th>3</th>\n",
       "      <td>2399</td>\n",
       "      <td>0</td>\n",
       "      <td>theft-other</td>\n",
       "      <td>3157162.0</td>\n",
       "      <td>1681320.0</td>\n",
       "      <td>-104.941440</td>\n",
       "      <td>39.702698</td>\n",
       "      <td>3</td>\n",
       "      <td>312</td>\n",
       "      <td>belcaro</td>\n",
       "      <td>...</td>\n",
       "      <td>2</td>\n",
       "      <td>5</td>\n",
       "      <td>5</td>\n",
       "      <td>0</td>\n",
       "      <td>1</td>\n",
       "      <td>2</td>\n",
       "      <td>6</td>\n",
       "      <td>5</td>\n",
       "      <td>0</td>\n",
       "      <td>7</td>\n",
       "    </tr>\n",
       "    <tr>\n",
       "      <th>4</th>\n",
       "      <td>2303</td>\n",
       "      <td>0</td>\n",
       "      <td>theft-shoplift</td>\n",
       "      <td>3153211.0</td>\n",
       "      <td>1686545.0</td>\n",
       "      <td>-104.955370</td>\n",
       "      <td>39.717107</td>\n",
       "      <td>3</td>\n",
       "      <td>311</td>\n",
       "      <td>cherry-creek</td>\n",
       "      <td>...</td>\n",
       "      <td>4</td>\n",
       "      <td>5</td>\n",
       "      <td>4</td>\n",
       "      <td>0</td>\n",
       "      <td>6</td>\n",
       "      <td>5</td>\n",
       "      <td>4</td>\n",
       "      <td>4</td>\n",
       "      <td>0</td>\n",
       "      <td>13</td>\n",
       "    </tr>\n",
       "  </tbody>\n",
       "</table>\n",
       "<p>5 rows × 21 columns</p>\n",
       "</div>"
      ],
      "text/plain": [
       "   OFFENSE_CODE  OFFENSE_CODE_EXTENSION               OFFENSE_TYPE_ID  \\\n",
       "0          5213                       0  weapon-unlawful-discharge-of   \n",
       "1          2399                       0                   theft-other   \n",
       "2          2305                       0      theft-items-from-vehicle   \n",
       "3          2399                       0                   theft-other   \n",
       "4          2303                       0                theft-shoplift   \n",
       "\n",
       "       GEO_X      GEO_Y     GEO_LON    GEO_LAT  DISTRICT_ID  PRECINCT_ID  \\\n",
       "0  3193983.0  1707251.0 -104.809881  39.773188            5          521   \n",
       "1  3201943.0  1711852.0 -104.781434  39.785649            5          522   \n",
       "2  3152762.0  1667011.0 -104.957381  39.663490            3          314   \n",
       "3  3157162.0  1681320.0 -104.941440  39.702698            3          312   \n",
       "4  3153211.0  1686545.0 -104.955370  39.717107            3          311   \n",
       "\n",
       "              NEIGHBORHOOD_ID        ...         Crime_Occurence_Day  \\\n",
       "0                   montbello        ...                           3   \n",
       "1  gateway-green-valley-ranch        ...                           3   \n",
       "2                   wellshire        ...                           5   \n",
       "3                     belcaro        ...                           2   \n",
       "4                cherry-creek        ...                           4   \n",
       "\n",
       "   Crime_Ocuurence_Time  Crime_Occurence_Year  Ocuurence_Holiday  \\\n",
       "0                     6                     3                  0   \n",
       "1                     3                     4                  0   \n",
       "2                     5                     3                  0   \n",
       "3                     5                     5                  0   \n",
       "4                     5                     4                  0   \n",
       "\n",
       "   Crime_Reported_Month  Crime_Reported_Day  Crime_Reported_Time  \\\n",
       "0                     6                   3                    6   \n",
       "1                     1                   1                    5   \n",
       "2                     4                   2                    6   \n",
       "3                     1                   2                    6   \n",
       "4                     6                   5                    4   \n",
       "\n",
       "   Crime_Reported_Year  Reported_Holiday  Neighbourhood_Id  \n",
       "0                    3                 0                45  \n",
       "1                    5                 0                28  \n",
       "2                    3                 0                73  \n",
       "3                    5                 0                 7  \n",
       "4                    4                 0                13  \n",
       "\n",
       "[5 rows x 21 columns]"
      ]
     },
     "execution_count": 235,
     "metadata": {},
     "output_type": "execute_result"
    }
   ],
   "source": [
    "ans = []\n",
    "n_count_d = np.zeros(78)\n",
    "neighbours = data_d[data_d.columns[9]].values\n",
    "for i in range(len(neighbours)):\n",
    "    x = neighbours[i]\n",
    "    x = str(x)\n",
    "    for j in range(len(n_ref)):\n",
    "        if(x==n_ref[j]):\n",
    "            ans.append(j+1)\n",
    "            n_count_d[j] = n_count_d[j] + 1\n",
    "data_d['Neighbourhood_Id'] = ans\n",
    "data_d = data_d.drop(data_d.columns[10],axis=1)\n",
    "data_d.head()"
   ]
  },
  {
   "cell_type": "code",
   "execution_count": 236,
   "metadata": {},
   "outputs": [
    {
     "data": {
      "text/html": [
       "<div>\n",
       "<style>\n",
       "    .dataframe thead tr:only-child th {\n",
       "        text-align: right;\n",
       "    }\n",
       "\n",
       "    .dataframe thead th {\n",
       "        text-align: left;\n",
       "    }\n",
       "\n",
       "    .dataframe tbody tr th {\n",
       "        vertical-align: top;\n",
       "    }\n",
       "</style>\n",
       "<table border=\"1\" class=\"dataframe\">\n",
       "  <thead>\n",
       "    <tr style=\"text-align: right;\">\n",
       "      <th></th>\n",
       "      <th>OFFENSE_CODE</th>\n",
       "      <th>OFFENSE_CODE_EXTENSION</th>\n",
       "      <th>OFFENSE_TYPE_ID</th>\n",
       "      <th>OFFENSE_TYPE_NAME</th>\n",
       "      <th>OFFENSE_CATEGORY_ID</th>\n",
       "      <th>OFFENSE_CATEGORY_NAME</th>\n",
       "      <th>IS_CRIME</th>\n",
       "      <th>IS_TRAFFIC</th>\n",
       "    </tr>\n",
       "  </thead>\n",
       "  <tbody>\n",
       "    <tr>\n",
       "      <th>0</th>\n",
       "      <td>2804</td>\n",
       "      <td>1</td>\n",
       "      <td>stolen-property-possession</td>\n",
       "      <td>Possession of stolen property</td>\n",
       "      <td>all-other-crimes</td>\n",
       "      <td>All Other Crimes</td>\n",
       "      <td>1</td>\n",
       "      <td>0</td>\n",
       "    </tr>\n",
       "    <tr>\n",
       "      <th>1</th>\n",
       "      <td>2804</td>\n",
       "      <td>2</td>\n",
       "      <td>fraud-possess-financial-device</td>\n",
       "      <td>Possession of a financial device</td>\n",
       "      <td>all-other-crimes</td>\n",
       "      <td>All Other Crimes</td>\n",
       "      <td>1</td>\n",
       "      <td>0</td>\n",
       "    </tr>\n",
       "    <tr>\n",
       "      <th>2</th>\n",
       "      <td>2901</td>\n",
       "      <td>0</td>\n",
       "      <td>damaged-prop-bus</td>\n",
       "      <td>Damaged business property</td>\n",
       "      <td>public-disorder</td>\n",
       "      <td>Public Disorder</td>\n",
       "      <td>1</td>\n",
       "      <td>0</td>\n",
       "    </tr>\n",
       "    <tr>\n",
       "      <th>3</th>\n",
       "      <td>2902</td>\n",
       "      <td>0</td>\n",
       "      <td>criminal-mischief-private</td>\n",
       "      <td>Criminal mischief to private property</td>\n",
       "      <td>public-disorder</td>\n",
       "      <td>Public Disorder</td>\n",
       "      <td>1</td>\n",
       "      <td>0</td>\n",
       "    </tr>\n",
       "    <tr>\n",
       "      <th>4</th>\n",
       "      <td>2903</td>\n",
       "      <td>0</td>\n",
       "      <td>criminal-mischief-public</td>\n",
       "      <td>Criminal mischief to public property</td>\n",
       "      <td>public-disorder</td>\n",
       "      <td>Public Disorder</td>\n",
       "      <td>1</td>\n",
       "      <td>0</td>\n",
       "    </tr>\n",
       "  </tbody>\n",
       "</table>\n",
       "</div>"
      ],
      "text/plain": [
       "   OFFENSE_CODE  OFFENSE_CODE_EXTENSION                 OFFENSE_TYPE_ID  \\\n",
       "0          2804                       1      stolen-property-possession   \n",
       "1          2804                       2  fraud-possess-financial-device   \n",
       "2          2901                       0                damaged-prop-bus   \n",
       "3          2902                       0       criminal-mischief-private   \n",
       "4          2903                       0        criminal-mischief-public   \n",
       "\n",
       "                       OFFENSE_TYPE_NAME OFFENSE_CATEGORY_ID  \\\n",
       "0          Possession of stolen property    all-other-crimes   \n",
       "1       Possession of a financial device    all-other-crimes   \n",
       "2              Damaged business property     public-disorder   \n",
       "3  Criminal mischief to private property     public-disorder   \n",
       "4   Criminal mischief to public property     public-disorder   \n",
       "\n",
       "  OFFENSE_CATEGORY_NAME  IS_CRIME  IS_TRAFFIC  \n",
       "0      All Other Crimes         1           0  \n",
       "1      All Other Crimes         1           0  \n",
       "2       Public Disorder         1           0  \n",
       "3       Public Disorder         1           0  \n",
       "4       Public Disorder         1           0  "
      ]
     },
     "execution_count": 236,
     "metadata": {},
     "output_type": "execute_result"
    }
   ],
   "source": [
    "offense_data = pd.read_csv('offense_codes.csv')\n",
    "offense_data.head()"
   ]
  },
  {
   "cell_type": "code",
   "execution_count": 252,
   "metadata": {},
   "outputs": [
    {
     "data": {
      "text/plain": [
       "1368"
      ]
     },
     "execution_count": 252,
     "metadata": {},
     "output_type": "execute_result"
    }
   ],
   "source": [
    "offence_codes = pd.unique(offense_data[offense_data.columns[0]].values.ravel()).tolist()\n",
    "extension_codes = pd.unique(offense_data[offense_data.columns[1]].values.ravel()).tolist()\n",
    "aggregate_ids = []\n",
    "for i in range(len(offence_codes)):\n",
    "    for j in range(len(extension_codes)):\n",
    "        aggregate_ids.append(str(offence_codes[i]) + str(extension_codes[j]))\n",
    "offence_codes = offense_data[offense_data.columns[0]].values\n",
    "extension_codes = offense_data[offense_data.columns[1]].values\n",
    "aggregate_code = [str(x)+str(y) for x,y in zip(offence_codes,extension_codes)]\n",
    "agg_id = []\n",
    "for i in range(len(aggregate_code)):\n",
    "    for j in range(len(aggregate_ids)):\n",
    "        if(aggregate_code[i]==aggregate_ids[j]):\n",
    "            agg_id.append(j+1)\n",
    "            break\n",
    "len(aggregate_ids)\n",
    "# offense_data['Aggregate_Id'] = agg_id\n",
    "# offense_data.head(5)"
   ]
  },
  {
   "cell_type": "code",
   "execution_count": 253,
   "metadata": {},
   "outputs": [
    {
     "data": {
      "text/plain": [
       "924"
      ]
     },
     "execution_count": 253,
     "metadata": {},
     "output_type": "execute_result"
    }
   ],
   "source": [
    "offence_codes = pd.unique(data_d[data_d.columns[0]].values.ravel()).tolist()\n",
    "extension_codes = pd.unique(data_d[data_d.columns[1]].values.ravel()).tolist()\n",
    "aggregate_ids = []\n",
    "for i in range(len(offence_codes)):\n",
    "    for j in range(len(extension_codes)):\n",
    "        aggregate_ids.append(str(offence_codes[i]) + str(extension_codes[j]))\n",
    "offence_codes = data_d[data_d.columns[0]].values\n",
    "extension_codes = data_d[data_d.columns[1]].values\n",
    "aggregate_code = [str(x)+str(y) for x,y in zip(offence_codes,extension_codes)]\n",
    "agg_id = []\n",
    "for i in range(len(aggregate_code)):\n",
    "    for j in range(len(aggregate_ids)):\n",
    "        if(aggregate_code[i]==aggregate_ids[j]):\n",
    "            agg_id.append(j+1)\n",
    "            break\n",
    "len(aggregate_ids)\n",
    "# data_d['Aggregate_Id'] = agg_id\n",
    "# data_d.head(5)"
   ]
  },
  {
   "cell_type": "code",
   "execution_count": 251,
   "metadata": {
    "scrolled": true
   },
   "outputs": [
    {
     "data": {
      "text/plain": [
       "504761"
      ]
     },
     "execution_count": 251,
     "metadata": {},
     "output_type": "execute_result"
    }
   ],
   "source": [
    "offence_codes = data_d[data_d.columns[0]].values\n",
    "extension_codes = data_d[data_d.columns[1]].values\n",
    "aggregate_code = [str(x)+str(y) for x,y in zip(offence_codes,extension_codes)]\n",
    "agg_id = []\n",
    "for i in range(len(aggregate_code)):\n",
    "    for j in range(len(aggregate_ids)):\n",
    "        if(aggregate_code[i]==aggregate_ids[j]):\n",
    "            agg_id.append(j+1)\n",
    "            break\n",
    "        \n",
    "len(agg_id)\n",
    "# data_d['Aggregate_Id'] = agg_id\n",
    "# data_d = data_d.drop([data_d.columns[0],data_d.columns[1]],axis=1)\n",
    "# data_d.head(5)"
   ]
  },
  {
   "cell_type": "code",
   "execution_count": null,
   "metadata": {},
   "outputs": [],
   "source": []
  },
  {
   "cell_type": "code",
   "execution_count": 129,
   "metadata": {},
   "outputs": [],
   "source": [
    "def prob(a):\n",
    "    s = sum(a)\n",
    "    return [(x/s) for x in a]\n",
    "\n",
    "def get_percentage(a):\n",
    "    a = prob(a)\n",
    "    return [x*100 for x in a]"
   ]
  },
  {
   "cell_type": "code",
   "execution_count": 130,
   "metadata": {
    "scrolled": false
   },
   "outputs": [
    {
     "data": {
      "image/png": "[encoded data removed]",
      "text/plain": [
       "<matplotlib.figure.Figure at 0x117f520b8>"
      ]
     },
     "metadata": {},
     "output_type": "display_data"
    },
    {
     "data": {
      "image/png": "[encoded data removed]",
      "text/plain": [
       "<matplotlib.figure.Figure at 0x115622be0>"
      ]
     },
     "metadata": {},
     "output_type": "display_data"
    },
    {
     "data": {
      "image/png": "[encoded data removed]",
      "text/plain": [
       "<matplotlib.figure.Figure at 0x115a7ccf8>"
      ]
     },
     "metadata": {},
     "output_type": "display_data"
    },
    {
     "data": {
      "image/png": "[encoded data removed]",
      "text/plain": [
       "<matplotlib.figure.Figure at 0x115a0afd0>"
      ]
     },
     "metadata": {},
     "output_type": "display_data"
    },
    {
     "data": {
      "image/png": "[encoded data removed]",
      "text/plain": [
       "<matplotlib.figure.Figure at 0x110690eb8>"
      ]
     },
     "metadata": {},
     "output_type": "display_data"
    },
    {
     "data": {
      "image/png": "[encoded data removed]",
      "text/plain": [
       "<matplotlib.figure.Figure at 0x1197d4630>"
      ]
     },
     "metadata": {},
     "output_type": "display_data"
    }
   ],
   "source": [
    "def graph():\n",
    "    plt.ylabel('Percentage of occurences')\n",
    "    plt.show()\n",
    "\n",
    "days = ['Monday','Tuesday','Wednesday','Thursday','Friday','Saturday','Sunday']\n",
    "months = ['January','February','March','April','May','June','July','August','September','October','November','December']\n",
    "time_range = ['1:00AM - 4:59AM','5:00AM - 8:59AM','9:00AM - 12:59PM','1:00PM - 4:59PM','5:00PM - 8:59PM','9:00PM - 00:59AM']\n",
    "years = ['2013','2014','2015','2016','2017','2018']\n",
    "\n",
    "m_per_d = get_percentage(m_count_d)\n",
    "n_per_d = get_percentage(n_count_d)\n",
    "d_per_d = get_percentage(d_count_d)\n",
    "h_per_d = get_percentage(h_count_d)\n",
    "y_per_d = get_percentage(y_count_d)\n",
    "c_per_d = get_percentage(c_count_d)\n",
    "\n",
    "plt.stem(np.arange(len(c_per_d))+1,c_per_d)\n",
    "plt.xlabel('Category Type')\n",
    "plt.title('Percentage of a particular category type')\n",
    "graph()\n",
    "\n",
    "bar_width = 0.5\n",
    "plt.bar((np.arange(len(m_per_d))+1)*2,m_per_d,bar_width,color='red',label='Denver')\n",
    "plt.xticks((np.arange(len(months))+1)*2,months, fontsize=10,rotation=30)\n",
    "plt.xlabel('Month')\n",
    "plt.title('Percentage of a crime occurence in a particular month')\n",
    "graph()\n",
    "\n",
    "plt.bar((np.arange(len(h_per_d))+1)*2,h_per_d,bar_width,color='blue',label='Denver')\n",
    "plt.xticks((np.arange(len(time_range))+1)*2,time_range, fontsize=10,rotation=30)\n",
    "plt.xlabel('Time Range')\n",
    "plt.title('Percentage of a crime occurence in a particular time range')\n",
    "graph()\n",
    "\n",
    "plt.bar((np.arange(len(d_per_d))+1)*2,d_per_d,bar_width,color='green',label='Denver')\n",
    "plt.xticks((np.arange(len(days))+1)*2,days, fontsize=10,rotation=30)\n",
    "plt.xlabel('Day')\n",
    "plt.title('Percentage of a crime occurence on a particular day')\n",
    "graph()\n",
    "\n",
    "plt.bar((np.arange(len(y_per_d))+1)*2,y_per_d,bar_width,color='yellow',label='Denver')\n",
    "plt.xticks((np.arange(len(years))+1)*2,years, fontsize=10,rotation=30)\n",
    "plt.xlabel('Day')\n",
    "plt.title('Percentage of a crime occurence on a particular day')\n",
    "graph()\n",
    "\n",
    "plt.stem(np.arange(len(n_per_d))+1,n_per_d)\n",
    "plt.xlabel('Neighbourhood ID')\n",
    "plt.title('Percentage of a crime occurence at a particular place')\n",
    "graph()"
   ]
  },
  {
   "cell_type": "markdown",
   "metadata": {},
   "source": [
    "Inferences from graph :\n",
    "We can infer from graphs that :\n",
    "1. Overall occurence of Crime Type 5 is the most.\n",
    "2. Overall occurence of Crime in August is the most and the least in December.\n",
    "3. Overall occurence of Crime on Friday is the most and the least on Sunday.\n",
    "4. Overall occurence of crime in time duration 5 PM to 00:59 AM that is evening and night is the most."
   ]
  },
  {
   "cell_type": "code",
   "execution_count": 131,
   "metadata": {},
   "outputs": [],
   "source": [
    "district = data_d[data_d.columns[2]].values\n",
    "types = data_d[data_d.columns[3]].values\n",
    "months = data_d[data_d.columns[4]].values\n",
    "days = data_d[data_d.columns[5]].values\n",
    "times = data_d[data_d.columns[6]].values\n",
    "years = data_d[data_d.columns[7]].values\n",
    "neighbours = data_d[data_d.columns[8]].values"
   ]
  },
  {
   "cell_type": "markdown",
   "metadata": {},
   "source": [
    "Storing various values for furture use"
   ]
  },
  {
   "cell_type": "code",
   "execution_count": 132,
   "metadata": {},
   "outputs": [
    {
     "data": {
      "image/png": "[encoded data removed]",
      "text/plain": [
       "<matplotlib.figure.Figure at 0x1153ad940>"
      ]
     },
     "metadata": {},
     "output_type": "display_data"
    },
    {
     "data": {
      "image/png": "[encoded data removed]",
      "text/plain": [
       "<matplotlib.figure.Figure at 0x117d95da0>"
      ]
     },
     "metadata": {},
     "output_type": "display_data"
    }
   ],
   "source": [
    "def find_type_prob(a,b):\n",
    "    for i in range(b):\n",
    "        s = 0\n",
    "        for j in range(6):\n",
    "            s = s + a[i][j]\n",
    "        for j in range(6):\n",
    "            a[i][j] = a[i][j] / s\n",
    "    return a\n",
    "\n",
    "def type_graph(day_type,b,c):\n",
    "    day_type = np.transpose(find_type_prob(day_type,b) * 100)\n",
    "    bar_width = 0.75 \n",
    "    plt.bar((np.arange(len(day_type[0]))*7),day_type[0],bar_width,color='blue',label='Assault')\n",
    "    plt.bar(((np.arange(len(day_type[1]))*7)+1),day_type[1],bar_width,color='red',label='Drug Alcohol')\n",
    "    plt.bar(((np.arange(len(day_type[2]))*7)+2),day_type[2],bar_width,color='green',label='Other Crime')\n",
    "    plt.bar(((np.arange(len(day_type[3]))*7)+3),day_type[3],bar_width,color='black',label='Public Disorder')\n",
    "    plt.bar(((np.arange(len(day_type[4]))*7)+4),day_type[4],bar_width,color='yellow',label='Theft')\n",
    "    plt.bar(((np.arange(len(day_type[5]))*7)+5),day_type[5],bar_width,color='brown',label='White Collar Crime')\n",
    "    plt.xticks((np.arange(len(day_type[0]))*7)+3,c, fontsize=10, rotation=30)\n",
    "    plt.legend(loc='center left', bbox_to_anchor=(1, 0.5))\n",
    "    plt.ylabel('Percentage')\n",
    "    plt.show()\n",
    "\n",
    "time_type = np.zeros((6,6))\n",
    "\n",
    "for i in range(len(times)):\n",
    "    b = times[i] - 1\n",
    "    a = types[i] - 1\n",
    "    time_type[b][a] = time_type[b][a] + 1 \n",
    "    \n",
    "a = ['1:00AM - 4:59AM','5:00AM - 8:59AM','9:00AM - 12:59PM','1:00PM - 4:59PM','5:00PM - 8:59PM','9:00PM - 00:59AM']\n",
    "plt.title('Crime type distribution in Denver based on time')\n",
    "type_graph(time_type,6,a)\n",
    "\n",
    "year_type = np.zeros((6,6))\n",
    "\n",
    "for i in range(len(years)):\n",
    "    year_type[years[i]-1][types[i]-1] = year_type[years[i]-1][types[i]-1] + 1\n",
    "    \n",
    "plt.title('Crime type distribution in Denver based on years')\n",
    "type_graph(year_type,6,['2013','2014','2015','2016','2017','2018'])"
   ]
  },
  {
   "cell_type": "markdown",
   "metadata": {},
   "source": [
    "Inference from graph\n",
    "1. We can observe that in almost 5 time ranges occurence of theft is the most and there is least or negligibble occurence of assault and white collar crime\n",
    "2. We can observe that in a particular year occurence of theft and other type of crimes (once not classified into any categories is the most)"
   ]
  },
  {
   "cell_type": "markdown",
   "metadata": {},
   "source": [
    "# Section 2 : Crime Type Prediction\n",
    "\n",
    "### Predicting crime type on the basis of given features : month , time , day , year and area using Naive Bayes Algorithm"
   ]
  },
  {
   "cell_type": "markdown",
   "metadata": {},
   "source": [
    "Reasons to apply Naive Bayes model :\n",
    "We had to predict that if we have spatial and temporal details of occurence of crime that is the place it occured at and the time at which the crime occured; then what is the crime type that is which category the crime belongs to.\n",
    "\n",
    "Taking simple example of following tuples :\n",
    "1. {Gateway Green Valley Ranch , 11th October 2017 , 12: 30 PM} => {Larceny that is theft occured}\n",
    "\n",
    "Taking probable occurences of all the features seperated :\n",
    "1. {Gateway Green Valley Ranch} => {Theft}\n",
    "2. {October} => {Theft}\n",
    "3. {2017} => {Theft}\n",
    "4. {12:30 PM} => {Theft}\n",
    "5. {Wednesday} => {Theft}\n",
    "\n",
    "Hence forming such independent occurences and calculating combined conditional probability; we can find the predicted crime type.\n",
    "\n",
    "Symbols used :\n",
    "1. Month = m\n",
    "2. Time = t\n",
    "3. Area = a\n",
    "4. Day = d\n",
    "5. Year = y \n",
    "6. Type = c\n",
    "\n",
    "Formula (By using chain rule for finding conditional probability)\n",
    "    \\begin{eqnarray}\n",
    "    P(c|m,y,a,t,d) = \\frac{p(m|c,y,a,t,d) * p(y|c,a,t,d) * p(a|c,t,d) * p(t|d,c) * p(d|c) * p(c)} {p(m|y,a,t,d) * p(y|a,t,d) * p(a|t,d) * p(t|d)}\n",
    "    \\end{eqnarray}"
   ]
  },
  {
   "cell_type": "code",
   "execution_count": 133,
   "metadata": {
    "scrolled": true
   },
   "outputs": [],
   "source": [
    "# y = a*b*c*d*e*f / g*h*i*j\n",
    "\n",
    "set1 = data_d.iloc[0:72463]\n",
    "set2 = data_d.iloc[72463:144926]\n",
    "set3 = data_d.iloc[144926:217389]\n",
    "set4 = data_d.iloc[217389:289852]\n",
    "set5 = data_d.iloc[289852:]\n",
    "\n",
    "num_days = 7\n",
    "num_months = 12\n",
    "num_time_range = 6\n",
    "num_n_d = 78\n",
    "num_years = 6\n",
    "num_type = 6\n",
    "\n",
    "def find_vals(train):\n",
    "    return train[train.columns[2]].values, train[train.columns[3]].values, train[train.columns[4]].values, train[train.columns[5]].values, train[train.columns[6]].values, train[train.columns[7]].values \n",
    "\n",
    "def model(train,test):\n",
    "    district_r, types_r, months_r, days_r, times_r, years_r = find_vals(train)\n",
    "    district_t, types_t, months_t, days_t, times_t, years_t = find_vals(train)\n",
    "    \n",
    "    # Calculating p(c)\n",
    "    f = np.zeros(num_type)\n",
    "    for i in range(len(types_r)):\n",
    "        f[types_r[i]-1] = f[types_r[i]-1] + 1\n",
    "    f = prob(f)\n",
    "    \n",
    "    # calculating p(d|c)\n",
    "    # row is c and column is d\n",
    "    e = np.zeros((num_type,num_days))\n",
    "    s = np.zeros(num_type)\n",
    "    for i in range(len(days_r)):\n",
    "        e[types_r[i]-1][days_r[i]-1] = e[types_r[i]-1][days_r[i]-1] + 1\n",
    "        s[types_r[i]-1] = s[types_r[i]-1] + 1  \n",
    "    for i in range(num_type):\n",
    "        for j in range(num_type):\n",
    "            e [i][j] = e[i][j] / s[i]\n",
    "    \n",
    "    # calculating p(t|d,c)\n",
    "    # first is day_type then category_type and then time_range\n",
    "    d = np.zeros((num_days,num_type,num_time_range))\n",
    "    s = np.zeros((num_days,num_type))\n",
    "    for i in range(len(times_r)):\n",
    "        d[days_r[i]-1][types_r[i]-1][times_r[i]-1] = d[days_r[i]-1][types_r[i]-1][times_r[i]-1] + 1\n",
    "        s[days_r[i]-1][types_r[i]-1] = s[days_r[i]-1][types_r[i]-1] + 1\n",
    "    for i in range(num_days):\n",
    "        for j in range(num_type):\n",
    "            for k in range(num_time_range):\n",
    "                d[i][j][k] = d[i][j][k] / s[i][j]\n",
    "       \n",
    "    # calculating p(a|t,d,c)\n",
    "    # first is time_range then day_type then category_type and at last district_type\n",
    "    c = np.zeros((num_time_range,num_days,num_type,num_districts))\n",
    "    s = np.zeros((num_time_range,num_days,num_type))\n",
    "    for i in range(len(district_r)):\n",
    "        c[times_r[i]-1][days_r[i]-1][types_r[i]-1][district_r[i]-1] = c[times_r[i]-1][days_r[i]-1][types_r[i]-1][district_r[i]-1] + 1\n",
    "        s[times_r[i]-1][days_r[i]-1][types_r[i]-1] = s[times_r[i]-1][days_r[i]-1][types_r[i]-1] + 1\n",
    "    for i in range(num_time_range):\n",
    "        for j in range(num_days):\n",
    "            for k in range(num_type):\n",
    "                for l in range(num_districts):\n",
    "                    c[i][j][k][l] = c[i][j][k][l] / s[i][j][k]\n",
    "    \n",
    "    # calculating p(y|a,t,d,c)\n",
    "    b = np.zeros((num_districts,num_time_range,num_days,num_type,num_years))\n",
    "    s = np.zeros((num_districts,num_time_range,num_days,num_type))\n",
    "    for i in range(len(years_r)):\n",
    "        b[district_r[i]-1][times_r[i]-1][days_r[i]-1][types_r[i]-1][years_r[i]-1] = b[district_r[i]-1][times_r[i]-1][days_r[i]-1][types_r[i]-1][years_r[i]-1] + 1\n",
    "        s[district_r[i]-1][times_r[i]-1][days_r[i]-1][types_r[i]-1] = s[district_r[i]-1][times_r[i]-1][days_r[i]-1][types_r[i]-1] + 1\n",
    "    for i in range(num_districts):\n",
    "        for j in range(num_time_range):\n",
    "            for k in range(num_days):\n",
    "                for l in range(num_type):\n",
    "                    if s[i][j][k][l]!=0:\n",
    "                        for m in range(num_years):\n",
    "                            b[i][j][k][l][m] = b[i][j][k][l][m] / s[i][j][k][l]\n",
    "    \n",
    "    \n",
    "    # calculating p(m|y,a,t,d,c)\n",
    "    a = np.zeros((num_years,num_districts,num_time_range,num_days,num_type,num_months))\n",
    "    s = np.zeros((num_years,num_districts,num_time_range,num_days,num_type))\n",
    "    for i in range(len(months_r)):\n",
    "        a[years_r[i]-1][district_r[i]-1][times_r[i]-1][days_r[i]-1][types_r[i]-1][months_r[i]-1] = a[years_r[i]-1][district_r[i]-1][times_r[i]-1][days_r[i]-1][types_r[i]-1][months_r[i]-1] + 1\n",
    "        s[years_r[i]-1][district_r[i]-1][times_r[i]-1][days_r[i]-1][types_r[i]-1] = s[years_r[i]-1][district_r[i]-1][times_r[i]-1][days_r[i]-1][types_r[i]-1] + 1\n",
    "    for i in range(num_years):\n",
    "        for j in range(num_districts):\n",
    "            for k in range(num_time_range):\n",
    "                for l in range(num_days):\n",
    "                    for m in range(num_type):\n",
    "                        if(s[i][j][k][l][m]!=0):\n",
    "                            for n in range(num_months):\n",
    "                                a[i][j][k][l][m][n] = a[i][j][k][l][m][n] / s[i][j][k][l][m]  \n",
    "    \n",
    "    g = np.zeros(())\n",
    "    h = np.zeros(())\n",
    "    i = np.zeros(())\n",
    "    j = np.zeros(())\n",
    "    \n",
    "model(set1,set2)"
   ]
  },
  {
   "cell_type": "code",
   "execution_count": 134,
   "metadata": {},
   "outputs": [],
   "source": [
    "# models\n",
    "def bayesian_formula(a,b,c):\n",
    "    for i in range(6):\n",
    "        for j in range(c):\n",
    "            a[i][j] = a[i][j] * b[i]\n",
    "    return a\n",
    "\n",
    "def type_prob(a,b):\n",
    "    for i in range(6):\n",
    "        s = np.sum(a[i])\n",
    "        for j in range(b):\n",
    "            a[i][j] = a[i][j] / s\n",
    "    return a\n",
    "\n",
    "def find_matrix(a,b,c,d):\n",
    "    t = np.zeros((d,6))\n",
    "    for i in range(len(a)):\n",
    "        t[a[i]-1][b[i]-1] = t[a[i]-1][b[i]-1] + 1\n",
    "    t = np.transpose(t)\n",
    "    t = type_prob(t,d)\n",
    "    t = bayesian_formula(t,c,d)\n",
    "    return t\n",
    "\n",
    "def count(a,b):\n",
    "    ty = np.zeros(b)\n",
    "    for i in range(len(a)):\n",
    "        ty[int(a[i])-1] = ty[int(a[i])-1] + 1\n",
    "    return ty\n",
    "\n",
    "def correlation_coefficient(a,b):\n",
    "    s = 0\n",
    "    s_a = 0\n",
    "    s_b = 0\n",
    "    t_a = 0\n",
    "    t_b = 0\n",
    "    for i in range(len(a)):\n",
    "        s = s + a[i]*b[i]\n",
    "        s_a = s_a + a[i]\n",
    "        s_b = s_b + b[i]\n",
    "        t_a = t_a + (a[i]*a[i])\n",
    "        t_b = t_b + (b[i]*b[i])\n",
    "    num = s*len(a) - (s_a*s_b) \n",
    "    g = t_a*len(a) - s_a*s_a\n",
    "    h = t_b*len(b) - s_b*s_b\n",
    "    den = math.sqrt(g) * math.sqrt(h)\n",
    "    return round(num/den,2)\n",
    "\n",
    "def calculate_accuracy(t,y_out):\n",
    "    c =0 \n",
    "    for i in range(len(t)):\n",
    "        if(t[i]==y_out[i]):\n",
    "            c = c + 1\n",
    "    return round(c/len(t),2)\n",
    "\n",
    "def find_ans(train_d,test_d):\n",
    "    \n",
    "    train_m_d = train_d[train_d.columns[4]].values\n",
    "    train_n_d = train_d[train_d.columns[8]].values\n",
    "    train_c_d = train_d[train_d.columns[3]].values\n",
    "    train_d_d = train_d[train_d.columns[5]].values\n",
    "    train_t_d = train_d[train_d.columns[6]].values\n",
    "    train_y_d = train_d[train_d.columns[7]].values\n",
    "    test_m_d = test_d[test_d.columns[4]].values\n",
    "    test_n_d = test_d[test_d.columns[8]].values\n",
    "    test_c_d = test_d[test_d.columns[3]].values\n",
    "    test_d_d = test_d[test_d.columns[5]].values\n",
    "    test_t_d = test_d[test_d.columns[6]].values\n",
    "    test_y_d = test_d[test_d.columns[7]].values\n",
    "        \n",
    "    prob_m_d = prob(count(train_m_d,12))\n",
    "    prob_n_d = prob(count(train_n_d,78))\n",
    "    prob_c_d = prob(count(train_c_d,6))\n",
    "    prob_d_d = prob(count(train_d_d,7))\n",
    "    prob_t_d = prob(count(train_t_d,6))\n",
    "    prob_y_d = prob(count(train_y_d,6))\n",
    "    \n",
    "    month_type_d = find_matrix(train_m_d,train_c_d,prob_c_d,12)\n",
    "    day_type_d = find_matrix(train_d_d,train_c_d,prob_c_d,7)\n",
    "    time_type_d = find_matrix(train_t_d,train_c_d,prob_c_d,6)\n",
    "    n_type_d = find_matrix(train_n_d,train_c_d,prob_c_d,78)\n",
    "    y_type_d = find_matrix(train_y_d,train_c_d,prob_c_d,6)\n",
    "    \n",
    "    c_m = correlation_coefficient(train_m_d,train_c_d)\n",
    "    c_n = correlation_coefficient(train_n_d,train_c_d)\n",
    "    c_t = correlation_coefficient(train_t_d,train_c_d)\n",
    "    c_d = correlation_coefficient(train_d_d,train_c_d)\n",
    "    c_y = correlation_coefficient(train_y_d,train_c_d)\n",
    "    \n",
    "    c = np.zeros(6)\n",
    "    test_results = []\n",
    "    for i in range(len(test_m_d)):\n",
    "        maxi = 0\n",
    "        for j in range(6):\n",
    "            k = month_type_d[j][test_m_d[i]-1]*time_type_d[j][test_t_d[i]-1]*day_type_d[j][test_d_d[i]-1]*n_type_d[j][test_n_d[i]-1]\n",
    "            if(maxi<k):\n",
    "                maxi = k\n",
    "                ans = j+1\n",
    "        test_results.append(ans)\n",
    "        c[ans-1] = c[ans-1] + 1\n",
    "        \n",
    "    return  calculate_accuracy(test_results,test_c_d)\n",
    "\n",
    "\n",
    "def input_output(train_d,test_d):\n",
    "    x_in = train_d.iloc[:,4:].as_matrix(columns=None)\n",
    "    y_in = train_d.iloc[:,3].values\n",
    "    y_in = y_in.astype('int')\n",
    "    x_out = test_d.iloc[:,4:].as_matrix(columns=None)\n",
    "    y_out = test_d.iloc[:,3].values\n",
    "    y_out = y_out.astype('int')\n",
    "    return x_in,y_in,x_out,y_out\n",
    "\n",
    "def inbuilt1(train_d,test_d):\n",
    "\n",
    "    x_in,y_in,x_out,y_out = input_output(train_d,test_d)\n",
    "    \n",
    "    clf = MultinomialNB()\n",
    "    clf.fit(x_in,y_in)\n",
    "    t = clf.predict(x_out)\n",
    "\n",
    "    return calculate_accuracy(t,y_out)\n",
    "\n",
    "def inbuilt2(train_d,test_d):\n",
    "    \n",
    "    x_in,y_in,x_out,y_out = input_output(train_d,test_d)\n",
    "    \n",
    "    clf = GaussianNB()\n",
    "    clf.fit(x_in,y_in)\n",
    "    t = clf.predict(x_out)\n",
    "\n",
    "    return calculate_accuracy(t,y_out)\n",
    "\n",
    "def inbuilt3(train_d,test_d):\n",
    "\n",
    "    x_in,y_in,x_out,y_out = input_output(train_d,test_d)\n",
    "    \n",
    "    clf = BernoulliNB()\n",
    "    clf.fit(x_in,y_in)\n",
    "    t = clf.predict(x_out)\n",
    "\n",
    "    return calculate_accuracy(t,y_out)"
   ]
  },
  {
   "cell_type": "code",
   "execution_count": 135,
   "metadata": {},
   "outputs": [
    {
     "data": {
      "text/plain": [
       "(0.42, 0.35, 0.4, 0.4)"
      ]
     },
     "execution_count": 135,
     "metadata": {},
     "output_type": "execute_result"
    }
   ],
   "source": [
    "set1 = data_d.iloc[0:72463]\n",
    "set2 = data_d.iloc[72463:144926]\n",
    "set3 = data_d.iloc[144926:217389]\n",
    "set4 = data_d.iloc[217389:289852]\n",
    "set5 = data_d.iloc[289852:]\n",
    "\n",
    "ans = []\n",
    "inbuilt1_ans = []\n",
    "inbuilt2_ans = []\n",
    "inbuilt3_ans = []\n",
    "\n",
    "def find(a,b,c,d,e):\n",
    "    return pd.concat([a,b,c,d]) , e\n",
    "\n",
    "train_d , test_d = find(set1 , set2 , set3 ,set4 , set5)\n",
    "ans.append(find_ans(train_d,test_d))\n",
    "inbuilt1_ans.append(inbuilt1(train_d,test_d))\n",
    "inbuilt2_ans.append(inbuilt2(train_d,test_d))\n",
    "inbuilt3_ans.append(inbuilt3(train_d,test_d))\n",
    "\n",
    "train_d , test_d = find(set5 , set2 , set3 ,set4 , set1)\n",
    "ans.append(find_ans(train_d,test_d))\n",
    "inbuilt1_ans.append(inbuilt1(train_d,test_d))\n",
    "inbuilt2_ans.append(inbuilt2(train_d,test_d))\n",
    "inbuilt3_ans.append(inbuilt3(train_d,test_d))\n",
    "\n",
    "train_d , test_d = find(set5 , set1 , set3 ,set4 , set2)\n",
    "ans.append(find_ans(train_d,test_d))\n",
    "inbuilt1_ans.append(inbuilt1(train_d,test_d))\n",
    "inbuilt2_ans.append(inbuilt2(train_d,test_d))\n",
    "inbuilt3_ans.append(inbuilt3(train_d,test_d))\n",
    "\n",
    "train_d , test_d = find(set5 , set1 , set2 ,set4 , set3)\n",
    "ans.append(find_ans(train_d,test_d))\n",
    "inbuilt1_ans.append(inbuilt1(train_d,test_d))\n",
    "inbuilt2_ans.append(inbuilt2(train_d,test_d))\n",
    "inbuilt3_ans.append(inbuilt3(train_d,test_d))\n",
    "\n",
    "train_d ,test_d = find(set5 , set1 , set3 ,set2 , set4)\n",
    "ans.append(find_ans(train_d,test_d))\n",
    "inbuilt1_ans.append(inbuilt1(train_d,test_d))\n",
    "inbuilt2_ans.append(inbuilt2(train_d,test_d))\n",
    "inbuilt3_ans.append(inbuilt3(train_d,test_d))\n",
    "\n",
    "round(np.mean(ans),2) , round(np.mean(inbuilt1_ans),2) , round(np.mean(inbuilt2_ans),2) , round(np.mean(inbuilt3_ans),2)"
   ]
  },
  {
   "cell_type": "markdown",
   "metadata": {},
   "source": [
    "Inferences :\n",
    "1. On applying Naives Bayes model which I created from scratch; accuracy is found to be highest (although it is 41% only) compared to inbuilt Gaussian , Multinomial and Bernoulli Naive Bayes Model\n",
    "\n",
    "Probable reasons for such an inferences :\n",
    "1. To state an answer to this inference we need to dig into the working of Gaussian , Multinomial and Bernoulli algorithms\n",
    "    1. GaussianNB Algortithm works when data is generated in a Gaussian manner.\n",
    "    2. MultinomialNB Algorithm works when features are fed in as frequencies.\n",
    "    3. BernouilleNB suits for independent features working and hence best suits the approcah with which I worked.\n",
    "\n",
    "Drawbacks :\n",
    "The drawback in applying this algorithm lies with the basic drawback of algorithm that features cannot be considered totally independent of each other and dependence on each of the events is not equally likely as for a given set of features : decision of time at which crime occured should have major role to play rather than influence of the year in which crime occured. Moreover skewing of data given to more towards the occurence of theft crime types trains the model in a biased way."
   ]
  },
  {
   "cell_type": "markdown",
   "metadata": {},
   "source": [
    "# Section 3 : Predicting crime occurence\n",
    "\n",
    "### Extrapolation of time series of predicting number of crimes in future"
   ]
  },
  {
   "cell_type": "code",
   "execution_count": 136,
   "metadata": {},
   "outputs": [],
   "source": [
    "c = np.zeros((12,6))\n",
    "for j in range(12):\n",
    "    for i in range(len(months)):\n",
    "        if(months[i]==j+1):\n",
    "            c[j][years[i]-1] = c[j][years[i]-1] + 1\n",
    "c = np.transpose(c)"
   ]
  },
  {
   "cell_type": "code",
   "execution_count": 137,
   "metadata": {
    "scrolled": false
   },
   "outputs": [
    {
     "data": {
      "image/png": "[encoded data removed]",
      "text/plain": [
       "<matplotlib.figure.Figure at 0x118b20e10>"
      ]
     },
     "metadata": {},
     "output_type": "display_data"
    },
    {
     "data": {
      "image/png": "[encoded data removed]",
      "text/plain": [
       "<matplotlib.figure.Figure at 0x11383c358>"
      ]
     },
     "metadata": {},
     "output_type": "display_data"
    },
    {
     "data": {
      "image/png": "[encoded data removed]",
      "text/plain": [
       "<matplotlib.figure.Figure at 0x116f7a978>"
      ]
     },
     "metadata": {},
     "output_type": "display_data"
    },
    {
     "data": {
      "image/png": "[encoded data removed]",
      "text/plain": [
       "<matplotlib.figure.Figure at 0x11ee99ef0>"
      ]
     },
     "metadata": {},
     "output_type": "display_data"
    },
    {
     "data": {
      "image/png": "[encoded data removed]",
      "text/plain": [
       "<matplotlib.figure.Figure at 0x112a59a90>"
      ]
     },
     "metadata": {},
     "output_type": "display_data"
    },
    {
     "data": {
      "image/png": "[encoded data removed]",
      "text/plain": [
       "<matplotlib.figure.Figure at 0x1171a2400>"
      ]
     },
     "metadata": {},
     "output_type": "display_data"
    },
    {
     "data": {
      "image/png": "[encoded data removed]",
      "text/plain": [
       "<matplotlib.figure.Figure at 0x118b204a8>"
      ]
     },
     "metadata": {},
     "output_type": "display_data"
    }
   ],
   "source": [
    "for i in range(6):\n",
    "    plt.plot(c[i][:])\n",
    "    plt.title('Year '+ str(i+2013))\n",
    "    plt.show()\n",
    "plt.plot(c.flatten())\n",
    "plt.show()"
   ]
  },
  {
   "cell_type": "markdown",
   "metadata": {},
   "source": [
    "Time Series Plots :\n",
    "1. The first 6 graphs show the trend of number of crimes during the span of year.\n",
    "2. The last graph shows number of crimes occured during every month, year pair that is combining all the above graphs.\n",
    "3. We can observe that in year 2013, 2014 , 2016 and 2017 maximum crime occurs during 3rd quater of the year.\n",
    "4. We can observe that in year 2015 and 2018 maximum crime occurs during 2nd quater of the year."
   ]
  },
  {
   "cell_type": "markdown",
   "metadata": {},
   "source": [
    "#### Calculating Rolling Mean"
   ]
  },
  {
   "cell_type": "code",
   "execution_count": 138,
   "metadata": {},
   "outputs": [],
   "source": [
    "def add_months(sourcedate,months):\n",
    "    month = sourcedate.month - 1 + months\n",
    "    year = sourcedate.year + month // 12\n",
    "    month = month % 12 + 1\n",
    "    day = min(sourcedate.day,calendar.monthrange(year,month)[1])\n",
    "    return datetime.date(year,month,day)\n",
    "\n",
    "t = c.flatten()\n",
    "ans = datetime.date(2013, 1,1)\n",
    "table = pd.DataFrame(columns=['Date','Value'])\n",
    "for i in range(len(t)):\n",
    "    table.loc[i] = [ans,t[i]]\n",
    "    ans = add_months(ans,1)\n",
    "table['Date'] = pd.to_datetime(table['Date'],infer_datetime_format=True)\n",
    "indexedDataset = table.set_index(['Date'])"
   ]
  },
  {
   "cell_type": "code",
   "execution_count": 139,
   "metadata": {},
   "outputs": [
    {
     "data": {
      "image/png": "[encoded data removed]",
      "text/plain": [
       "<matplotlib.figure.Figure at 0x116259978>"
      ]
     },
     "metadata": {},
     "output_type": "display_data"
    },
    {
     "data": {
      "image/png": "[encoded data removed]",
      "text/plain": [
       "<matplotlib.figure.Figure at 0x107b137b8>"
      ]
     },
     "metadata": {},
     "output_type": "display_data"
    },
    {
     "data": {
      "image/png": "[encoded data removed]",
      "text/plain": [
       "<matplotlib.figure.Figure at 0x1153da198>"
      ]
     },
     "metadata": {},
     "output_type": "display_data"
    }
   ],
   "source": [
    "rolmean = indexedDataset.rolling(window=12).mean()\n",
    "rolstd = indexedDataset.rolling(window=12).std()\n",
    "\n",
    "plt.plot(indexedDataset['Value'],color='green')\n",
    "plt.show()\n",
    "plt.plot(rolmean,color='red')\n",
    "plt.show()\n",
    "plt.plot(rolstd,color='blue')\n",
    "plt.show()"
   ]
  },
  {
   "cell_type": "markdown",
   "metadata": {},
   "source": [
    "Inferences\n",
    "1. We observe that rolling mean drastically changes during the 3rd and 4th quarter of time line series.\n",
    "2. Moereover the value of rolling mean lies between 2000 to 6000 range.\n",
    "3. We observe a sudden decrease in crime at the end of year 2017 and beginning of the year 2018.\n",
    "4. Standard deviation drastically changes at the end of year 2017. This is observed because of sudden change in data values to 0 in that time period.\n",
    "\n",
    "We can infer from above graphs that some kind of anomaly was observed in noting the crimes and storing their values."
   ]
  },
  {
   "cell_type": "code",
   "execution_count": 140,
   "metadata": {},
   "outputs": [
    {
     "name": "stderr",
     "output_type": "stream",
     "text": [
      "/Library/Frameworks/Python.framework/Versions/3.6/lib/python3.6/site-packages/ipykernel_launcher.py:1: RuntimeWarning: divide by zero encountered in log\n",
      "  \"\"\"Entry point for launching an IPython kernel.\n"
     ]
    },
    {
     "data": {
      "image/png": "[encoded data removed]",
      "text/plain": [
       "<matplotlib.figure.Figure at 0x11521d320>"
      ]
     },
     "metadata": {},
     "output_type": "display_data"
    },
    {
     "data": {
      "image/png": "[encoded data removed]",
      "text/plain": [
       "<matplotlib.figure.Figure at 0x115ba7198>"
      ]
     },
     "metadata": {},
     "output_type": "display_data"
    },
    {
     "data": {
      "image/png": "[encoded data removed]",
      "text/plain": [
       "<matplotlib.figure.Figure at 0x11673d9b0>"
      ]
     },
     "metadata": {},
     "output_type": "display_data"
    }
   ],
   "source": [
    "indexedDataset_log = np.log(indexedDataset)\n",
    "\n",
    "rolmean = indexedDataset_log.rolling(window=12).mean()\n",
    "rolstd = indexedDataset_log.rolling(window=12).std()\n",
    "\n",
    "plt.plot(indexedDataset_log['Value'],color='green')\n",
    "plt.show()\n",
    "plt.plot(rolmean,color='red')\n",
    "plt.show()\n",
    "plt.plot(rolstd,color='blue')\n",
    "plt.show()"
   ]
  },
  {
   "cell_type": "code",
   "execution_count": 141,
   "metadata": {},
   "outputs": [
    {
     "data": {
      "image/png": "[encoded data removed]",
      "text/plain": [
       "<matplotlib.figure.Figure at 0x115ba35c0>"
      ]
     },
     "metadata": {},
     "output_type": "display_data"
    },
    {
     "data": {
      "image/png": "[encoded data removed]",
      "text/plain": [
       "<matplotlib.figure.Figure at 0x11ef52ba8>"
      ]
     },
     "metadata": {},
     "output_type": "display_data"
    },
    {
     "data": {
      "image/png": "[encoded data removed]",
      "text/plain": [
       "<matplotlib.figure.Figure at 0x113ab7550>"
      ]
     },
     "metadata": {},
     "output_type": "display_data"
    }
   ],
   "source": [
    "indexedDataset_cbrt = np.cbrt(indexedDataset)\n",
    "\n",
    "rolmean = indexedDataset_cbrt.rolling(window=12).mean()\n",
    "rolstd = indexedDataset_cbrt.rolling(window=12).std()\n",
    "\n",
    "plt.plot(indexedDataset_cbrt['Value'],color='green')\n",
    "plt.show()\n",
    "plt.plot(rolmean,color='red')\n",
    "plt.show()\n",
    "plt.plot(rolstd,color='blue')\n",
    "plt.show()"
   ]
  },
  {
   "cell_type": "code",
   "execution_count": 142,
   "metadata": {},
   "outputs": [
    {
     "data": {
      "image/png": "[encoded data removed]",
      "text/plain": [
       "<matplotlib.figure.Figure at 0x11ef2d3c8>"
      ]
     },
     "metadata": {},
     "output_type": "display_data"
    },
    {
     "data": {
      "image/png": "[encoded data removed]",
      "text/plain": [
       "<matplotlib.figure.Figure at 0x117d96908>"
      ]
     },
     "metadata": {},
     "output_type": "display_data"
    },
    {
     "data": {
      "image/png": "[encoded data removed]",
      "text/plain": [
       "<matplotlib.figure.Figure at 0x118b0def0>"
      ]
     },
     "metadata": {},
     "output_type": "display_data"
    }
   ],
   "source": [
    "indexedDataset_pow = np.power(indexedDataset,1/4)\n",
    "\n",
    "rolmean = indexedDataset_pow.rolling(window=12).mean()\n",
    "rolstd = indexedDataset_pow.rolling(window=12).std()\n",
    "\n",
    "plt.plot(indexedDataset_pow['Value'],color='green')\n",
    "plt.show()\n",
    "plt.plot(rolmean,color='red')\n",
    "plt.show()\n",
    "plt.plot(rolstd,color='blue')\n",
    "plt.show()"
   ]
  },
  {
   "cell_type": "code",
   "execution_count": 143,
   "metadata": {},
   "outputs": [
    {
     "data": {
      "image/png": "[encoded data removed]",
      "text/plain": [
       "<matplotlib.figure.Figure at 0x11ef2d898>"
      ]
     },
     "metadata": {},
     "output_type": "display_data"
    },
    {
     "data": {
      "image/png": "[encoded data removed]",
      "text/plain": [
       "<matplotlib.figure.Figure at 0x115a0af98>"
      ]
     },
     "metadata": {},
     "output_type": "display_data"
    },
    {
     "data": {
      "image/png": "[encoded data removed]",
      "text/plain": [
       "<matplotlib.figure.Figure at 0x116f9af98>"
      ]
     },
     "metadata": {},
     "output_type": "display_data"
    }
   ],
   "source": [
    "indexedDataset_pow = np.power(indexedDataset,1/10)\n",
    "\n",
    "rolmean = indexedDataset_pow.rolling(window=12).mean()\n",
    "rolstd = indexedDataset_pow.rolling(window=12).std()\n",
    "\n",
    "plt.plot(indexedDataset_pow['Value'],color='green')\n",
    "plt.show()\n",
    "plt.plot(rolmean,color='red')\n",
    "plt.show()\n",
    "plt.plot(rolstd,color='blue')\n",
    "plt.show()"
   ]
  },
  {
   "cell_type": "code",
   "execution_count": 144,
   "metadata": {},
   "outputs": [
    {
     "data": {
      "image/png": "[encoded data removed]",
      "text/plain": [
       "<matplotlib.figure.Figure at 0x110ed2b00>"
      ]
     },
     "metadata": {},
     "output_type": "display_data"
    },
    {
     "data": {
      "image/png": "[encoded data removed]",
      "text/plain": [
       "<matplotlib.figure.Figure at 0x115fbad30>"
      ]
     },
     "metadata": {},
     "output_type": "display_data"
    },
    {
     "data": {
      "image/png": "[encoded data removed]",
      "text/plain": [
       "<matplotlib.figure.Figure at 0x113b05b70>"
      ]
     },
     "metadata": {},
     "output_type": "display_data"
    }
   ],
   "source": [
    "indexedDataset_pow = np.power(indexedDataset,1/20)\n",
    "\n",
    "rolmean = indexedDataset_pow.rolling(window=12).mean()\n",
    "rolstd = indexedDataset_pow.rolling(window=12).std()\n",
    "\n",
    "plt.plot(indexedDataset_pow['Value'],color='green')\n",
    "plt.show()\n",
    "plt.plot(rolmean,color='red')\n",
    "plt.show()\n",
    "plt.plot(rolstd,color='blue')\n",
    "plt.show()"
   ]
  },
  {
   "cell_type": "code",
   "execution_count": 145,
   "metadata": {},
   "outputs": [
    {
     "name": "stderr",
     "output_type": "stream",
     "text": [
      "/Library/Frameworks/Python.framework/Versions/3.6/lib/python3.6/site-packages/ipykernel_launcher.py:1: FutureWarning: 'pandas.tools.plotting.autocorrelation_plot' is deprecated, import 'pandas.plotting.autocorrelation_plot' instead.\n",
      "  \"\"\"Entry point for launching an IPython kernel.\n"
     ]
    },
    {
     "data": {
      "image/png": "[encoded data removed]",
      "text/plain": [
       "<matplotlib.figure.Figure at 0x11673d550>"
      ]
     },
     "metadata": {},
     "output_type": "display_data"
    }
   ],
   "source": [
    "autocorrelation_plot(indexedDataset)\n",
    "plt.show()"
   ]
  },
  {
   "cell_type": "markdown",
   "metadata": {},
   "source": [
    "Knowing the autocorrelation values :\n",
    "1. We find that values observes are mostly negative and sometimes tend to go to 0. As observed in the last part of the data plot"
   ]
  },
  {
   "cell_type": "code",
   "execution_count": 146,
   "metadata": {},
   "outputs": [
    {
     "name": "stderr",
     "output_type": "stream",
     "text": [
      "/Library/Frameworks/Python.framework/Versions/3.6/lib/python3.6/site-packages/statsmodels/tsa/base/tsa_model.py:171: ValueWarning: No frequency information was provided, so inferred frequency MS will be used.\n",
      "  % freq, ValueWarning)\n",
      "/Library/Frameworks/Python.framework/Versions/3.6/lib/python3.6/site-packages/statsmodels/tsa/base/tsa_model.py:171: ValueWarning: No frequency information was provided, so inferred frequency MS will be used.\n",
      "  % freq, ValueWarning)\n"
     ]
    },
    {
     "name": "stdout",
     "output_type": "stream",
     "text": [
      "                             ARIMA Model Results                              \n",
      "==============================================================================\n",
      "Dep. Variable:                D.Value   No. Observations:                   71\n",
      "Model:                ARIMA(10, 1, 0)   Log Likelihood                -570.799\n",
      "Method:                       css-mle   S.D. of innovations            738.929\n",
      "Date:                Thu, 04 Oct 2018   AIC                           1165.598\n",
      "Time:                        17:53:47   BIC                           1192.750\n",
      "Sample:                    02-01-2013   HQIC                          1176.396\n",
      "                         - 12-01-2018                                         \n",
      "==================================================================================\n",
      "                     coef    std err          z      P>|z|      [0.025      0.975]\n",
      "----------------------------------------------------------------------------------\n",
      "const            -11.6064     48.207     -0.241      0.811    -106.091      82.878\n",
      "ar.L1.D.Value      0.0998      0.118      0.846      0.401      -0.131       0.331\n",
      "ar.L2.D.Value     -0.1762      0.120     -1.471      0.147      -0.411       0.059\n",
      "ar.L3.D.Value      0.1049      0.108      0.970      0.336      -0.107       0.317\n",
      "ar.L4.D.Value     -0.4796      0.108     -4.426      0.000      -0.692      -0.267\n",
      "ar.L5.D.Value      0.1346      0.119      1.130      0.263      -0.099       0.368\n",
      "ar.L6.D.Value     -0.2325      0.118     -1.968      0.054      -0.464      -0.001\n",
      "ar.L7.D.Value      0.0979      0.106      0.923      0.360      -0.110       0.306\n",
      "ar.L8.D.Value     -0.4200      0.105     -3.995      0.000      -0.626      -0.214\n",
      "ar.L9.D.Value      0.0713      0.116      0.612      0.543      -0.157       0.300\n",
      "ar.L10.D.Value    -0.1040      0.115     -0.900      0.371      -0.330       0.122\n",
      "                                    Roots                                     \n",
      "==============================================================================\n",
      "                   Real          Imaginary           Modulus         Frequency\n",
      "------------------------------------------------------------------------------\n",
      "AR.1            -0.9228           -0.5333j            1.0658           -0.4166\n",
      "AR.2            -0.9228           +0.5333j            1.0658            0.4166\n",
      "AR.3            -0.5314           -1.0166j            1.1472           -0.3267\n",
      "AR.4            -0.5314           +1.0166j            1.1472            0.3267\n",
      "AR.5             0.9934           -0.5011j            1.1127           -0.0744\n",
      "AR.6             0.9934           +0.5011j            1.1127            0.0744\n",
      "AR.7             0.5590           -1.0461j            1.1860           -0.1719\n",
      "AR.8             0.5590           +1.0461j            1.1860            0.1719\n",
      "AR.9             0.2448           -1.9063j            1.9219           -0.2297\n",
      "AR.10            0.2448           +1.9063j            1.9219            0.2297\n",
      "------------------------------------------------------------------------------\n"
     ]
    },
    {
     "data": {
      "image/png": "[encoded data removed]",
      "text/plain": [
       "<matplotlib.figure.Figure at 0x1168a10b8>"
      ]
     },
     "metadata": {},
     "output_type": "display_data"
    },
    {
     "data": {
      "image/png": "[encoded data removed]",
      "text/plain": [
       "<matplotlib.figure.Figure at 0x113857cf8>"
      ]
     },
     "metadata": {},
     "output_type": "display_data"
    },
    {
     "name": "stdout",
     "output_type": "stream",
     "text": [
      "                 0\n",
      "count    71.000000\n",
      "mean     12.702564\n",
      "std     749.465718\n",
      "min   -4675.955420\n",
      "25%    -268.413779\n",
      "50%      18.830736\n",
      "75%     386.364753\n",
      "max    1659.735351\n"
     ]
    }
   ],
   "source": [
    "model = ARIMA(indexedDataset, order=(10,1,0))\n",
    "model_fit = model.fit()\n",
    "print(model_fit.summary())\n",
    "# plot residual errors\n",
    "residuals = pd.DataFrame(model_fit.resid)\n",
    "residuals.plot()\n",
    "plt.show()\n",
    "residuals.plot(kind='kde')\n",
    "plt.show()\n",
    "print(residuals.describe())"
   ]
  },
  {
   "cell_type": "code",
   "execution_count": null,
   "metadata": {},
   "outputs": [],
   "source": []
  }
 ],
 "metadata": {
  "kernelspec": {
   "display_name": "Python 3",
   "language": "python",
   "name": "python3"
  },
  "language_info": {
   "codemirror_mode": {
    "name": "ipython",
    "version": 3
   },
   "file_extension": ".py",
   "mimetype": "text/x-python",
   "name": "python",
   "nbconvert_exporter": "python",
   "pygments_lexer": "ipython3",
   "version": "3.6.0"
  }
 },
 "nbformat": 4,
 "nbformat_minor": 2
}
